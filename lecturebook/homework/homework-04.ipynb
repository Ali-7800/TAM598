{
  "cells": [
    {
      "cell_type": "markdown",
      "metadata": {
        "id": "Dl6HvG0brNhI"
      },
      "source": [
        "# Homework 4\n",
        "\n",
        "## References\n",
        "\n",
        "+ Lectures 13-16 (inclusive).\n",
        "\n",
        "\n",
        "## Instructions\n",
        "\n",
        "+ Type your name and email in the \"Student details\" section below.\n",
        "+ Develop the code and generate the figures you need to solve the problems using this notebook.\n",
        "+ For the answers that require a mathematical proof or derivation you should type them using latex. If you have never written latex before and you find it exceedingly difficult, we will likely accept handwritten solutions.\n",
        "+ The total homework points are 100. Please note that the problems are not weighed equally."
      ]
    },
    {
      "cell_type": "code",
      "execution_count": 1,
      "metadata": {
        "tags": [
          "hide-input"
        ],
        "id": "Pa6tQyztrNhI"
      },
      "outputs": [],
      "source": [
        "import numpy as np\n",
        "import matplotlib.pyplot as plt\n",
        "%matplotlib inline\n",
        "import matplotlib_inline\n",
        "matplotlib_inline.backend_inline.set_matplotlib_formats('svg')\n",
        "import seaborn as sns\n",
        "sns.set_context(\"paper\")\n",
        "sns.set_style(\"ticks\")\n",
        "\n",
        "import scipy\n",
        "import scipy.stats as st\n",
        "import urllib.request\n",
        "import os\n",
        "\n",
        "def download(\n",
        "    url : str,\n",
        "    local_filename : str = None\n",
        "):\n",
        "    \"\"\"Download a file from a url.\n",
        "\n",
        "    Arguments\n",
        "    url            -- The url we want to download.\n",
        "    local_filename -- The filemame to write on. If not\n",
        "                      specified\n",
        "    \"\"\"\n",
        "    if local_filename is None:\n",
        "        local_filename = os.path.basename(url)\n",
        "    urllib.request.urlretrieve(url, local_filename)"
      ]
    },
    {
      "cell_type": "markdown",
      "metadata": {
        "id": "kWBMBucMrNhJ"
      },
      "source": [
        "## Student details\n",
        "\n",
        "+ **First Name: Ali Ibrahim A**\n",
        "+ **Last Name: Albazroun**\n",
        "+ **Email: aia@illinois.edu**"
      ]
    },
    {
      "cell_type": "markdown",
      "metadata": {
        "id": "KR0ldMUHrNhJ"
      },
      "source": [
        "# Problem 1 - Estimating the mechanical properties of a plastic material from molecular dynamics simulations"
      ]
    },
    {
      "cell_type": "markdown",
      "metadata": {
        "id": "M7Mu0nIQrNhJ"
      },
      "source": [
        "First, make sure that [this](https://raw.githubusercontent.com/PredictiveScienceLab/data-analytics-se/master/homework/stress_strain.txt) dataset is visible from this Jupyter notebook.\n",
        "You may achieve this by either:\n",
        "\n",
        "+ Downloading the data file and then manually upload it on Google Colab. The easiest way is to click on the folder icon on the left of the browser window and click on the upload button (or drag and drop the file). Some other options are [here](https://colab.research.google.com/notebooks/io.ipynb).\n",
        "+ Downloading the file to the working directory of this notebook with this code:"
      ]
    },
    {
      "cell_type": "code",
      "execution_count": 2,
      "metadata": {
        "id": "R0bIAetsrNhJ"
      },
      "outputs": [],
      "source": [
        "url = \"https://github.com/PredictiveScienceLab/data-analytics-se/raw/master/lecturebook/data/stress_strain.txt\"\n",
        "download(url)"
      ]
    },
    {
      "cell_type": "markdown",
      "metadata": {
        "id": "c3-uL9ExrNhJ"
      },
      "source": [
        "It's up to you what you choose to do.\n",
        "If the file is in the right place, the following code should work:"
      ]
    },
    {
      "cell_type": "code",
      "execution_count": 3,
      "metadata": {
        "id": "rzF0p357rNhJ"
      },
      "outputs": [],
      "source": [
        "data =  np.loadtxt('stress_strain.txt')"
      ]
    },
    {
      "cell_type": "markdown",
      "metadata": {
        "id": "MdVySIkRrNhJ"
      },
      "source": [
        "The dataset was generated using a molecular dynamics simulation of a plastic material (thanks to [Professor Alejandro Strachan](https://engineering.purdue.edu/MSE/people/ptProfile?id=33239) for sharing the data!).\n",
        "Specifically, Strachan's group did the following:\n",
        "- They took a rectangular chunk of the material and marked the position of each one of its atoms;\n",
        "- They started applying a tensile force along one dimension.\n",
        "The atoms are coupled together through electromagnetic forces, and they must all satisfy Newton's law of motion.\n",
        "- For each value of the applied tensile force, they marked the stress (force be unit area) in the middle of the material and the corresponding strain of the material (percent elongation in the pulling direction).\n",
        "- Eventually, the material entered the plastic regime and broke.\n",
        "Here is a visualization of the data:"
      ]
    },
    {
      "cell_type": "code",
      "execution_count": 4,
      "metadata": {
        "tags": [
          "hide-input"
        ],
        "id": "pVkrPsN9rNhK",
        "outputId": "5c7b8462-96e9-4fbd-9472-57b8341bd5a3",
        "colab": {
          "base_uri": "https://localhost:8080/",
          "height": 435
        }
      },
      "outputs": [
        {
          "output_type": "display_data",
          "data": {
            "text/plain": [
              "<Figure size 640x480 with 1 Axes>"
            ],
            "image/svg+xml": "<?xml version=\"1.0\" encoding=\"utf-8\" standalone=\"no\"?>\n<!DOCTYPE svg PUBLIC \"-//W3C//DTD SVG 1.1//EN\"\n  \"http://www.w3.org/Graphics/SVG/1.1/DTD/svg11.dtd\">\n<svg xmlns:xlink=\"http://www.w3.org/1999/xlink\" width=\"409.908pt\" height=\"310.61975pt\" viewBox=\"0 0 409.908 310.61975\" xmlns=\"http://www.w3.org/2000/svg\" version=\"1.1\">\n <metadata>\n  <rdf:RDF xmlns:dc=\"http://purl.org/dc/elements/1.1/\" xmlns:cc=\"http://creativecommons.org/ns#\" xmlns:rdf=\"http://www.w3.org/1999/02/22-rdf-syntax-ns#\">\n   <cc:Work>\n    <dc:type rdf:resource=\"http://purl.org/dc/dcmitype/StillImage\"/>\n    <dc:date>2025-03-28T16:55:10.637461</dc:date>\n    <dc:format>image/svg+xml</dc:format>\n    <dc:creator>\n     <cc:Agent>\n      <dc:title>Matplotlib v3.10.0, https://matplotlib.org/</dc:title>\n     </cc:Agent>\n    </dc:creator>\n   </cc:Work>\n  </rdf:RDF>\n </metadata>\n <defs>\n  <style type=\"text/css\">*{stroke-linejoin: round; stroke-linecap: butt}</style>\n </defs>\n <g id=\"figure_1\">\n  <g id=\"patch_1\">\n   <path d=\"M 0 310.61975 \nL 409.908 310.61975 \nL 409.908 0 \nL 0 0 \nz\n\" style=\"fill: #ffffff\"/>\n  </g>\n  <g id=\"axes_1\">\n   <g id=\"patch_2\">\n    <path d=\"M 45.588 273.312 \nL 402.708 273.312 \nL 402.708 7.2 \nL 45.588 7.2 \nz\n\" style=\"fill: #ffffff\"/>\n   </g>\n   <g id=\"matplotlib.axis_1\">\n    <g id=\"xtick_1\">\n     <g id=\"line2d_1\">\n      <defs>\n       <path id=\"m66d5f7d82a\" d=\"M 0 0 \nL 0 4.8 \n\" style=\"stroke: #262626\"/>\n      </defs>\n      <g>\n       <use xlink:href=\"#m66d5f7d82a\" x=\"61.820727\" y=\"273.312\" style=\"fill: #262626; stroke: #262626\"/>\n      </g>\n     </g>\n     <g id=\"text_1\">\n      <!-- 0.00 -->\n      <g style=\"fill: #262626\" transform=\"translate(52.023852 288.298625) scale(0.088 -0.088)\">\n       <defs>\n        <path id=\"DejaVuSans-30\" d=\"M 2034 4250 \nQ 1547 4250 1301 3770 \nQ 1056 3291 1056 2328 \nQ 1056 1369 1301 889 \nQ 1547 409 2034 409 \nQ 2525 409 2770 889 \nQ 3016 1369 3016 2328 \nQ 3016 3291 2770 3770 \nQ 2525 4250 2034 4250 \nz\nM 2034 4750 \nQ 2819 4750 3233 4129 \nQ 3647 3509 3647 2328 \nQ 3647 1150 3233 529 \nQ 2819 -91 2034 -91 \nQ 1250 -91 836 529 \nQ 422 1150 422 2328 \nQ 422 3509 836 4129 \nQ 1250 4750 2034 4750 \nz\n\" transform=\"scale(0.015625)\"/>\n        <path id=\"DejaVuSans-2e\" d=\"M 684 794 \nL 1344 794 \nL 1344 0 \nL 684 0 \nL 684 794 \nz\n\" transform=\"scale(0.015625)\"/>\n       </defs>\n       <use xlink:href=\"#DejaVuSans-30\"/>\n       <use xlink:href=\"#DejaVuSans-2e\" transform=\"translate(63.623047 0)\"/>\n       <use xlink:href=\"#DejaVuSans-30\" transform=\"translate(95.410156 0)\"/>\n       <use xlink:href=\"#DejaVuSans-30\" transform=\"translate(159.033203 0)\"/>\n      </g>\n     </g>\n    </g>\n    <g id=\"xtick_2\">\n     <g id=\"line2d_2\">\n      <g>\n       <use xlink:href=\"#m66d5f7d82a\" x=\"126.341426\" y=\"273.312\" style=\"fill: #262626; stroke: #262626\"/>\n      </g>\n     </g>\n     <g id=\"text_2\">\n      <!-- 0.05 -->\n      <g style=\"fill: #262626\" transform=\"translate(116.544551 288.298625) scale(0.088 -0.088)\">\n       <defs>\n        <path id=\"DejaVuSans-35\" d=\"M 691 4666 \nL 3169 4666 \nL 3169 4134 \nL 1269 4134 \nL 1269 2991 \nQ 1406 3038 1543 3061 \nQ 1681 3084 1819 3084 \nQ 2600 3084 3056 2656 \nQ 3513 2228 3513 1497 \nQ 3513 744 3044 326 \nQ 2575 -91 1722 -91 \nQ 1428 -91 1123 -41 \nQ 819 9 494 109 \nL 494 744 \nQ 775 591 1075 516 \nQ 1375 441 1709 441 \nQ 2250 441 2565 725 \nQ 2881 1009 2881 1497 \nQ 2881 1984 2565 2268 \nQ 2250 2553 1709 2553 \nQ 1456 2553 1204 2497 \nQ 953 2441 691 2322 \nL 691 4666 \nz\n\" transform=\"scale(0.015625)\"/>\n       </defs>\n       <use xlink:href=\"#DejaVuSans-30\"/>\n       <use xlink:href=\"#DejaVuSans-2e\" transform=\"translate(63.623047 0)\"/>\n       <use xlink:href=\"#DejaVuSans-30\" transform=\"translate(95.410156 0)\"/>\n       <use xlink:href=\"#DejaVuSans-35\" transform=\"translate(159.033203 0)\"/>\n      </g>\n     </g>\n    </g>\n    <g id=\"xtick_3\">\n     <g id=\"line2d_3\">\n      <g>\n       <use xlink:href=\"#m66d5f7d82a\" x=\"190.862125\" y=\"273.312\" style=\"fill: #262626; stroke: #262626\"/>\n      </g>\n     </g>\n     <g id=\"text_3\">\n      <!-- 0.10 -->\n      <g style=\"fill: #262626\" transform=\"translate(181.06525 288.298625) scale(0.088 -0.088)\">\n       <defs>\n        <path id=\"DejaVuSans-31\" d=\"M 794 531 \nL 1825 531 \nL 1825 4091 \nL 703 3866 \nL 703 4441 \nL 1819 4666 \nL 2450 4666 \nL 2450 531 \nL 3481 531 \nL 3481 0 \nL 794 0 \nL 794 531 \nz\n\" transform=\"scale(0.015625)\"/>\n       </defs>\n       <use xlink:href=\"#DejaVuSans-30\"/>\n       <use xlink:href=\"#DejaVuSans-2e\" transform=\"translate(63.623047 0)\"/>\n       <use xlink:href=\"#DejaVuSans-31\" transform=\"translate(95.410156 0)\"/>\n       <use xlink:href=\"#DejaVuSans-30\" transform=\"translate(159.033203 0)\"/>\n      </g>\n     </g>\n    </g>\n    <g id=\"xtick_4\">\n     <g id=\"line2d_4\">\n      <g>\n       <use xlink:href=\"#m66d5f7d82a\" x=\"255.382824\" y=\"273.312\" style=\"fill: #262626; stroke: #262626\"/>\n      </g>\n     </g>\n     <g id=\"text_4\">\n      <!-- 0.15 -->\n      <g style=\"fill: #262626\" transform=\"translate(245.585949 288.298625) scale(0.088 -0.088)\">\n       <use xlink:href=\"#DejaVuSans-30\"/>\n       <use xlink:href=\"#DejaVuSans-2e\" transform=\"translate(63.623047 0)\"/>\n       <use xlink:href=\"#DejaVuSans-31\" transform=\"translate(95.410156 0)\"/>\n       <use xlink:href=\"#DejaVuSans-35\" transform=\"translate(159.033203 0)\"/>\n      </g>\n     </g>\n    </g>\n    <g id=\"xtick_5\">\n     <g id=\"line2d_5\">\n      <g>\n       <use xlink:href=\"#m66d5f7d82a\" x=\"319.903523\" y=\"273.312\" style=\"fill: #262626; stroke: #262626\"/>\n      </g>\n     </g>\n     <g id=\"text_5\">\n      <!-- 0.20 -->\n      <g style=\"fill: #262626\" transform=\"translate(310.106648 288.298625) scale(0.088 -0.088)\">\n       <defs>\n        <path id=\"DejaVuSans-32\" d=\"M 1228 531 \nL 3431 531 \nL 3431 0 \nL 469 0 \nL 469 531 \nQ 828 903 1448 1529 \nQ 2069 2156 2228 2338 \nQ 2531 2678 2651 2914 \nQ 2772 3150 2772 3378 \nQ 2772 3750 2511 3984 \nQ 2250 4219 1831 4219 \nQ 1534 4219 1204 4116 \nQ 875 4013 500 3803 \nL 500 4441 \nQ 881 4594 1212 4672 \nQ 1544 4750 1819 4750 \nQ 2544 4750 2975 4387 \nQ 3406 4025 3406 3419 \nQ 3406 3131 3298 2873 \nQ 3191 2616 2906 2266 \nQ 2828 2175 2409 1742 \nQ 1991 1309 1228 531 \nz\n\" transform=\"scale(0.015625)\"/>\n       </defs>\n       <use xlink:href=\"#DejaVuSans-30\"/>\n       <use xlink:href=\"#DejaVuSans-2e\" transform=\"translate(63.623047 0)\"/>\n       <use xlink:href=\"#DejaVuSans-32\" transform=\"translate(95.410156 0)\"/>\n       <use xlink:href=\"#DejaVuSans-30\" transform=\"translate(159.033203 0)\"/>\n      </g>\n     </g>\n    </g>\n    <g id=\"xtick_6\">\n     <g id=\"line2d_6\">\n      <g>\n       <use xlink:href=\"#m66d5f7d82a\" x=\"384.424222\" y=\"273.312\" style=\"fill: #262626; stroke: #262626\"/>\n      </g>\n     </g>\n     <g id=\"text_6\">\n      <!-- 0.25 -->\n      <g style=\"fill: #262626\" transform=\"translate(374.627347 288.298625) scale(0.088 -0.088)\">\n       <use xlink:href=\"#DejaVuSans-30\"/>\n       <use xlink:href=\"#DejaVuSans-2e\" transform=\"translate(63.623047 0)\"/>\n       <use xlink:href=\"#DejaVuSans-32\" transform=\"translate(95.410156 0)\"/>\n       <use xlink:href=\"#DejaVuSans-35\" transform=\"translate(159.033203 0)\"/>\n      </g>\n     </g>\n    </g>\n    <g id=\"text_7\">\n     <!-- $\\epsilon$ (strain in %) -->\n     <g style=\"fill: #262626\" transform=\"translate(190.596 301.42325) scale(0.096 -0.096)\">\n      <defs>\n       <path id=\"DejaVuSans-Oblique-3b5\" d=\"M 1263 1888 \nQ 925 1963 778 2166 \nQ 669 2309 669 2503 \nQ 669 3034 1175 3344 \nQ 1575 3588 2188 3588 \nQ 2425 3588 2684 3550 \nQ 2944 3513 3234 3438 \nL 3134 2916 \nQ 2847 3006 2606 3047 \nQ 2359 3088 2138 3088 \nQ 1766 3088 1522 2944 \nQ 1228 2772 1228 2522 \nQ 1228 2356 1381 2241 \nQ 1563 2103 1925 2103 \nL 2409 2103 \nL 2319 1628 \nL 1856 1628 \nQ 1425 1628 1172 1469 \nQ 828 1253 828 916 \nQ 828 703 1013 563 \nQ 1244 388 1716 388 \nQ 2006 388 2284 444 \nQ 2563 503 2806 619 \nL 2700 84 \nQ 2403 -3 2131 -47 \nQ 1859 -91 1609 -91 \nQ 866 -91 516 194 \nQ 250 413 250 781 \nQ 250 1278 600 1584 \nQ 859 1813 1263 1888 \nz\n\" transform=\"scale(0.015625)\"/>\n       <path id=\"DejaVuSans-20\" transform=\"scale(0.015625)\"/>\n       <path id=\"DejaVuSans-28\" d=\"M 1984 4856 \nQ 1566 4138 1362 3434 \nQ 1159 2731 1159 2009 \nQ 1159 1288 1364 580 \nQ 1569 -128 1984 -844 \nL 1484 -844 \nQ 1016 -109 783 600 \nQ 550 1309 550 2009 \nQ 550 2706 781 3412 \nQ 1013 4119 1484 4856 \nL 1984 4856 \nz\n\" transform=\"scale(0.015625)\"/>\n       <path id=\"DejaVuSans-73\" d=\"M 2834 3397 \nL 2834 2853 \nQ 2591 2978 2328 3040 \nQ 2066 3103 1784 3103 \nQ 1356 3103 1142 2972 \nQ 928 2841 928 2578 \nQ 928 2378 1081 2264 \nQ 1234 2150 1697 2047 \nL 1894 2003 \nQ 2506 1872 2764 1633 \nQ 3022 1394 3022 966 \nQ 3022 478 2636 193 \nQ 2250 -91 1575 -91 \nQ 1294 -91 989 -36 \nQ 684 19 347 128 \nL 347 722 \nQ 666 556 975 473 \nQ 1284 391 1588 391 \nQ 1994 391 2212 530 \nQ 2431 669 2431 922 \nQ 2431 1156 2273 1281 \nQ 2116 1406 1581 1522 \nL 1381 1569 \nQ 847 1681 609 1914 \nQ 372 2147 372 2553 \nQ 372 3047 722 3315 \nQ 1072 3584 1716 3584 \nQ 2034 3584 2315 3537 \nQ 2597 3491 2834 3397 \nz\n\" transform=\"scale(0.015625)\"/>\n       <path id=\"DejaVuSans-74\" d=\"M 1172 4494 \nL 1172 3500 \nL 2356 3500 \nL 2356 3053 \nL 1172 3053 \nL 1172 1153 \nQ 1172 725 1289 603 \nQ 1406 481 1766 481 \nL 2356 481 \nL 2356 0 \nL 1766 0 \nQ 1100 0 847 248 \nQ 594 497 594 1153 \nL 594 3053 \nL 172 3053 \nL 172 3500 \nL 594 3500 \nL 594 4494 \nL 1172 4494 \nz\n\" transform=\"scale(0.015625)\"/>\n       <path id=\"DejaVuSans-72\" d=\"M 2631 2963 \nQ 2534 3019 2420 3045 \nQ 2306 3072 2169 3072 \nQ 1681 3072 1420 2755 \nQ 1159 2438 1159 1844 \nL 1159 0 \nL 581 0 \nL 581 3500 \nL 1159 3500 \nL 1159 2956 \nQ 1341 3275 1631 3429 \nQ 1922 3584 2338 3584 \nQ 2397 3584 2469 3576 \nQ 2541 3569 2628 3553 \nL 2631 2963 \nz\n\" transform=\"scale(0.015625)\"/>\n       <path id=\"DejaVuSans-61\" d=\"M 2194 1759 \nQ 1497 1759 1228 1600 \nQ 959 1441 959 1056 \nQ 959 750 1161 570 \nQ 1363 391 1709 391 \nQ 2188 391 2477 730 \nQ 2766 1069 2766 1631 \nL 2766 1759 \nL 2194 1759 \nz\nM 3341 1997 \nL 3341 0 \nL 2766 0 \nL 2766 531 \nQ 2569 213 2275 61 \nQ 1981 -91 1556 -91 \nQ 1019 -91 701 211 \nQ 384 513 384 1019 \nQ 384 1609 779 1909 \nQ 1175 2209 1959 2209 \nL 2766 2209 \nL 2766 2266 \nQ 2766 2663 2505 2880 \nQ 2244 3097 1772 3097 \nQ 1472 3097 1187 3025 \nQ 903 2953 641 2809 \nL 641 3341 \nQ 956 3463 1253 3523 \nQ 1550 3584 1831 3584 \nQ 2591 3584 2966 3190 \nQ 3341 2797 3341 1997 \nz\n\" transform=\"scale(0.015625)\"/>\n       <path id=\"DejaVuSans-69\" d=\"M 603 3500 \nL 1178 3500 \nL 1178 0 \nL 603 0 \nL 603 3500 \nz\nM 603 4863 \nL 1178 4863 \nL 1178 4134 \nL 603 4134 \nL 603 4863 \nz\n\" transform=\"scale(0.015625)\"/>\n       <path id=\"DejaVuSans-6e\" d=\"M 3513 2113 \nL 3513 0 \nL 2938 0 \nL 2938 2094 \nQ 2938 2591 2744 2837 \nQ 2550 3084 2163 3084 \nQ 1697 3084 1428 2787 \nQ 1159 2491 1159 1978 \nL 1159 0 \nL 581 0 \nL 581 3500 \nL 1159 3500 \nL 1159 2956 \nQ 1366 3272 1645 3428 \nQ 1925 3584 2291 3584 \nQ 2894 3584 3203 3211 \nQ 3513 2838 3513 2113 \nz\n\" transform=\"scale(0.015625)\"/>\n       <path id=\"DejaVuSans-25\" d=\"M 4653 2053 \nQ 4381 2053 4226 1822 \nQ 4072 1591 4072 1178 \nQ 4072 772 4226 539 \nQ 4381 306 4653 306 \nQ 4919 306 5073 539 \nQ 5228 772 5228 1178 \nQ 5228 1588 5073 1820 \nQ 4919 2053 4653 2053 \nz\nM 4653 2450 \nQ 5147 2450 5437 2106 \nQ 5728 1763 5728 1178 \nQ 5728 594 5436 251 \nQ 5144 -91 4653 -91 \nQ 4153 -91 3862 251 \nQ 3572 594 3572 1178 \nQ 3572 1766 3864 2108 \nQ 4156 2450 4653 2450 \nz\nM 1428 4353 \nQ 1159 4353 1004 4120 \nQ 850 3888 850 3481 \nQ 850 3069 1003 2837 \nQ 1156 2606 1428 2606 \nQ 1700 2606 1854 2837 \nQ 2009 3069 2009 3481 \nQ 2009 3884 1853 4118 \nQ 1697 4353 1428 4353 \nz\nM 4250 4750 \nL 4750 4750 \nL 1831 -91 \nL 1331 -91 \nL 4250 4750 \nz\nM 1428 4750 \nQ 1922 4750 2215 4408 \nQ 2509 4066 2509 3481 \nQ 2509 2891 2217 2550 \nQ 1925 2209 1428 2209 \nQ 931 2209 642 2551 \nQ 353 2894 353 3481 \nQ 353 4063 643 4406 \nQ 934 4750 1428 4750 \nz\n\" transform=\"scale(0.015625)\"/>\n       <path id=\"DejaVuSans-29\" d=\"M 513 4856 \nL 1013 4856 \nQ 1481 4119 1714 3412 \nQ 1947 2706 1947 2009 \nQ 1947 1309 1714 600 \nQ 1481 -109 1013 -844 \nL 513 -844 \nQ 928 -128 1133 580 \nQ 1338 1288 1338 2009 \nQ 1338 2731 1133 3434 \nQ 928 4138 513 4856 \nz\n\" transform=\"scale(0.015625)\"/>\n      </defs>\n      <use xlink:href=\"#DejaVuSans-Oblique-3b5\" transform=\"translate(0 0.015625)\"/>\n      <use xlink:href=\"#DejaVuSans-20\" transform=\"translate(54.052734 0.015625)\"/>\n      <use xlink:href=\"#DejaVuSans-28\" transform=\"translate(85.839844 0.015625)\"/>\n      <use xlink:href=\"#DejaVuSans-73\" transform=\"translate(124.853516 0.015625)\"/>\n      <use xlink:href=\"#DejaVuSans-74\" transform=\"translate(176.953125 0.015625)\"/>\n      <use xlink:href=\"#DejaVuSans-72\" transform=\"translate(216.162109 0.015625)\"/>\n      <use xlink:href=\"#DejaVuSans-61\" transform=\"translate(257.275391 0.015625)\"/>\n      <use xlink:href=\"#DejaVuSans-69\" transform=\"translate(318.554688 0.015625)\"/>\n      <use xlink:href=\"#DejaVuSans-6e\" transform=\"translate(346.337891 0.015625)\"/>\n      <use xlink:href=\"#DejaVuSans-20\" transform=\"translate(409.716797 0.015625)\"/>\n      <use xlink:href=\"#DejaVuSans-69\" transform=\"translate(441.503906 0.015625)\"/>\n      <use xlink:href=\"#DejaVuSans-6e\" transform=\"translate(469.287109 0.015625)\"/>\n      <use xlink:href=\"#DejaVuSans-20\" transform=\"translate(532.666016 0.015625)\"/>\n      <use xlink:href=\"#DejaVuSans-25\" transform=\"translate(564.453125 0.015625)\"/>\n      <use xlink:href=\"#DejaVuSans-29\" transform=\"translate(659.472656 0.015625)\"/>\n     </g>\n    </g>\n   </g>\n   <g id=\"matplotlib.axis_2\">\n    <g id=\"ytick_1\">\n     <g id=\"line2d_7\">\n      <defs>\n       <path id=\"mc33e18a72e\" d=\"M 0 0 \nL -4.8 0 \n\" style=\"stroke: #262626\"/>\n      </defs>\n      <g>\n       <use xlink:href=\"#mc33e18a72e\" x=\"45.588\" y=\"241.16232\" style=\"fill: #262626; stroke: #262626\"/>\n      </g>\n     </g>\n     <g id=\"text_8\">\n      <!-- 0 -->\n      <g style=\"fill: #262626\" transform=\"translate(31.689 244.505633) scale(0.088 -0.088)\">\n       <use xlink:href=\"#DejaVuSans-30\"/>\n      </g>\n     </g>\n    </g>\n    <g id=\"ytick_2\">\n     <g id=\"line2d_8\">\n      <g>\n       <use xlink:href=\"#mc33e18a72e\" x=\"45.588\" y=\"207.16123\" style=\"fill: #262626; stroke: #262626\"/>\n      </g>\n     </g>\n     <g id=\"text_9\">\n      <!-- 50 -->\n      <g style=\"fill: #262626\" transform=\"translate(26.09 210.504542) scale(0.088 -0.088)\">\n       <use xlink:href=\"#DejaVuSans-35\"/>\n       <use xlink:href=\"#DejaVuSans-30\" transform=\"translate(63.623047 0)\"/>\n      </g>\n     </g>\n    </g>\n    <g id=\"ytick_3\">\n     <g id=\"line2d_9\">\n      <g>\n       <use xlink:href=\"#mc33e18a72e\" x=\"45.588\" y=\"173.160139\" style=\"fill: #262626; stroke: #262626\"/>\n      </g>\n     </g>\n     <g id=\"text_10\">\n      <!-- 100 -->\n      <g style=\"fill: #262626\" transform=\"translate(20.491 176.503452) scale(0.088 -0.088)\">\n       <use xlink:href=\"#DejaVuSans-31\"/>\n       <use xlink:href=\"#DejaVuSans-30\" transform=\"translate(63.623047 0)\"/>\n       <use xlink:href=\"#DejaVuSans-30\" transform=\"translate(127.246094 0)\"/>\n      </g>\n     </g>\n    </g>\n    <g id=\"ytick_4\">\n     <g id=\"line2d_10\">\n      <g>\n       <use xlink:href=\"#mc33e18a72e\" x=\"45.588\" y=\"139.159049\" style=\"fill: #262626; stroke: #262626\"/>\n      </g>\n     </g>\n     <g id=\"text_11\">\n      <!-- 150 -->\n      <g style=\"fill: #262626\" transform=\"translate(20.491 142.502361) scale(0.088 -0.088)\">\n       <use xlink:href=\"#DejaVuSans-31\"/>\n       <use xlink:href=\"#DejaVuSans-35\" transform=\"translate(63.623047 0)\"/>\n       <use xlink:href=\"#DejaVuSans-30\" transform=\"translate(127.246094 0)\"/>\n      </g>\n     </g>\n    </g>\n    <g id=\"ytick_5\">\n     <g id=\"line2d_11\">\n      <g>\n       <use xlink:href=\"#mc33e18a72e\" x=\"45.588\" y=\"105.157958\" style=\"fill: #262626; stroke: #262626\"/>\n      </g>\n     </g>\n     <g id=\"text_12\">\n      <!-- 200 -->\n      <g style=\"fill: #262626\" transform=\"translate(20.491 108.501271) scale(0.088 -0.088)\">\n       <use xlink:href=\"#DejaVuSans-32\"/>\n       <use xlink:href=\"#DejaVuSans-30\" transform=\"translate(63.623047 0)\"/>\n       <use xlink:href=\"#DejaVuSans-30\" transform=\"translate(127.246094 0)\"/>\n      </g>\n     </g>\n    </g>\n    <g id=\"ytick_6\">\n     <g id=\"line2d_12\">\n      <g>\n       <use xlink:href=\"#mc33e18a72e\" x=\"45.588\" y=\"71.156868\" style=\"fill: #262626; stroke: #262626\"/>\n      </g>\n     </g>\n     <g id=\"text_13\">\n      <!-- 250 -->\n      <g style=\"fill: #262626\" transform=\"translate(20.491 74.50018) scale(0.088 -0.088)\">\n       <use xlink:href=\"#DejaVuSans-32\"/>\n       <use xlink:href=\"#DejaVuSans-35\" transform=\"translate(63.623047 0)\"/>\n       <use xlink:href=\"#DejaVuSans-30\" transform=\"translate(127.246094 0)\"/>\n      </g>\n     </g>\n    </g>\n    <g id=\"ytick_7\">\n     <g id=\"line2d_13\">\n      <g>\n       <use xlink:href=\"#mc33e18a72e\" x=\"45.588\" y=\"37.155777\" style=\"fill: #262626; stroke: #262626\"/>\n      </g>\n     </g>\n     <g id=\"text_14\">\n      <!-- 300 -->\n      <g style=\"fill: #262626\" transform=\"translate(20.491 40.49909) scale(0.088 -0.088)\">\n       <defs>\n        <path id=\"DejaVuSans-33\" d=\"M 2597 2516 \nQ 3050 2419 3304 2112 \nQ 3559 1806 3559 1356 \nQ 3559 666 3084 287 \nQ 2609 -91 1734 -91 \nQ 1441 -91 1130 -33 \nQ 819 25 488 141 \nL 488 750 \nQ 750 597 1062 519 \nQ 1375 441 1716 441 \nQ 2309 441 2620 675 \nQ 2931 909 2931 1356 \nQ 2931 1769 2642 2001 \nQ 2353 2234 1838 2234 \nL 1294 2234 \nL 1294 2753 \nL 1863 2753 \nQ 2328 2753 2575 2939 \nQ 2822 3125 2822 3475 \nQ 2822 3834 2567 4026 \nQ 2313 4219 1838 4219 \nQ 1578 4219 1281 4162 \nQ 984 4106 628 3988 \nL 628 4550 \nQ 988 4650 1302 4700 \nQ 1616 4750 1894 4750 \nQ 2613 4750 3031 4423 \nQ 3450 4097 3450 3541 \nQ 3450 3153 3228 2886 \nQ 3006 2619 2597 2516 \nz\n\" transform=\"scale(0.015625)\"/>\n       </defs>\n       <use xlink:href=\"#DejaVuSans-33\"/>\n       <use xlink:href=\"#DejaVuSans-30\" transform=\"translate(63.623047 0)\"/>\n       <use xlink:href=\"#DejaVuSans-30\" transform=\"translate(127.246094 0)\"/>\n      </g>\n     </g>\n    </g>\n    <g id=\"text_15\">\n     <!-- $\\sigma$ (stress in MPa) -->\n     <g style=\"fill: #262626\" transform=\"translate(14.4945 180.288) rotate(-90) scale(0.096 -0.096)\">\n      <defs>\n       <path id=\"DejaVuSans-Oblique-3c3\" d=\"M 2219 3044 \nQ 1744 3044 1422 2700 \nQ 1081 2341 969 1747 \nQ 844 1119 1044 756 \nQ 1241 397 1706 397 \nQ 2166 397 2503 759 \nQ 2844 1122 2966 1747 \nQ 3075 2319 2881 2700 \nQ 2700 3044 2219 3044 \nz\nM 2309 3503 \nL 4219 3500 \nL 4106 2925 \nL 3463 2925 \nQ 3706 2438 3575 1747 \nQ 3406 888 2884 400 \nQ 2359 -91 1609 -91 \nQ 856 -91 525 400 \nQ 194 888 363 1747 \nQ 528 2609 1050 3097 \nQ 1484 3503 2309 3503 \nz\n\" transform=\"scale(0.015625)\"/>\n       <path id=\"DejaVuSans-65\" d=\"M 3597 1894 \nL 3597 1613 \nL 953 1613 \nQ 991 1019 1311 708 \nQ 1631 397 2203 397 \nQ 2534 397 2845 478 \nQ 3156 559 3463 722 \nL 3463 178 \nQ 3153 47 2828 -22 \nQ 2503 -91 2169 -91 \nQ 1331 -91 842 396 \nQ 353 884 353 1716 \nQ 353 2575 817 3079 \nQ 1281 3584 2069 3584 \nQ 2775 3584 3186 3129 \nQ 3597 2675 3597 1894 \nz\nM 3022 2063 \nQ 3016 2534 2758 2815 \nQ 2500 3097 2075 3097 \nQ 1594 3097 1305 2825 \nQ 1016 2553 972 2059 \nL 3022 2063 \nz\n\" transform=\"scale(0.015625)\"/>\n       <path id=\"DejaVuSans-4d\" d=\"M 628 4666 \nL 1569 4666 \nL 2759 1491 \nL 3956 4666 \nL 4897 4666 \nL 4897 0 \nL 4281 0 \nL 4281 4097 \nL 3078 897 \nL 2444 897 \nL 1241 4097 \nL 1241 0 \nL 628 0 \nL 628 4666 \nz\n\" transform=\"scale(0.015625)\"/>\n       <path id=\"DejaVuSans-50\" d=\"M 1259 4147 \nL 1259 2394 \nL 2053 2394 \nQ 2494 2394 2734 2622 \nQ 2975 2850 2975 3272 \nQ 2975 3691 2734 3919 \nQ 2494 4147 2053 4147 \nL 1259 4147 \nz\nM 628 4666 \nL 2053 4666 \nQ 2838 4666 3239 4311 \nQ 3641 3956 3641 3272 \nQ 3641 2581 3239 2228 \nQ 2838 1875 2053 1875 \nL 1259 1875 \nL 1259 0 \nL 628 0 \nL 628 4666 \nz\n\" transform=\"scale(0.015625)\"/>\n      </defs>\n      <use xlink:href=\"#DejaVuSans-Oblique-3c3\" transform=\"translate(0 0.015625)\"/>\n      <use xlink:href=\"#DejaVuSans-20\" transform=\"translate(63.378906 0.015625)\"/>\n      <use xlink:href=\"#DejaVuSans-28\" transform=\"translate(95.166016 0.015625)\"/>\n      <use xlink:href=\"#DejaVuSans-73\" transform=\"translate(134.179688 0.015625)\"/>\n      <use xlink:href=\"#DejaVuSans-74\" transform=\"translate(186.279297 0.015625)\"/>\n      <use xlink:href=\"#DejaVuSans-72\" transform=\"translate(225.488281 0.015625)\"/>\n      <use xlink:href=\"#DejaVuSans-65\" transform=\"translate(266.601562 0.015625)\"/>\n      <use xlink:href=\"#DejaVuSans-73\" transform=\"translate(328.125 0.015625)\"/>\n      <use xlink:href=\"#DejaVuSans-73\" transform=\"translate(380.224609 0.015625)\"/>\n      <use xlink:href=\"#DejaVuSans-20\" transform=\"translate(432.324219 0.015625)\"/>\n      <use xlink:href=\"#DejaVuSans-69\" transform=\"translate(464.111328 0.015625)\"/>\n      <use xlink:href=\"#DejaVuSans-6e\" transform=\"translate(491.894531 0.015625)\"/>\n      <use xlink:href=\"#DejaVuSans-20\" transform=\"translate(555.273438 0.015625)\"/>\n      <use xlink:href=\"#DejaVuSans-4d\" transform=\"translate(587.060547 0.015625)\"/>\n      <use xlink:href=\"#DejaVuSans-50\" transform=\"translate(673.339844 0.015625)\"/>\n      <use xlink:href=\"#DejaVuSans-61\" transform=\"translate(733.642578 0.015625)\"/>\n      <use xlink:href=\"#DejaVuSans-29\" transform=\"translate(794.921875 0.015625)\"/>\n     </g>\n    </g>\n   </g>\n   <g id=\"line2d_14\">\n    <defs>\n     <path id=\"md33639d9c1\" d=\"M 0 1 \nC 0.265203 1 0.51958 0.894634 0.707107 0.707107 \nC 0.894634 0.51958 1 0.265203 1 0 \nC 1 -0.265203 0.894634 -0.51958 0.707107 -0.707107 \nC 0.51958 -0.894634 0.265203 -1 0 -1 \nC -0.265203 -1 -0.51958 -0.894634 -0.707107 -0.707107 \nC -0.894634 -0.51958 -1 -0.265203 -1 0 \nC -1 0.265203 -0.894634 0.51958 -0.707107 0.707107 \nC -0.51958 0.894634 -0.265203 1 0 1 \nz\n\" style=\"stroke: #ff0000\"/>\n    </defs>\n    <g clip-path=\"url(#pfc26d97018)\">\n     <use xlink:href=\"#md33639d9c1\" x=\"61.820727\" y=\"261.216\" style=\"fill: #ff0000; stroke: #ff0000\"/>\n     <use xlink:href=\"#md33639d9c1\" x=\"62.145459\" y=\"233.151916\" style=\"fill: #ff0000; stroke: #ff0000\"/>\n     <use xlink:href=\"#md33639d9c1\" x=\"62.470191\" y=\"210.428532\" style=\"fill: #ff0000; stroke: #ff0000\"/>\n     <use xlink:href=\"#md33639d9c1\" x=\"62.794923\" y=\"207.504494\" style=\"fill: #ff0000; stroke: #ff0000\"/>\n     <use xlink:href=\"#md33639d9c1\" x=\"63.119655\" y=\"212.408945\" style=\"fill: #ff0000; stroke: #ff0000\"/>\n     <use xlink:href=\"#md33639d9c1\" x=\"63.444387\" y=\"235.452668\" style=\"fill: #ff0000; stroke: #ff0000\"/>\n     <use xlink:href=\"#md33639d9c1\" x=\"63.769118\" y=\"251.342516\" style=\"fill: #ff0000; stroke: #ff0000\"/>\n     <use xlink:href=\"#md33639d9c1\" x=\"64.092132\" y=\"203.54993\" style=\"fill: #ff0000; stroke: #ff0000\"/>\n     <use xlink:href=\"#md33639d9c1\" x=\"64.416864\" y=\"207.08406\" style=\"fill: #ff0000; stroke: #ff0000\"/>\n     <use xlink:href=\"#md33639d9c1\" x=\"64.741596\" y=\"194.62633\" style=\"fill: #ff0000; stroke: #ff0000\"/>\n     <use xlink:href=\"#md33639d9c1\" x=\"65.066328\" y=\"240.45474\" style=\"fill: #ff0000; stroke: #ff0000\"/>\n     <use xlink:href=\"#md33639d9c1\" x=\"65.39106\" y=\"261.041011\" style=\"fill: #ff0000; stroke: #ff0000\"/>\n     <use xlink:href=\"#md33639d9c1\" x=\"65.715791\" y=\"214.480211\" style=\"fill: #ff0000; stroke: #ff0000\"/>\n     <use xlink:href=\"#md33639d9c1\" x=\"66.040523\" y=\"230.62391\" style=\"fill: #ff0000; stroke: #ff0000\"/>\n     <use xlink:href=\"#md33639d9c1\" x=\"66.365255\" y=\"213.276836\" style=\"fill: #ff0000; stroke: #ff0000\"/>\n     <use xlink:href=\"#md33639d9c1\" x=\"66.689987\" y=\"219.66117\" style=\"fill: #ff0000; stroke: #ff0000\"/>\n     <use xlink:href=\"#md33639d9c1\" x=\"67.014719\" y=\"197.313332\" style=\"fill: #ff0000; stroke: #ff0000\"/>\n     <use xlink:href=\"#md33639d9c1\" x=\"67.339451\" y=\"221.152576\" style=\"fill: #ff0000; stroke: #ff0000\"/>\n     <use xlink:href=\"#md33639d9c1\" x=\"67.664183\" y=\"202.785291\" style=\"fill: #ff0000; stroke: #ff0000\"/>\n     <use xlink:href=\"#md33639d9c1\" x=\"67.988915\" y=\"196.150517\" style=\"fill: #ff0000; stroke: #ff0000\"/>\n     <use xlink:href=\"#md33639d9c1\" x=\"68.313646\" y=\"183.779209\" style=\"fill: #ff0000; stroke: #ff0000\"/>\n     <use xlink:href=\"#md33639d9c1\" x=\"68.638378\" y=\"197.549599\" style=\"fill: #ff0000; stroke: #ff0000\"/>\n     <use xlink:href=\"#md33639d9c1\" x=\"68.96311\" y=\"229.134965\" style=\"fill: #ff0000; stroke: #ff0000\"/>\n     <use xlink:href=\"#md33639d9c1\" x=\"69.287842\" y=\"235.63177\" style=\"fill: #ff0000; stroke: #ff0000\"/>\n     <use xlink:href=\"#md33639d9c1\" x=\"69.612574\" y=\"192.320317\" style=\"fill: #ff0000; stroke: #ff0000\"/>\n     <use xlink:href=\"#md33639d9c1\" x=\"69.937306\" y=\"204.369347\" style=\"fill: #ff0000; stroke: #ff0000\"/>\n     <use xlink:href=\"#md33639d9c1\" x=\"70.262038\" y=\"150.086245\" style=\"fill: #ff0000; stroke: #ff0000\"/>\n     <use xlink:href=\"#md33639d9c1\" x=\"70.586769\" y=\"210.748385\" style=\"fill: #ff0000; stroke: #ff0000\"/>\n     <use xlink:href=\"#md33639d9c1\" x=\"70.911501\" y=\"156.072021\" style=\"fill: #ff0000; stroke: #ff0000\"/>\n     <use xlink:href=\"#md33639d9c1\" x=\"71.234515\" y=\"184.292784\" style=\"fill: #ff0000; stroke: #ff0000\"/>\n     <use xlink:href=\"#md33639d9c1\" x=\"71.559247\" y=\"200.367165\" style=\"fill: #ff0000; stroke: #ff0000\"/>\n     <use xlink:href=\"#md33639d9c1\" x=\"71.883979\" y=\"198.208577\" style=\"fill: #ff0000; stroke: #ff0000\"/>\n     <use xlink:href=\"#md33639d9c1\" x=\"72.208711\" y=\"204.913254\" style=\"fill: #ff0000; stroke: #ff0000\"/>\n     <use xlink:href=\"#md33639d9c1\" x=\"72.533442\" y=\"169.035603\" style=\"fill: #ff0000; stroke: #ff0000\"/>\n     <use xlink:href=\"#md33639d9c1\" x=\"72.858174\" y=\"210.617727\" style=\"fill: #ff0000; stroke: #ff0000\"/>\n     <use xlink:href=\"#md33639d9c1\" x=\"73.182906\" y=\"221.220711\" style=\"fill: #ff0000; stroke: #ff0000\"/>\n     <use xlink:href=\"#md33639d9c1\" x=\"73.507638\" y=\"214.877186\" style=\"fill: #ff0000; stroke: #ff0000\"/>\n     <use xlink:href=\"#md33639d9c1\" x=\"73.83237\" y=\"187.279644\" style=\"fill: #ff0000; stroke: #ff0000\"/>\n     <use xlink:href=\"#md33639d9c1\" x=\"74.157102\" y=\"185.711118\" style=\"fill: #ff0000; stroke: #ff0000\"/>\n     <use xlink:href=\"#md33639d9c1\" x=\"74.481834\" y=\"207.453827\" style=\"fill: #ff0000; stroke: #ff0000\"/>\n     <use xlink:href=\"#md33639d9c1\" x=\"74.806565\" y=\"164.327459\" style=\"fill: #ff0000; stroke: #ff0000\"/>\n     <use xlink:href=\"#md33639d9c1\" x=\"75.131297\" y=\"174.192853\" style=\"fill: #ff0000; stroke: #ff0000\"/>\n     <use xlink:href=\"#md33639d9c1\" x=\"75.456029\" y=\"151.534031\" style=\"fill: #ff0000; stroke: #ff0000\"/>\n     <use xlink:href=\"#md33639d9c1\" x=\"75.780761\" y=\"201.190106\" style=\"fill: #ff0000; stroke: #ff0000\"/>\n     <use xlink:href=\"#md33639d9c1\" x=\"76.105493\" y=\"186.181971\" style=\"fill: #ff0000; stroke: #ff0000\"/>\n     <use xlink:href=\"#md33639d9c1\" x=\"76.430225\" y=\"204.393669\" style=\"fill: #ff0000; stroke: #ff0000\"/>\n     <use xlink:href=\"#md33639d9c1\" x=\"76.754957\" y=\"168.328307\" style=\"fill: #ff0000; stroke: #ff0000\"/>\n     <use xlink:href=\"#md33639d9c1\" x=\"77.079688\" y=\"158.045215\" style=\"fill: #ff0000; stroke: #ff0000\"/>\n     <use xlink:href=\"#md33639d9c1\" x=\"77.40442\" y=\"189.457838\" style=\"fill: #ff0000; stroke: #ff0000\"/>\n     <use xlink:href=\"#md33639d9c1\" x=\"77.729152\" y=\"202.265738\" style=\"fill: #ff0000; stroke: #ff0000\"/>\n     <use xlink:href=\"#md33639d9c1\" x=\"78.053884\" y=\"161.541857\" style=\"fill: #ff0000; stroke: #ff0000\"/>\n     <use xlink:href=\"#md33639d9c1\" x=\"78.376898\" y=\"158.259549\" style=\"fill: #ff0000; stroke: #ff0000\"/>\n     <use xlink:href=\"#md33639d9c1\" x=\"78.70163\" y=\"179.803808\" style=\"fill: #ff0000; stroke: #ff0000\"/>\n     <use xlink:href=\"#md33639d9c1\" x=\"79.026362\" y=\"171.109071\" style=\"fill: #ff0000; stroke: #ff0000\"/>\n     <use xlink:href=\"#md33639d9c1\" x=\"79.351093\" y=\"189.94689\" style=\"fill: #ff0000; stroke: #ff0000\"/>\n     <use xlink:href=\"#md33639d9c1\" x=\"79.675825\" y=\"165.29356\" style=\"fill: #ff0000; stroke: #ff0000\"/>\n     <use xlink:href=\"#md33639d9c1\" x=\"80.000557\" y=\"166.123951\" style=\"fill: #ff0000; stroke: #ff0000\"/>\n     <use xlink:href=\"#md33639d9c1\" x=\"80.325289\" y=\"165.808945\" style=\"fill: #ff0000; stroke: #ff0000\"/>\n     <use xlink:href=\"#md33639d9c1\" x=\"80.650021\" y=\"157.545794\" style=\"fill: #ff0000; stroke: #ff0000\"/>\n     <use xlink:href=\"#md33639d9c1\" x=\"80.974753\" y=\"158.217864\" style=\"fill: #ff0000; stroke: #ff0000\"/>\n     <use xlink:href=\"#md33639d9c1\" x=\"81.299485\" y=\"149.874186\" style=\"fill: #ff0000; stroke: #ff0000\"/>\n     <use xlink:href=\"#md33639d9c1\" x=\"81.624216\" y=\"155.071486\" style=\"fill: #ff0000; stroke: #ff0000\"/>\n     <use xlink:href=\"#md33639d9c1\" x=\"81.948948\" y=\"159.103968\" style=\"fill: #ff0000; stroke: #ff0000\"/>\n     <use xlink:href=\"#md33639d9c1\" x=\"82.27368\" y=\"175.875635\" style=\"fill: #ff0000; stroke: #ff0000\"/>\n     <use xlink:href=\"#md33639d9c1\" x=\"82.598412\" y=\"193.173384\" style=\"fill: #ff0000; stroke: #ff0000\"/>\n     <use xlink:href=\"#md33639d9c1\" x=\"82.923144\" y=\"161.536405\" style=\"fill: #ff0000; stroke: #ff0000\"/>\n     <use xlink:href=\"#md33639d9c1\" x=\"83.247876\" y=\"150.382235\" style=\"fill: #ff0000; stroke: #ff0000\"/>\n     <use xlink:href=\"#md33639d9c1\" x=\"83.572608\" y=\"131.528427\" style=\"fill: #ff0000; stroke: #ff0000\"/>\n     <use xlink:href=\"#md33639d9c1\" x=\"83.897339\" y=\"151.546595\" style=\"fill: #ff0000; stroke: #ff0000\"/>\n     <use xlink:href=\"#md33639d9c1\" x=\"84.222071\" y=\"138.852647\" style=\"fill: #ff0000; stroke: #ff0000\"/>\n     <use xlink:href=\"#md33639d9c1\" x=\"84.546803\" y=\"166.451435\" style=\"fill: #ff0000; stroke: #ff0000\"/>\n     <use xlink:href=\"#md33639d9c1\" x=\"84.871535\" y=\"124.742513\" style=\"fill: #ff0000; stroke: #ff0000\"/>\n     <use xlink:href=\"#md33639d9c1\" x=\"85.196267\" y=\"154.033229\" style=\"fill: #ff0000; stroke: #ff0000\"/>\n     <use xlink:href=\"#md33639d9c1\" x=\"85.520999\" y=\"158.071761\" style=\"fill: #ff0000; stroke: #ff0000\"/>\n     <use xlink:href=\"#md33639d9c1\" x=\"85.844012\" y=\"183.852374\" style=\"fill: #ff0000; stroke: #ff0000\"/>\n     <use xlink:href=\"#md33639d9c1\" x=\"86.168744\" y=\"146.060115\" style=\"fill: #ff0000; stroke: #ff0000\"/>\n     <use xlink:href=\"#md33639d9c1\" x=\"86.493476\" y=\"179.359458\" style=\"fill: #ff0000; stroke: #ff0000\"/>\n     <use xlink:href=\"#md33639d9c1\" x=\"86.818208\" y=\"136.815896\" style=\"fill: #ff0000; stroke: #ff0000\"/>\n     <use xlink:href=\"#md33639d9c1\" x=\"87.14294\" y=\"127.256568\" style=\"fill: #ff0000; stroke: #ff0000\"/>\n     <use xlink:href=\"#md33639d9c1\" x=\"87.467672\" y=\"129.941356\" style=\"fill: #ff0000; stroke: #ff0000\"/>\n     <use xlink:href=\"#md33639d9c1\" x=\"87.792404\" y=\"170.416216\" style=\"fill: #ff0000; stroke: #ff0000\"/>\n     <use xlink:href=\"#md33639d9c1\" x=\"88.117136\" y=\"140.751111\" style=\"fill: #ff0000; stroke: #ff0000\"/>\n     <use xlink:href=\"#md33639d9c1\" x=\"88.441867\" y=\"117.764383\" style=\"fill: #ff0000; stroke: #ff0000\"/>\n     <use xlink:href=\"#md33639d9c1\" x=\"88.766599\" y=\"161.975498\" style=\"fill: #ff0000; stroke: #ff0000\"/>\n     <use xlink:href=\"#md33639d9c1\" x=\"89.091331\" y=\"157.126675\" style=\"fill: #ff0000; stroke: #ff0000\"/>\n     <use xlink:href=\"#md33639d9c1\" x=\"89.416063\" y=\"148.710441\" style=\"fill: #ff0000; stroke: #ff0000\"/>\n     <use xlink:href=\"#md33639d9c1\" x=\"89.740795\" y=\"144.674924\" style=\"fill: #ff0000; stroke: #ff0000\"/>\n     <use xlink:href=\"#md33639d9c1\" x=\"90.065527\" y=\"140.427901\" style=\"fill: #ff0000; stroke: #ff0000\"/>\n     <use xlink:href=\"#md33639d9c1\" x=\"90.390259\" y=\"140.84999\" style=\"fill: #ff0000; stroke: #ff0000\"/>\n     <use xlink:href=\"#md33639d9c1\" x=\"90.71499\" y=\"144.344876\" style=\"fill: #ff0000; stroke: #ff0000\"/>\n     <use xlink:href=\"#md33639d9c1\" x=\"91.039722\" y=\"166.650636\" style=\"fill: #ff0000; stroke: #ff0000\"/>\n     <use xlink:href=\"#md33639d9c1\" x=\"91.364454\" y=\"161.076058\" style=\"fill: #ff0000; stroke: #ff0000\"/>\n     <use xlink:href=\"#md33639d9c1\" x=\"91.689186\" y=\"128.334588\" style=\"fill: #ff0000; stroke: #ff0000\"/>\n     <use xlink:href=\"#md33639d9c1\" x=\"92.013918\" y=\"147.812504\" style=\"fill: #ff0000; stroke: #ff0000\"/>\n     <use xlink:href=\"#md33639d9c1\" x=\"92.33865\" y=\"130.725554\" style=\"fill: #ff0000; stroke: #ff0000\"/>\n     <use xlink:href=\"#md33639d9c1\" x=\"92.663382\" y=\"128.948657\" style=\"fill: #ff0000; stroke: #ff0000\"/>\n     <use xlink:href=\"#md33639d9c1\" x=\"92.986395\" y=\"129.465315\" style=\"fill: #ff0000; stroke: #ff0000\"/>\n     <use xlink:href=\"#md33639d9c1\" x=\"93.311127\" y=\"147.504508\" style=\"fill: #ff0000; stroke: #ff0000\"/>\n     <use xlink:href=\"#md33639d9c1\" x=\"93.635859\" y=\"111.922054\" style=\"fill: #ff0000; stroke: #ff0000\"/>\n     <use xlink:href=\"#md33639d9c1\" x=\"93.960591\" y=\"138.120413\" style=\"fill: #ff0000; stroke: #ff0000\"/>\n     <use xlink:href=\"#md33639d9c1\" x=\"94.285323\" y=\"111.570865\" style=\"fill: #ff0000; stroke: #ff0000\"/>\n     <use xlink:href=\"#md33639d9c1\" x=\"94.610055\" y=\"105.990403\" style=\"fill: #ff0000; stroke: #ff0000\"/>\n     <use xlink:href=\"#md33639d9c1\" x=\"94.934786\" y=\"124.947374\" style=\"fill: #ff0000; stroke: #ff0000\"/>\n     <use xlink:href=\"#md33639d9c1\" x=\"95.259518\" y=\"134.026894\" style=\"fill: #ff0000; stroke: #ff0000\"/>\n     <use xlink:href=\"#md33639d9c1\" x=\"95.58425\" y=\"117.811598\" style=\"fill: #ff0000; stroke: #ff0000\"/>\n     <use xlink:href=\"#md33639d9c1\" x=\"95.908982\" y=\"113.985507\" style=\"fill: #ff0000; stroke: #ff0000\"/>\n     <use xlink:href=\"#md33639d9c1\" x=\"96.233714\" y=\"130.059945\" style=\"fill: #ff0000; stroke: #ff0000\"/>\n     <use xlink:href=\"#md33639d9c1\" x=\"96.558446\" y=\"109.709917\" style=\"fill: #ff0000; stroke: #ff0000\"/>\n     <use xlink:href=\"#md33639d9c1\" x=\"96.883178\" y=\"134.891581\" style=\"fill: #ff0000; stroke: #ff0000\"/>\n     <use xlink:href=\"#md33639d9c1\" x=\"97.20791\" y=\"116.312178\" style=\"fill: #ff0000; stroke: #ff0000\"/>\n     <use xlink:href=\"#md33639d9c1\" x=\"97.532641\" y=\"132.880495\" style=\"fill: #ff0000; stroke: #ff0000\"/>\n     <use xlink:href=\"#md33639d9c1\" x=\"97.857373\" y=\"106.954415\" style=\"fill: #ff0000; stroke: #ff0000\"/>\n     <use xlink:href=\"#md33639d9c1\" x=\"98.182105\" y=\"135.154909\" style=\"fill: #ff0000; stroke: #ff0000\"/>\n     <use xlink:href=\"#md33639d9c1\" x=\"98.506837\" y=\"112.917746\" style=\"fill: #ff0000; stroke: #ff0000\"/>\n     <use xlink:href=\"#md33639d9c1\" x=\"98.831569\" y=\"143.686725\" style=\"fill: #ff0000; stroke: #ff0000\"/>\n     <use xlink:href=\"#md33639d9c1\" x=\"99.156301\" y=\"76.219606\" style=\"fill: #ff0000; stroke: #ff0000\"/>\n     <use xlink:href=\"#md33639d9c1\" x=\"99.481033\" y=\"87.998759\" style=\"fill: #ff0000; stroke: #ff0000\"/>\n     <use xlink:href=\"#md33639d9c1\" x=\"99.805764\" y=\"88.681013\" style=\"fill: #ff0000; stroke: #ff0000\"/>\n     <use xlink:href=\"#md33639d9c1\" x=\"100.128778\" y=\"105.512744\" style=\"fill: #ff0000; stroke: #ff0000\"/>\n     <use xlink:href=\"#md33639d9c1\" x=\"100.45351\" y=\"117.390198\" style=\"fill: #ff0000; stroke: #ff0000\"/>\n     <use xlink:href=\"#md33639d9c1\" x=\"100.778242\" y=\"102.862919\" style=\"fill: #ff0000; stroke: #ff0000\"/>\n     <use xlink:href=\"#md33639d9c1\" x=\"101.102974\" y=\"98.080767\" style=\"fill: #ff0000; stroke: #ff0000\"/>\n     <use xlink:href=\"#md33639d9c1\" x=\"101.427706\" y=\"103.506412\" style=\"fill: #ff0000; stroke: #ff0000\"/>\n     <use xlink:href=\"#md33639d9c1\" x=\"101.752437\" y=\"78.821771\" style=\"fill: #ff0000; stroke: #ff0000\"/>\n     <use xlink:href=\"#md33639d9c1\" x=\"102.077169\" y=\"93.297381\" style=\"fill: #ff0000; stroke: #ff0000\"/>\n     <use xlink:href=\"#md33639d9c1\" x=\"102.401901\" y=\"113.47834\" style=\"fill: #ff0000; stroke: #ff0000\"/>\n     <use xlink:href=\"#md33639d9c1\" x=\"102.726633\" y=\"68.551263\" style=\"fill: #ff0000; stroke: #ff0000\"/>\n     <use xlink:href=\"#md33639d9c1\" x=\"103.051365\" y=\"98.900116\" style=\"fill: #ff0000; stroke: #ff0000\"/>\n     <use xlink:href=\"#md33639d9c1\" x=\"103.376097\" y=\"81.677214\" style=\"fill: #ff0000; stroke: #ff0000\"/>\n     <use xlink:href=\"#md33639d9c1\" x=\"103.700829\" y=\"96.024221\" style=\"fill: #ff0000; stroke: #ff0000\"/>\n     <use xlink:href=\"#md33639d9c1\" x=\"104.02556\" y=\"99.781334\" style=\"fill: #ff0000; stroke: #ff0000\"/>\n     <use xlink:href=\"#md33639d9c1\" x=\"104.350292\" y=\"109.299629\" style=\"fill: #ff0000; stroke: #ff0000\"/>\n     <use xlink:href=\"#md33639d9c1\" x=\"104.675024\" y=\"107.722115\" style=\"fill: #ff0000; stroke: #ff0000\"/>\n     <use xlink:href=\"#md33639d9c1\" x=\"104.999756\" y=\"93.638404\" style=\"fill: #ff0000; stroke: #ff0000\"/>\n     <use xlink:href=\"#md33639d9c1\" x=\"105.324488\" y=\"84.625287\" style=\"fill: #ff0000; stroke: #ff0000\"/>\n     <use xlink:href=\"#md33639d9c1\" x=\"105.64922\" y=\"70.633802\" style=\"fill: #ff0000; stroke: #ff0000\"/>\n     <use xlink:href=\"#md33639d9c1\" x=\"105.973952\" y=\"91.024123\" style=\"fill: #ff0000; stroke: #ff0000\"/>\n     <use xlink:href=\"#md33639d9c1\" x=\"106.298683\" y=\"106.149058\" style=\"fill: #ff0000; stroke: #ff0000\"/>\n     <use xlink:href=\"#md33639d9c1\" x=\"106.623415\" y=\"102.230835\" style=\"fill: #ff0000; stroke: #ff0000\"/>\n     <use xlink:href=\"#md33639d9c1\" x=\"106.948147\" y=\"114.604448\" style=\"fill: #ff0000; stroke: #ff0000\"/>\n     <use xlink:href=\"#md33639d9c1\" x=\"107.272879\" y=\"133.728735\" style=\"fill: #ff0000; stroke: #ff0000\"/>\n     <use xlink:href=\"#md33639d9c1\" x=\"107.595893\" y=\"82.305142\" style=\"fill: #ff0000; stroke: #ff0000\"/>\n     <use xlink:href=\"#md33639d9c1\" x=\"107.920625\" y=\"91.337605\" style=\"fill: #ff0000; stroke: #ff0000\"/>\n     <use xlink:href=\"#md33639d9c1\" x=\"108.245357\" y=\"73.159288\" style=\"fill: #ff0000; stroke: #ff0000\"/>\n     <use xlink:href=\"#md33639d9c1\" x=\"108.570088\" y=\"87.260738\" style=\"fill: #ff0000; stroke: #ff0000\"/>\n     <use xlink:href=\"#md33639d9c1\" x=\"108.89482\" y=\"101.997774\" style=\"fill: #ff0000; stroke: #ff0000\"/>\n     <use xlink:href=\"#md33639d9c1\" x=\"109.219552\" y=\"110.818262\" style=\"fill: #ff0000; stroke: #ff0000\"/>\n     <use xlink:href=\"#md33639d9c1\" x=\"109.544284\" y=\"110.787223\" style=\"fill: #ff0000; stroke: #ff0000\"/>\n     <use xlink:href=\"#md33639d9c1\" x=\"109.869016\" y=\"83.171494\" style=\"fill: #ff0000; stroke: #ff0000\"/>\n     <use xlink:href=\"#md33639d9c1\" x=\"110.193748\" y=\"104.523344\" style=\"fill: #ff0000; stroke: #ff0000\"/>\n     <use xlink:href=\"#md33639d9c1\" x=\"110.51848\" y=\"88.70874\" style=\"fill: #ff0000; stroke: #ff0000\"/>\n     <use xlink:href=\"#md33639d9c1\" x=\"110.843211\" y=\"98.454736\" style=\"fill: #ff0000; stroke: #ff0000\"/>\n     <use xlink:href=\"#md33639d9c1\" x=\"111.167943\" y=\"104.591901\" style=\"fill: #ff0000; stroke: #ff0000\"/>\n     <use xlink:href=\"#md33639d9c1\" x=\"111.492675\" y=\"85.097215\" style=\"fill: #ff0000; stroke: #ff0000\"/>\n     <use xlink:href=\"#md33639d9c1\" x=\"111.817407\" y=\"83.763487\" style=\"fill: #ff0000; stroke: #ff0000\"/>\n     <use xlink:href=\"#md33639d9c1\" x=\"112.142139\" y=\"104.065461\" style=\"fill: #ff0000; stroke: #ff0000\"/>\n     <use xlink:href=\"#md33639d9c1\" x=\"112.466871\" y=\"105.889287\" style=\"fill: #ff0000; stroke: #ff0000\"/>\n     <use xlink:href=\"#md33639d9c1\" x=\"112.791603\" y=\"97.489884\" style=\"fill: #ff0000; stroke: #ff0000\"/>\n     <use xlink:href=\"#md33639d9c1\" x=\"113.116334\" y=\"56.226891\" style=\"fill: #ff0000; stroke: #ff0000\"/>\n     <use xlink:href=\"#md33639d9c1\" x=\"113.441066\" y=\"101.575904\" style=\"fill: #ff0000; stroke: #ff0000\"/>\n     <use xlink:href=\"#md33639d9c1\" x=\"113.765798\" y=\"89.397559\" style=\"fill: #ff0000; stroke: #ff0000\"/>\n     <use xlink:href=\"#md33639d9c1\" x=\"114.09053\" y=\"100.133593\" style=\"fill: #ff0000; stroke: #ff0000\"/>\n     <use xlink:href=\"#md33639d9c1\" x=\"114.415262\" y=\"107.64361\" style=\"fill: #ff0000; stroke: #ff0000\"/>\n     <use xlink:href=\"#md33639d9c1\" x=\"114.738276\" y=\"76.515063\" style=\"fill: #ff0000; stroke: #ff0000\"/>\n     <use xlink:href=\"#md33639d9c1\" x=\"115.063007\" y=\"101.875529\" style=\"fill: #ff0000; stroke: #ff0000\"/>\n     <use xlink:href=\"#md33639d9c1\" x=\"115.387739\" y=\"69.270003\" style=\"fill: #ff0000; stroke: #ff0000\"/>\n     <use xlink:href=\"#md33639d9c1\" x=\"115.712471\" y=\"95.823648\" style=\"fill: #ff0000; stroke: #ff0000\"/>\n     <use xlink:href=\"#md33639d9c1\" x=\"116.037203\" y=\"92.860866\" style=\"fill: #ff0000; stroke: #ff0000\"/>\n     <use xlink:href=\"#md33639d9c1\" x=\"116.361935\" y=\"88.460071\" style=\"fill: #ff0000; stroke: #ff0000\"/>\n     <use xlink:href=\"#md33639d9c1\" x=\"116.686667\" y=\"63.313549\" style=\"fill: #ff0000; stroke: #ff0000\"/>\n     <use xlink:href=\"#md33639d9c1\" x=\"117.011399\" y=\"59.910951\" style=\"fill: #ff0000; stroke: #ff0000\"/>\n     <use xlink:href=\"#md33639d9c1\" x=\"117.336131\" y=\"73.136454\" style=\"fill: #ff0000; stroke: #ff0000\"/>\n     <use xlink:href=\"#md33639d9c1\" x=\"117.660862\" y=\"71.403868\" style=\"fill: #ff0000; stroke: #ff0000\"/>\n     <use xlink:href=\"#md33639d9c1\" x=\"117.985594\" y=\"75.630272\" style=\"fill: #ff0000; stroke: #ff0000\"/>\n     <use xlink:href=\"#md33639d9c1\" x=\"118.310326\" y=\"100.7541\" style=\"fill: #ff0000; stroke: #ff0000\"/>\n     <use xlink:href=\"#md33639d9c1\" x=\"118.635058\" y=\"77.060962\" style=\"fill: #ff0000; stroke: #ff0000\"/>\n     <use xlink:href=\"#md33639d9c1\" x=\"118.95979\" y=\"69.74204\" style=\"fill: #ff0000; stroke: #ff0000\"/>\n     <use xlink:href=\"#md33639d9c1\" x=\"119.284522\" y=\"47.078456\" style=\"fill: #ff0000; stroke: #ff0000\"/>\n     <use xlink:href=\"#md33639d9c1\" x=\"119.609254\" y=\"84.167142\" style=\"fill: #ff0000; stroke: #ff0000\"/>\n     <use xlink:href=\"#md33639d9c1\" x=\"119.933985\" y=\"73.710065\" style=\"fill: #ff0000; stroke: #ff0000\"/>\n     <use xlink:href=\"#md33639d9c1\" x=\"120.258717\" y=\"97.163231\" style=\"fill: #ff0000; stroke: #ff0000\"/>\n     <use xlink:href=\"#md33639d9c1\" x=\"120.583449\" y=\"65.78894\" style=\"fill: #ff0000; stroke: #ff0000\"/>\n     <use xlink:href=\"#md33639d9c1\" x=\"120.908181\" y=\"80.375868\" style=\"fill: #ff0000; stroke: #ff0000\"/>\n     <use xlink:href=\"#md33639d9c1\" x=\"121.232913\" y=\"84.703715\" style=\"fill: #ff0000; stroke: #ff0000\"/>\n     <use xlink:href=\"#md33639d9c1\" x=\"121.557645\" y=\"55.353805\" style=\"fill: #ff0000; stroke: #ff0000\"/>\n     <use xlink:href=\"#md33639d9c1\" x=\"121.880658\" y=\"72.268243\" style=\"fill: #ff0000; stroke: #ff0000\"/>\n     <use xlink:href=\"#md33639d9c1\" x=\"122.20539\" y=\"68.233485\" style=\"fill: #ff0000; stroke: #ff0000\"/>\n     <use xlink:href=\"#md33639d9c1\" x=\"122.530122\" y=\"66.416918\" style=\"fill: #ff0000; stroke: #ff0000\"/>\n     <use xlink:href=\"#md33639d9c1\" x=\"122.854854\" y=\"51.723535\" style=\"fill: #ff0000; stroke: #ff0000\"/>\n     <use xlink:href=\"#md33639d9c1\" x=\"123.179586\" y=\"76.131465\" style=\"fill: #ff0000; stroke: #ff0000\"/>\n     <use xlink:href=\"#md33639d9c1\" x=\"123.504318\" y=\"58.982511\" style=\"fill: #ff0000; stroke: #ff0000\"/>\n     <use xlink:href=\"#md33639d9c1\" x=\"123.82905\" y=\"51.153599\" style=\"fill: #ff0000; stroke: #ff0000\"/>\n     <use xlink:href=\"#md33639d9c1\" x=\"124.153781\" y=\"61.970196\" style=\"fill: #ff0000; stroke: #ff0000\"/>\n     <use xlink:href=\"#md33639d9c1\" x=\"124.478513\" y=\"61.069275\" style=\"fill: #ff0000; stroke: #ff0000\"/>\n     <use xlink:href=\"#md33639d9c1\" x=\"124.803245\" y=\"51.237954\" style=\"fill: #ff0000; stroke: #ff0000\"/>\n     <use xlink:href=\"#md33639d9c1\" x=\"125.127977\" y=\"27.964436\" style=\"fill: #ff0000; stroke: #ff0000\"/>\n     <use xlink:href=\"#md33639d9c1\" x=\"125.452709\" y=\"53.611898\" style=\"fill: #ff0000; stroke: #ff0000\"/>\n     <use xlink:href=\"#md33639d9c1\" x=\"125.777441\" y=\"42.107032\" style=\"fill: #ff0000; stroke: #ff0000\"/>\n     <use xlink:href=\"#md33639d9c1\" x=\"126.102173\" y=\"66.022451\" style=\"fill: #ff0000; stroke: #ff0000\"/>\n     <use xlink:href=\"#md33639d9c1\" x=\"126.426905\" y=\"60.137921\" style=\"fill: #ff0000; stroke: #ff0000\"/>\n     <use xlink:href=\"#md33639d9c1\" x=\"126.751636\" y=\"96.525709\" style=\"fill: #ff0000; stroke: #ff0000\"/>\n     <use xlink:href=\"#md33639d9c1\" x=\"127.076368\" y=\"100.783596\" style=\"fill: #ff0000; stroke: #ff0000\"/>\n     <use xlink:href=\"#md33639d9c1\" x=\"127.4011\" y=\"80.13689\" style=\"fill: #ff0000; stroke: #ff0000\"/>\n     <use xlink:href=\"#md33639d9c1\" x=\"127.725832\" y=\"71.485652\" style=\"fill: #ff0000; stroke: #ff0000\"/>\n     <use xlink:href=\"#md33639d9c1\" x=\"128.050564\" y=\"42.188304\" style=\"fill: #ff0000; stroke: #ff0000\"/>\n     <use xlink:href=\"#md33639d9c1\" x=\"128.375296\" y=\"27.728068\" style=\"fill: #ff0000; stroke: #ff0000\"/>\n     <use xlink:href=\"#md33639d9c1\" x=\"128.700028\" y=\"43.837801\" style=\"fill: #ff0000; stroke: #ff0000\"/>\n     <use xlink:href=\"#md33639d9c1\" x=\"129.024759\" y=\"65.002663\" style=\"fill: #ff0000; stroke: #ff0000\"/>\n     <use xlink:href=\"#md33639d9c1\" x=\"129.347773\" y=\"54.38477\" style=\"fill: #ff0000; stroke: #ff0000\"/>\n     <use xlink:href=\"#md33639d9c1\" x=\"129.672505\" y=\"48.662139\" style=\"fill: #ff0000; stroke: #ff0000\"/>\n     <use xlink:href=\"#md33639d9c1\" x=\"129.997237\" y=\"62.197354\" style=\"fill: #ff0000; stroke: #ff0000\"/>\n     <use xlink:href=\"#md33639d9c1\" x=\"130.321969\" y=\"63.223913\" style=\"fill: #ff0000; stroke: #ff0000\"/>\n     <use xlink:href=\"#md33639d9c1\" x=\"130.646701\" y=\"79.524244\" style=\"fill: #ff0000; stroke: #ff0000\"/>\n     <use xlink:href=\"#md33639d9c1\" x=\"130.971432\" y=\"62.064044\" style=\"fill: #ff0000; stroke: #ff0000\"/>\n     <use xlink:href=\"#md33639d9c1\" x=\"131.296164\" y=\"49.515989\" style=\"fill: #ff0000; stroke: #ff0000\"/>\n     <use xlink:href=\"#md33639d9c1\" x=\"131.620896\" y=\"69.634394\" style=\"fill: #ff0000; stroke: #ff0000\"/>\n     <use xlink:href=\"#md33639d9c1\" x=\"131.945628\" y=\"70.377532\" style=\"fill: #ff0000; stroke: #ff0000\"/>\n     <use xlink:href=\"#md33639d9c1\" x=\"132.27036\" y=\"94.135058\" style=\"fill: #ff0000; stroke: #ff0000\"/>\n     <use xlink:href=\"#md33639d9c1\" x=\"132.595092\" y=\"76.783643\" style=\"fill: #ff0000; stroke: #ff0000\"/>\n     <use xlink:href=\"#md33639d9c1\" x=\"132.919824\" y=\"52.920861\" style=\"fill: #ff0000; stroke: #ff0000\"/>\n     <use xlink:href=\"#md33639d9c1\" x=\"133.244555\" y=\"61.638799\" style=\"fill: #ff0000; stroke: #ff0000\"/>\n     <use xlink:href=\"#md33639d9c1\" x=\"133.569287\" y=\"51.406432\" style=\"fill: #ff0000; stroke: #ff0000\"/>\n     <use xlink:href=\"#md33639d9c1\" x=\"133.894019\" y=\"40.438157\" style=\"fill: #ff0000; stroke: #ff0000\"/>\n     <use xlink:href=\"#md33639d9c1\" x=\"134.218751\" y=\"62.933374\" style=\"fill: #ff0000; stroke: #ff0000\"/>\n     <use xlink:href=\"#md33639d9c1\" x=\"134.543483\" y=\"47.718218\" style=\"fill: #ff0000; stroke: #ff0000\"/>\n     <use xlink:href=\"#md33639d9c1\" x=\"134.868215\" y=\"70.510496\" style=\"fill: #ff0000; stroke: #ff0000\"/>\n     <use xlink:href=\"#md33639d9c1\" x=\"135.192947\" y=\"40.751293\" style=\"fill: #ff0000; stroke: #ff0000\"/>\n     <use xlink:href=\"#md33639d9c1\" x=\"135.517678\" y=\"65.140612\" style=\"fill: #ff0000; stroke: #ff0000\"/>\n     <use xlink:href=\"#md33639d9c1\" x=\"135.84241\" y=\"63.692799\" style=\"fill: #ff0000; stroke: #ff0000\"/>\n     <use xlink:href=\"#md33639d9c1\" x=\"136.167142\" y=\"79.719011\" style=\"fill: #ff0000; stroke: #ff0000\"/>\n     <use xlink:href=\"#md33639d9c1\" x=\"136.490156\" y=\"94.45062\" style=\"fill: #ff0000; stroke: #ff0000\"/>\n     <use xlink:href=\"#md33639d9c1\" x=\"136.814888\" y=\"64.255755\" style=\"fill: #ff0000; stroke: #ff0000\"/>\n     <use xlink:href=\"#md33639d9c1\" x=\"137.13962\" y=\"24.838115\" style=\"fill: #ff0000; stroke: #ff0000\"/>\n     <use xlink:href=\"#md33639d9c1\" x=\"137.464352\" y=\"53.963725\" style=\"fill: #ff0000; stroke: #ff0000\"/>\n     <use xlink:href=\"#md33639d9c1\" x=\"137.789083\" y=\"46.528756\" style=\"fill: #ff0000; stroke: #ff0000\"/>\n     <use xlink:href=\"#md33639d9c1\" x=\"138.113815\" y=\"46.502522\" style=\"fill: #ff0000; stroke: #ff0000\"/>\n     <use xlink:href=\"#md33639d9c1\" x=\"138.438547\" y=\"66.432483\" style=\"fill: #ff0000; stroke: #ff0000\"/>\n     <use xlink:href=\"#md33639d9c1\" x=\"138.763279\" y=\"84.739451\" style=\"fill: #ff0000; stroke: #ff0000\"/>\n     <use xlink:href=\"#md33639d9c1\" x=\"139.088011\" y=\"57.994363\" style=\"fill: #ff0000; stroke: #ff0000\"/>\n     <use xlink:href=\"#md33639d9c1\" x=\"139.412743\" y=\"51.389267\" style=\"fill: #ff0000; stroke: #ff0000\"/>\n     <use xlink:href=\"#md33639d9c1\" x=\"139.737475\" y=\"35.344458\" style=\"fill: #ff0000; stroke: #ff0000\"/>\n     <use xlink:href=\"#md33639d9c1\" x=\"140.062206\" y=\"28.667394\" style=\"fill: #ff0000; stroke: #ff0000\"/>\n     <use xlink:href=\"#md33639d9c1\" x=\"140.386938\" y=\"57.027836\" style=\"fill: #ff0000; stroke: #ff0000\"/>\n     <use xlink:href=\"#md33639d9c1\" x=\"140.71167\" y=\"36.259231\" style=\"fill: #ff0000; stroke: #ff0000\"/>\n     <use xlink:href=\"#md33639d9c1\" x=\"141.036402\" y=\"46.107523\" style=\"fill: #ff0000; stroke: #ff0000\"/>\n     <use xlink:href=\"#md33639d9c1\" x=\"141.361134\" y=\"77.111525\" style=\"fill: #ff0000; stroke: #ff0000\"/>\n     <use xlink:href=\"#md33639d9c1\" x=\"141.685866\" y=\"60.618644\" style=\"fill: #ff0000; stroke: #ff0000\"/>\n     <use xlink:href=\"#md33639d9c1\" x=\"142.010598\" y=\"74.904349\" style=\"fill: #ff0000; stroke: #ff0000\"/>\n     <use xlink:href=\"#md33639d9c1\" x=\"142.335329\" y=\"55.057917\" style=\"fill: #ff0000; stroke: #ff0000\"/>\n     <use xlink:href=\"#md33639d9c1\" x=\"142.660061\" y=\"69.680172\" style=\"fill: #ff0000; stroke: #ff0000\"/>\n     <use xlink:href=\"#md33639d9c1\" x=\"142.984793\" y=\"71.084562\" style=\"fill: #ff0000; stroke: #ff0000\"/>\n     <use xlink:href=\"#md33639d9c1\" x=\"143.309525\" y=\"40.700157\" style=\"fill: #ff0000; stroke: #ff0000\"/>\n     <use xlink:href=\"#md33639d9c1\" x=\"143.632539\" y=\"58.615238\" style=\"fill: #ff0000; stroke: #ff0000\"/>\n     <use xlink:href=\"#md33639d9c1\" x=\"143.957271\" y=\"35.266665\" style=\"fill: #ff0000; stroke: #ff0000\"/>\n     <use xlink:href=\"#md33639d9c1\" x=\"144.282002\" y=\"48.627233\" style=\"fill: #ff0000; stroke: #ff0000\"/>\n     <use xlink:href=\"#md33639d9c1\" x=\"144.606734\" y=\"90.919581\" style=\"fill: #ff0000; stroke: #ff0000\"/>\n     <use xlink:href=\"#md33639d9c1\" x=\"144.931466\" y=\"29.154027\" style=\"fill: #ff0000; stroke: #ff0000\"/>\n     <use xlink:href=\"#md33639d9c1\" x=\"145.256198\" y=\"67.94665\" style=\"fill: #ff0000; stroke: #ff0000\"/>\n     <use xlink:href=\"#md33639d9c1\" x=\"145.58093\" y=\"76.426818\" style=\"fill: #ff0000; stroke: #ff0000\"/>\n     <use xlink:href=\"#md33639d9c1\" x=\"145.905662\" y=\"50.011538\" style=\"fill: #ff0000; stroke: #ff0000\"/>\n     <use xlink:href=\"#md33639d9c1\" x=\"146.230394\" y=\"47.440912\" style=\"fill: #ff0000; stroke: #ff0000\"/>\n     <use xlink:href=\"#md33639d9c1\" x=\"146.555126\" y=\"64.785738\" style=\"fill: #ff0000; stroke: #ff0000\"/>\n     <use xlink:href=\"#md33639d9c1\" x=\"146.879857\" y=\"50.582196\" style=\"fill: #ff0000; stroke: #ff0000\"/>\n     <use xlink:href=\"#md33639d9c1\" x=\"147.204589\" y=\"69.04575\" style=\"fill: #ff0000; stroke: #ff0000\"/>\n     <use xlink:href=\"#md33639d9c1\" x=\"147.529321\" y=\"73.131018\" style=\"fill: #ff0000; stroke: #ff0000\"/>\n     <use xlink:href=\"#md33639d9c1\" x=\"147.854053\" y=\"44.672767\" style=\"fill: #ff0000; stroke: #ff0000\"/>\n     <use xlink:href=\"#md33639d9c1\" x=\"148.178785\" y=\"56.802001\" style=\"fill: #ff0000; stroke: #ff0000\"/>\n     <use xlink:href=\"#md33639d9c1\" x=\"148.503517\" y=\"28.711268\" style=\"fill: #ff0000; stroke: #ff0000\"/>\n     <use xlink:href=\"#md33639d9c1\" x=\"148.828249\" y=\"29.435725\" style=\"fill: #ff0000; stroke: #ff0000\"/>\n     <use xlink:href=\"#md33639d9c1\" x=\"149.15298\" y=\"50.113559\" style=\"fill: #ff0000; stroke: #ff0000\"/>\n     <use xlink:href=\"#md33639d9c1\" x=\"149.477712\" y=\"60.042038\" style=\"fill: #ff0000; stroke: #ff0000\"/>\n     <use xlink:href=\"#md33639d9c1\" x=\"149.802444\" y=\"34.017707\" style=\"fill: #ff0000; stroke: #ff0000\"/>\n     <use xlink:href=\"#md33639d9c1\" x=\"150.127176\" y=\"34.44329\" style=\"fill: #ff0000; stroke: #ff0000\"/>\n     <use xlink:href=\"#md33639d9c1\" x=\"150.451908\" y=\"70.69287\" style=\"fill: #ff0000; stroke: #ff0000\"/>\n     <use xlink:href=\"#md33639d9c1\" x=\"150.77664\" y=\"49.461697\" style=\"fill: #ff0000; stroke: #ff0000\"/>\n     <use xlink:href=\"#md33639d9c1\" x=\"151.099653\" y=\"19.296\" style=\"fill: #ff0000; stroke: #ff0000\"/>\n     <use xlink:href=\"#md33639d9c1\" x=\"151.424385\" y=\"65.226892\" style=\"fill: #ff0000; stroke: #ff0000\"/>\n     <use xlink:href=\"#md33639d9c1\" x=\"151.749117\" y=\"50.376259\" style=\"fill: #ff0000; stroke: #ff0000\"/>\n     <use xlink:href=\"#md33639d9c1\" x=\"152.073849\" y=\"59.579575\" style=\"fill: #ff0000; stroke: #ff0000\"/>\n     <use xlink:href=\"#md33639d9c1\" x=\"152.398581\" y=\"72.845911\" style=\"fill: #ff0000; stroke: #ff0000\"/>\n     <use xlink:href=\"#md33639d9c1\" x=\"152.723313\" y=\"74.051941\" style=\"fill: #ff0000; stroke: #ff0000\"/>\n     <use xlink:href=\"#md33639d9c1\" x=\"153.048045\" y=\"54.265868\" style=\"fill: #ff0000; stroke: #ff0000\"/>\n     <use xlink:href=\"#md33639d9c1\" x=\"153.372776\" y=\"36.091195\" style=\"fill: #ff0000; stroke: #ff0000\"/>\n     <use xlink:href=\"#md33639d9c1\" x=\"153.697508\" y=\"32.681358\" style=\"fill: #ff0000; stroke: #ff0000\"/>\n     <use xlink:href=\"#md33639d9c1\" x=\"154.02224\" y=\"23.8566\" style=\"fill: #ff0000; stroke: #ff0000\"/>\n     <use xlink:href=\"#md33639d9c1\" x=\"154.346972\" y=\"39.275293\" style=\"fill: #ff0000; stroke: #ff0000\"/>\n     <use xlink:href=\"#md33639d9c1\" x=\"154.671704\" y=\"65.42563\" style=\"fill: #ff0000; stroke: #ff0000\"/>\n     <use xlink:href=\"#md33639d9c1\" x=\"154.996436\" y=\"50.720806\" style=\"fill: #ff0000; stroke: #ff0000\"/>\n     <use xlink:href=\"#md33639d9c1\" x=\"155.321168\" y=\"98.329246\" style=\"fill: #ff0000; stroke: #ff0000\"/>\n     <use xlink:href=\"#md33639d9c1\" x=\"155.645899\" y=\"51.354459\" style=\"fill: #ff0000; stroke: #ff0000\"/>\n     <use xlink:href=\"#md33639d9c1\" x=\"155.970631\" y=\"63.668895\" style=\"fill: #ff0000; stroke: #ff0000\"/>\n     <use xlink:href=\"#md33639d9c1\" x=\"156.295363\" y=\"41.744265\" style=\"fill: #ff0000; stroke: #ff0000\"/>\n     <use xlink:href=\"#md33639d9c1\" x=\"156.620095\" y=\"40.448973\" style=\"fill: #ff0000; stroke: #ff0000\"/>\n     <use xlink:href=\"#md33639d9c1\" x=\"156.944827\" y=\"56.608235\" style=\"fill: #ff0000; stroke: #ff0000\"/>\n     <use xlink:href=\"#md33639d9c1\" x=\"157.269559\" y=\"49.928097\" style=\"fill: #ff0000; stroke: #ff0000\"/>\n     <use xlink:href=\"#md33639d9c1\" x=\"157.594291\" y=\"79.812718\" style=\"fill: #ff0000; stroke: #ff0000\"/>\n     <use xlink:href=\"#md33639d9c1\" x=\"157.919023\" y=\"73.922711\" style=\"fill: #ff0000; stroke: #ff0000\"/>\n     <use xlink:href=\"#md33639d9c1\" x=\"158.242036\" y=\"37.576244\" style=\"fill: #ff0000; stroke: #ff0000\"/>\n     <use xlink:href=\"#md33639d9c1\" x=\"158.566768\" y=\"65.91444\" style=\"fill: #ff0000; stroke: #ff0000\"/>\n     <use xlink:href=\"#md33639d9c1\" x=\"158.8915\" y=\"43.223168\" style=\"fill: #ff0000; stroke: #ff0000\"/>\n     <use xlink:href=\"#md33639d9c1\" x=\"159.216232\" y=\"46.448011\" style=\"fill: #ff0000; stroke: #ff0000\"/>\n     <use xlink:href=\"#md33639d9c1\" x=\"159.540964\" y=\"69.765022\" style=\"fill: #ff0000; stroke: #ff0000\"/>\n     <use xlink:href=\"#md33639d9c1\" x=\"159.865696\" y=\"59.717007\" style=\"fill: #ff0000; stroke: #ff0000\"/>\n     <use xlink:href=\"#md33639d9c1\" x=\"160.190427\" y=\"34.792998\" style=\"fill: #ff0000; stroke: #ff0000\"/>\n     <use xlink:href=\"#md33639d9c1\" x=\"160.515159\" y=\"45.756566\" style=\"fill: #ff0000; stroke: #ff0000\"/>\n     <use xlink:href=\"#md33639d9c1\" x=\"160.839891\" y=\"49.236439\" style=\"fill: #ff0000; stroke: #ff0000\"/>\n     <use xlink:href=\"#md33639d9c1\" x=\"161.164623\" y=\"50.943582\" style=\"fill: #ff0000; stroke: #ff0000\"/>\n     <use xlink:href=\"#md33639d9c1\" x=\"161.489355\" y=\"48.874788\" style=\"fill: #ff0000; stroke: #ff0000\"/>\n     <use xlink:href=\"#md33639d9c1\" x=\"161.814087\" y=\"74.429257\" style=\"fill: #ff0000; stroke: #ff0000\"/>\n     <use xlink:href=\"#md33639d9c1\" x=\"162.138819\" y=\"69.591062\" style=\"fill: #ff0000; stroke: #ff0000\"/>\n     <use xlink:href=\"#md33639d9c1\" x=\"162.46355\" y=\"60.35205\" style=\"fill: #ff0000; stroke: #ff0000\"/>\n     <use xlink:href=\"#md33639d9c1\" x=\"162.788282\" y=\"56.963536\" style=\"fill: #ff0000; stroke: #ff0000\"/>\n     <use xlink:href=\"#md33639d9c1\" x=\"163.113014\" y=\"48.632897\" style=\"fill: #ff0000; stroke: #ff0000\"/>\n     <use xlink:href=\"#md33639d9c1\" x=\"163.437746\" y=\"57.86155\" style=\"fill: #ff0000; stroke: #ff0000\"/>\n     <use xlink:href=\"#md33639d9c1\" x=\"163.762478\" y=\"54.798585\" style=\"fill: #ff0000; stroke: #ff0000\"/>\n     <use xlink:href=\"#md33639d9c1\" x=\"164.08721\" y=\"67.930239\" style=\"fill: #ff0000; stroke: #ff0000\"/>\n     <use xlink:href=\"#md33639d9c1\" x=\"164.411942\" y=\"52.208409\" style=\"fill: #ff0000; stroke: #ff0000\"/>\n     <use xlink:href=\"#md33639d9c1\" x=\"164.736673\" y=\"62.016322\" style=\"fill: #ff0000; stroke: #ff0000\"/>\n     <use xlink:href=\"#md33639d9c1\" x=\"165.061405\" y=\"70.673116\" style=\"fill: #ff0000; stroke: #ff0000\"/>\n     <use xlink:href=\"#md33639d9c1\" x=\"165.384419\" y=\"52.251647\" style=\"fill: #ff0000; stroke: #ff0000\"/>\n     <use xlink:href=\"#md33639d9c1\" x=\"165.709151\" y=\"54.896974\" style=\"fill: #ff0000; stroke: #ff0000\"/>\n     <use xlink:href=\"#md33639d9c1\" x=\"166.033883\" y=\"48.656149\" style=\"fill: #ff0000; stroke: #ff0000\"/>\n     <use xlink:href=\"#md33639d9c1\" x=\"166.358615\" y=\"55.947085\" style=\"fill: #ff0000; stroke: #ff0000\"/>\n     <use xlink:href=\"#md33639d9c1\" x=\"166.683347\" y=\"57.504695\" style=\"fill: #ff0000; stroke: #ff0000\"/>\n     <use xlink:href=\"#md33639d9c1\" x=\"167.008078\" y=\"81.152237\" style=\"fill: #ff0000; stroke: #ff0000\"/>\n     <use xlink:href=\"#md33639d9c1\" x=\"167.33281\" y=\"31.287245\" style=\"fill: #ff0000; stroke: #ff0000\"/>\n     <use xlink:href=\"#md33639d9c1\" x=\"167.657542\" y=\"60.330201\" style=\"fill: #ff0000; stroke: #ff0000\"/>\n     <use xlink:href=\"#md33639d9c1\" x=\"167.982274\" y=\"45.170282\" style=\"fill: #ff0000; stroke: #ff0000\"/>\n     <use xlink:href=\"#md33639d9c1\" x=\"168.307006\" y=\"75.6331\" style=\"fill: #ff0000; stroke: #ff0000\"/>\n     <use xlink:href=\"#md33639d9c1\" x=\"168.631738\" y=\"91.347531\" style=\"fill: #ff0000; stroke: #ff0000\"/>\n     <use xlink:href=\"#md33639d9c1\" x=\"168.95647\" y=\"81.701285\" style=\"fill: #ff0000; stroke: #ff0000\"/>\n     <use xlink:href=\"#md33639d9c1\" x=\"169.281201\" y=\"71.485459\" style=\"fill: #ff0000; stroke: #ff0000\"/>\n     <use xlink:href=\"#md33639d9c1\" x=\"169.605933\" y=\"57.131574\" style=\"fill: #ff0000; stroke: #ff0000\"/>\n     <use xlink:href=\"#md33639d9c1\" x=\"169.930665\" y=\"53.32664\" style=\"fill: #ff0000; stroke: #ff0000\"/>\n     <use xlink:href=\"#md33639d9c1\" x=\"170.255397\" y=\"53.014797\" style=\"fill: #ff0000; stroke: #ff0000\"/>\n     <use xlink:href=\"#md33639d9c1\" x=\"170.580129\" y=\"50.761667\" style=\"fill: #ff0000; stroke: #ff0000\"/>\n     <use xlink:href=\"#md33639d9c1\" x=\"170.904861\" y=\"71.059842\" style=\"fill: #ff0000; stroke: #ff0000\"/>\n     <use xlink:href=\"#md33639d9c1\" x=\"171.229593\" y=\"70.810914\" style=\"fill: #ff0000; stroke: #ff0000\"/>\n     <use xlink:href=\"#md33639d9c1\" x=\"171.554324\" y=\"58.133851\" style=\"fill: #ff0000; stroke: #ff0000\"/>\n     <use xlink:href=\"#md33639d9c1\" x=\"171.879056\" y=\"43.358091\" style=\"fill: #ff0000; stroke: #ff0000\"/>\n     <use xlink:href=\"#md33639d9c1\" x=\"172.203788\" y=\"70.354758\" style=\"fill: #ff0000; stroke: #ff0000\"/>\n     <use xlink:href=\"#md33639d9c1\" x=\"172.52852\" y=\"60.957101\" style=\"fill: #ff0000; stroke: #ff0000\"/>\n     <use xlink:href=\"#md33639d9c1\" x=\"172.851534\" y=\"42.105618\" style=\"fill: #ff0000; stroke: #ff0000\"/>\n     <use xlink:href=\"#md33639d9c1\" x=\"173.176266\" y=\"70.436735\" style=\"fill: #ff0000; stroke: #ff0000\"/>\n     <use xlink:href=\"#md33639d9c1\" x=\"173.500997\" y=\"85.500008\" style=\"fill: #ff0000; stroke: #ff0000\"/>\n     <use xlink:href=\"#md33639d9c1\" x=\"173.825729\" y=\"59.207069\" style=\"fill: #ff0000; stroke: #ff0000\"/>\n     <use xlink:href=\"#md33639d9c1\" x=\"174.150461\" y=\"60.51364\" style=\"fill: #ff0000; stroke: #ff0000\"/>\n     <use xlink:href=\"#md33639d9c1\" x=\"174.475193\" y=\"40.280631\" style=\"fill: #ff0000; stroke: #ff0000\"/>\n     <use xlink:href=\"#md33639d9c1\" x=\"174.799925\" y=\"49.410116\" style=\"fill: #ff0000; stroke: #ff0000\"/>\n     <use xlink:href=\"#md33639d9c1\" x=\"175.124657\" y=\"60.785805\" style=\"fill: #ff0000; stroke: #ff0000\"/>\n     <use xlink:href=\"#md33639d9c1\" x=\"175.449389\" y=\"70.779964\" style=\"fill: #ff0000; stroke: #ff0000\"/>\n     <use xlink:href=\"#md33639d9c1\" x=\"175.774121\" y=\"62.830147\" style=\"fill: #ff0000; stroke: #ff0000\"/>\n     <use xlink:href=\"#md33639d9c1\" x=\"176.098852\" y=\"36.241229\" style=\"fill: #ff0000; stroke: #ff0000\"/>\n     <use xlink:href=\"#md33639d9c1\" x=\"176.423584\" y=\"79.632256\" style=\"fill: #ff0000; stroke: #ff0000\"/>\n     <use xlink:href=\"#md33639d9c1\" x=\"176.748316\" y=\"51.492459\" style=\"fill: #ff0000; stroke: #ff0000\"/>\n     <use xlink:href=\"#md33639d9c1\" x=\"177.073048\" y=\"42.152986\" style=\"fill: #ff0000; stroke: #ff0000\"/>\n     <use xlink:href=\"#md33639d9c1\" x=\"177.39778\" y=\"59.091159\" style=\"fill: #ff0000; stroke: #ff0000\"/>\n     <use xlink:href=\"#md33639d9c1\" x=\"177.722512\" y=\"86.592331\" style=\"fill: #ff0000; stroke: #ff0000\"/>\n     <use xlink:href=\"#md33639d9c1\" x=\"178.047244\" y=\"70.234974\" style=\"fill: #ff0000; stroke: #ff0000\"/>\n     <use xlink:href=\"#md33639d9c1\" x=\"178.371975\" y=\"55.738581\" style=\"fill: #ff0000; stroke: #ff0000\"/>\n     <use xlink:href=\"#md33639d9c1\" x=\"178.696707\" y=\"68.389815\" style=\"fill: #ff0000; stroke: #ff0000\"/>\n     <use xlink:href=\"#md33639d9c1\" x=\"179.021439\" y=\"59.963841\" style=\"fill: #ff0000; stroke: #ff0000\"/>\n     <use xlink:href=\"#md33639d9c1\" x=\"179.346171\" y=\"61.94713\" style=\"fill: #ff0000; stroke: #ff0000\"/>\n     <use xlink:href=\"#md33639d9c1\" x=\"179.670903\" y=\"19.5651\" style=\"fill: #ff0000; stroke: #ff0000\"/>\n     <use xlink:href=\"#md33639d9c1\" x=\"179.993917\" y=\"99.865782\" style=\"fill: #ff0000; stroke: #ff0000\"/>\n     <use xlink:href=\"#md33639d9c1\" x=\"180.318648\" y=\"90.514862\" style=\"fill: #ff0000; stroke: #ff0000\"/>\n     <use xlink:href=\"#md33639d9c1\" x=\"180.64338\" y=\"48.730225\" style=\"fill: #ff0000; stroke: #ff0000\"/>\n     <use xlink:href=\"#md33639d9c1\" x=\"180.968112\" y=\"88.540392\" style=\"fill: #ff0000; stroke: #ff0000\"/>\n     <use xlink:href=\"#md33639d9c1\" x=\"181.292844\" y=\"60.029968\" style=\"fill: #ff0000; stroke: #ff0000\"/>\n     <use xlink:href=\"#md33639d9c1\" x=\"181.617576\" y=\"75.787471\" style=\"fill: #ff0000; stroke: #ff0000\"/>\n     <use xlink:href=\"#md33639d9c1\" x=\"181.942308\" y=\"71.995835\" style=\"fill: #ff0000; stroke: #ff0000\"/>\n     <use xlink:href=\"#md33639d9c1\" x=\"182.26704\" y=\"67.133617\" style=\"fill: #ff0000; stroke: #ff0000\"/>\n     <use xlink:href=\"#md33639d9c1\" x=\"182.591771\" y=\"66.888895\" style=\"fill: #ff0000; stroke: #ff0000\"/>\n     <use xlink:href=\"#md33639d9c1\" x=\"182.916503\" y=\"44.396862\" style=\"fill: #ff0000; stroke: #ff0000\"/>\n     <use xlink:href=\"#md33639d9c1\" x=\"183.241235\" y=\"59.064543\" style=\"fill: #ff0000; stroke: #ff0000\"/>\n     <use xlink:href=\"#md33639d9c1\" x=\"183.565967\" y=\"83.555807\" style=\"fill: #ff0000; stroke: #ff0000\"/>\n     <use xlink:href=\"#md33639d9c1\" x=\"183.890699\" y=\"58.670964\" style=\"fill: #ff0000; stroke: #ff0000\"/>\n     <use xlink:href=\"#md33639d9c1\" x=\"184.215431\" y=\"62.429255\" style=\"fill: #ff0000; stroke: #ff0000\"/>\n     <use xlink:href=\"#md33639d9c1\" x=\"184.540163\" y=\"47.341891\" style=\"fill: #ff0000; stroke: #ff0000\"/>\n     <use xlink:href=\"#md33639d9c1\" x=\"184.864894\" y=\"38.823436\" style=\"fill: #ff0000; stroke: #ff0000\"/>\n     <use xlink:href=\"#md33639d9c1\" x=\"185.189626\" y=\"99.576031\" style=\"fill: #ff0000; stroke: #ff0000\"/>\n     <use xlink:href=\"#md33639d9c1\" x=\"185.514358\" y=\"94.118029\" style=\"fill: #ff0000; stroke: #ff0000\"/>\n     <use xlink:href=\"#md33639d9c1\" x=\"185.83909\" y=\"93.033754\" style=\"fill: #ff0000; stroke: #ff0000\"/>\n     <use xlink:href=\"#md33639d9c1\" x=\"186.163822\" y=\"83.402652\" style=\"fill: #ff0000; stroke: #ff0000\"/>\n     <use xlink:href=\"#md33639d9c1\" x=\"186.488554\" y=\"74.063437\" style=\"fill: #ff0000; stroke: #ff0000\"/>\n     <use xlink:href=\"#md33639d9c1\" x=\"186.813286\" y=\"44.660318\" style=\"fill: #ff0000; stroke: #ff0000\"/>\n     <use xlink:href=\"#md33639d9c1\" x=\"187.136299\" y=\"55.387045\" style=\"fill: #ff0000; stroke: #ff0000\"/>\n     <use xlink:href=\"#md33639d9c1\" x=\"187.461031\" y=\"83.38235\" style=\"fill: #ff0000; stroke: #ff0000\"/>\n     <use xlink:href=\"#md33639d9c1\" x=\"187.785763\" y=\"72.915932\" style=\"fill: #ff0000; stroke: #ff0000\"/>\n     <use xlink:href=\"#md33639d9c1\" x=\"188.110495\" y=\"77.861879\" style=\"fill: #ff0000; stroke: #ff0000\"/>\n     <use xlink:href=\"#md33639d9c1\" x=\"188.435227\" y=\"34.527931\" style=\"fill: #ff0000; stroke: #ff0000\"/>\n     <use xlink:href=\"#md33639d9c1\" x=\"188.759959\" y=\"51.094697\" style=\"fill: #ff0000; stroke: #ff0000\"/>\n     <use xlink:href=\"#md33639d9c1\" x=\"189.084691\" y=\"72.704474\" style=\"fill: #ff0000; stroke: #ff0000\"/>\n     <use xlink:href=\"#md33639d9c1\" x=\"189.409422\" y=\"73.069536\" style=\"fill: #ff0000; stroke: #ff0000\"/>\n     <use xlink:href=\"#md33639d9c1\" x=\"189.734154\" y=\"76.998193\" style=\"fill: #ff0000; stroke: #ff0000\"/>\n     <use xlink:href=\"#md33639d9c1\" x=\"190.058886\" y=\"87.162233\" style=\"fill: #ff0000; stroke: #ff0000\"/>\n     <use xlink:href=\"#md33639d9c1\" x=\"190.383618\" y=\"83.061455\" style=\"fill: #ff0000; stroke: #ff0000\"/>\n     <use xlink:href=\"#md33639d9c1\" x=\"190.70835\" y=\"58.796532\" style=\"fill: #ff0000; stroke: #ff0000\"/>\n     <use xlink:href=\"#md33639d9c1\" x=\"191.033082\" y=\"60.230975\" style=\"fill: #ff0000; stroke: #ff0000\"/>\n     <use xlink:href=\"#md33639d9c1\" x=\"191.357814\" y=\"53.507003\" style=\"fill: #ff0000; stroke: #ff0000\"/>\n     <use xlink:href=\"#md33639d9c1\" x=\"191.682545\" y=\"49.695858\" style=\"fill: #ff0000; stroke: #ff0000\"/>\n     <use xlink:href=\"#md33639d9c1\" x=\"192.007277\" y=\"38.894987\" style=\"fill: #ff0000; stroke: #ff0000\"/>\n     <use xlink:href=\"#md33639d9c1\" x=\"192.332009\" y=\"49.765107\" style=\"fill: #ff0000; stroke: #ff0000\"/>\n     <use xlink:href=\"#md33639d9c1\" x=\"192.656741\" y=\"83.969991\" style=\"fill: #ff0000; stroke: #ff0000\"/>\n     <use xlink:href=\"#md33639d9c1\" x=\"192.981473\" y=\"52.891524\" style=\"fill: #ff0000; stroke: #ff0000\"/>\n     <use xlink:href=\"#md33639d9c1\" x=\"193.306205\" y=\"98.795718\" style=\"fill: #ff0000; stroke: #ff0000\"/>\n     <use xlink:href=\"#md33639d9c1\" x=\"193.630937\" y=\"71.134475\" style=\"fill: #ff0000; stroke: #ff0000\"/>\n     <use xlink:href=\"#md33639d9c1\" x=\"193.955668\" y=\"80.176084\" style=\"fill: #ff0000; stroke: #ff0000\"/>\n     <use xlink:href=\"#md33639d9c1\" x=\"194.2804\" y=\"86.327148\" style=\"fill: #ff0000; stroke: #ff0000\"/>\n     <use xlink:href=\"#md33639d9c1\" x=\"194.603414\" y=\"128.109502\" style=\"fill: #ff0000; stroke: #ff0000\"/>\n     <use xlink:href=\"#md33639d9c1\" x=\"194.928146\" y=\"93.983186\" style=\"fill: #ff0000; stroke: #ff0000\"/>\n     <use xlink:href=\"#md33639d9c1\" x=\"195.252878\" y=\"92.767649\" style=\"fill: #ff0000; stroke: #ff0000\"/>\n     <use xlink:href=\"#md33639d9c1\" x=\"195.57761\" y=\"65.565306\" style=\"fill: #ff0000; stroke: #ff0000\"/>\n     <use xlink:href=\"#md33639d9c1\" x=\"195.902342\" y=\"52.879971\" style=\"fill: #ff0000; stroke: #ff0000\"/>\n     <use xlink:href=\"#md33639d9c1\" x=\"196.227073\" y=\"86.5362\" style=\"fill: #ff0000; stroke: #ff0000\"/>\n     <use xlink:href=\"#md33639d9c1\" x=\"196.551805\" y=\"72.088573\" style=\"fill: #ff0000; stroke: #ff0000\"/>\n     <use xlink:href=\"#md33639d9c1\" x=\"196.876537\" y=\"105.383117\" style=\"fill: #ff0000; stroke: #ff0000\"/>\n     <use xlink:href=\"#md33639d9c1\" x=\"197.201269\" y=\"74.487694\" style=\"fill: #ff0000; stroke: #ff0000\"/>\n     <use xlink:href=\"#md33639d9c1\" x=\"197.526001\" y=\"76.802675\" style=\"fill: #ff0000; stroke: #ff0000\"/>\n     <use xlink:href=\"#md33639d9c1\" x=\"197.850733\" y=\"55.701177\" style=\"fill: #ff0000; stroke: #ff0000\"/>\n     <use xlink:href=\"#md33639d9c1\" x=\"198.175465\" y=\"86.007746\" style=\"fill: #ff0000; stroke: #ff0000\"/>\n     <use xlink:href=\"#md33639d9c1\" x=\"198.500196\" y=\"74.098087\" style=\"fill: #ff0000; stroke: #ff0000\"/>\n     <use xlink:href=\"#md33639d9c1\" x=\"198.824928\" y=\"69.71656\" style=\"fill: #ff0000; stroke: #ff0000\"/>\n     <use xlink:href=\"#md33639d9c1\" x=\"199.14966\" y=\"79.589398\" style=\"fill: #ff0000; stroke: #ff0000\"/>\n     <use xlink:href=\"#md33639d9c1\" x=\"199.474392\" y=\"82.667874\" style=\"fill: #ff0000; stroke: #ff0000\"/>\n     <use xlink:href=\"#md33639d9c1\" x=\"199.799124\" y=\"80.040801\" style=\"fill: #ff0000; stroke: #ff0000\"/>\n     <use xlink:href=\"#md33639d9c1\" x=\"200.123856\" y=\"51.073796\" style=\"fill: #ff0000; stroke: #ff0000\"/>\n     <use xlink:href=\"#md33639d9c1\" x=\"200.448588\" y=\"58.445086\" style=\"fill: #ff0000; stroke: #ff0000\"/>\n     <use xlink:href=\"#md33639d9c1\" x=\"200.773319\" y=\"69.140347\" style=\"fill: #ff0000; stroke: #ff0000\"/>\n     <use xlink:href=\"#md33639d9c1\" x=\"201.098051\" y=\"94.253178\" style=\"fill: #ff0000; stroke: #ff0000\"/>\n     <use xlink:href=\"#md33639d9c1\" x=\"201.422783\" y=\"93.94511\" style=\"fill: #ff0000; stroke: #ff0000\"/>\n     <use xlink:href=\"#md33639d9c1\" x=\"201.745797\" y=\"107.311359\" style=\"fill: #ff0000; stroke: #ff0000\"/>\n     <use xlink:href=\"#md33639d9c1\" x=\"202.070529\" y=\"88.773014\" style=\"fill: #ff0000; stroke: #ff0000\"/>\n     <use xlink:href=\"#md33639d9c1\" x=\"202.395261\" y=\"69.408618\" style=\"fill: #ff0000; stroke: #ff0000\"/>\n     <use xlink:href=\"#md33639d9c1\" x=\"202.719992\" y=\"75.240786\" style=\"fill: #ff0000; stroke: #ff0000\"/>\n     <use xlink:href=\"#md33639d9c1\" x=\"203.044724\" y=\"77.913325\" style=\"fill: #ff0000; stroke: #ff0000\"/>\n     <use xlink:href=\"#md33639d9c1\" x=\"203.369456\" y=\"82.537388\" style=\"fill: #ff0000; stroke: #ff0000\"/>\n     <use xlink:href=\"#md33639d9c1\" x=\"203.694188\" y=\"103.538569\" style=\"fill: #ff0000; stroke: #ff0000\"/>\n     <use xlink:href=\"#md33639d9c1\" x=\"204.01892\" y=\"83.014835\" style=\"fill: #ff0000; stroke: #ff0000\"/>\n     <use xlink:href=\"#md33639d9c1\" x=\"204.343652\" y=\"97.049701\" style=\"fill: #ff0000; stroke: #ff0000\"/>\n     <use xlink:href=\"#md33639d9c1\" x=\"204.668384\" y=\"56.654433\" style=\"fill: #ff0000; stroke: #ff0000\"/>\n     <use xlink:href=\"#md33639d9c1\" x=\"204.993116\" y=\"89.560358\" style=\"fill: #ff0000; stroke: #ff0000\"/>\n     <use xlink:href=\"#md33639d9c1\" x=\"205.317847\" y=\"107.515836\" style=\"fill: #ff0000; stroke: #ff0000\"/>\n     <use xlink:href=\"#md33639d9c1\" x=\"205.642579\" y=\"134.48006\" style=\"fill: #ff0000; stroke: #ff0000\"/>\n     <use xlink:href=\"#md33639d9c1\" x=\"205.967311\" y=\"120.018427\" style=\"fill: #ff0000; stroke: #ff0000\"/>\n     <use xlink:href=\"#md33639d9c1\" x=\"206.292043\" y=\"87.919585\" style=\"fill: #ff0000; stroke: #ff0000\"/>\n     <use xlink:href=\"#md33639d9c1\" x=\"206.616775\" y=\"82.308248\" style=\"fill: #ff0000; stroke: #ff0000\"/>\n     <use xlink:href=\"#md33639d9c1\" x=\"206.941507\" y=\"74.22844\" style=\"fill: #ff0000; stroke: #ff0000\"/>\n     <use xlink:href=\"#md33639d9c1\" x=\"207.266239\" y=\"74.298539\" style=\"fill: #ff0000; stroke: #ff0000\"/>\n     <use xlink:href=\"#md33639d9c1\" x=\"207.59097\" y=\"104.277714\" style=\"fill: #ff0000; stroke: #ff0000\"/>\n     <use xlink:href=\"#md33639d9c1\" x=\"207.915702\" y=\"100.214881\" style=\"fill: #ff0000; stroke: #ff0000\"/>\n     <use xlink:href=\"#md33639d9c1\" x=\"208.240434\" y=\"109.455795\" style=\"fill: #ff0000; stroke: #ff0000\"/>\n     <use xlink:href=\"#md33639d9c1\" x=\"208.565166\" y=\"97.976826\" style=\"fill: #ff0000; stroke: #ff0000\"/>\n     <use xlink:href=\"#md33639d9c1\" x=\"208.88818\" y=\"114.630093\" style=\"fill: #ff0000; stroke: #ff0000\"/>\n     <use xlink:href=\"#md33639d9c1\" x=\"209.212912\" y=\"84.216603\" style=\"fill: #ff0000; stroke: #ff0000\"/>\n     <use xlink:href=\"#md33639d9c1\" x=\"209.537643\" y=\"98.049599\" style=\"fill: #ff0000; stroke: #ff0000\"/>\n     <use xlink:href=\"#md33639d9c1\" x=\"209.862375\" y=\"128.031205\" style=\"fill: #ff0000; stroke: #ff0000\"/>\n     <use xlink:href=\"#md33639d9c1\" x=\"210.187107\" y=\"96.667365\" style=\"fill: #ff0000; stroke: #ff0000\"/>\n     <use xlink:href=\"#md33639d9c1\" x=\"210.511839\" y=\"82.829636\" style=\"fill: #ff0000; stroke: #ff0000\"/>\n     <use xlink:href=\"#md33639d9c1\" x=\"210.836571\" y=\"90.245288\" style=\"fill: #ff0000; stroke: #ff0000\"/>\n     <use xlink:href=\"#md33639d9c1\" x=\"211.161303\" y=\"93.536689\" style=\"fill: #ff0000; stroke: #ff0000\"/>\n     <use xlink:href=\"#md33639d9c1\" x=\"211.486035\" y=\"91.08249\" style=\"fill: #ff0000; stroke: #ff0000\"/>\n     <use xlink:href=\"#md33639d9c1\" x=\"211.810766\" y=\"110.748271\" style=\"fill: #ff0000; stroke: #ff0000\"/>\n     <use xlink:href=\"#md33639d9c1\" x=\"212.135498\" y=\"106.718849\" style=\"fill: #ff0000; stroke: #ff0000\"/>\n     <use xlink:href=\"#md33639d9c1\" x=\"212.46023\" y=\"112.997102\" style=\"fill: #ff0000; stroke: #ff0000\"/>\n     <use xlink:href=\"#md33639d9c1\" x=\"212.784962\" y=\"105.961835\" style=\"fill: #ff0000; stroke: #ff0000\"/>\n     <use xlink:href=\"#md33639d9c1\" x=\"213.109694\" y=\"92.011369\" style=\"fill: #ff0000; stroke: #ff0000\"/>\n     <use xlink:href=\"#md33639d9c1\" x=\"213.434426\" y=\"107.588607\" style=\"fill: #ff0000; stroke: #ff0000\"/>\n     <use xlink:href=\"#md33639d9c1\" x=\"213.759158\" y=\"92.23377\" style=\"fill: #ff0000; stroke: #ff0000\"/>\n     <use xlink:href=\"#md33639d9c1\" x=\"214.083889\" y=\"49.052217\" style=\"fill: #ff0000; stroke: #ff0000\"/>\n     <use xlink:href=\"#md33639d9c1\" x=\"214.408621\" y=\"98.239477\" style=\"fill: #ff0000; stroke: #ff0000\"/>\n     <use xlink:href=\"#md33639d9c1\" x=\"214.733353\" y=\"87.334484\" style=\"fill: #ff0000; stroke: #ff0000\"/>\n     <use xlink:href=\"#md33639d9c1\" x=\"215.058085\" y=\"111.139691\" style=\"fill: #ff0000; stroke: #ff0000\"/>\n     <use xlink:href=\"#md33639d9c1\" x=\"215.382817\" y=\"93.618731\" style=\"fill: #ff0000; stroke: #ff0000\"/>\n     <use xlink:href=\"#md33639d9c1\" x=\"215.707549\" y=\"94.434569\" style=\"fill: #ff0000; stroke: #ff0000\"/>\n     <use xlink:href=\"#md33639d9c1\" x=\"216.032281\" y=\"84.126691\" style=\"fill: #ff0000; stroke: #ff0000\"/>\n     <use xlink:href=\"#md33639d9c1\" x=\"216.355294\" y=\"83.569593\" style=\"fill: #ff0000; stroke: #ff0000\"/>\n     <use xlink:href=\"#md33639d9c1\" x=\"216.680026\" y=\"83.702828\" style=\"fill: #ff0000; stroke: #ff0000\"/>\n     <use xlink:href=\"#md33639d9c1\" x=\"217.004758\" y=\"90.77498\" style=\"fill: #ff0000; stroke: #ff0000\"/>\n     <use xlink:href=\"#md33639d9c1\" x=\"217.32949\" y=\"76.766368\" style=\"fill: #ff0000; stroke: #ff0000\"/>\n     <use xlink:href=\"#md33639d9c1\" x=\"217.654222\" y=\"112.630306\" style=\"fill: #ff0000; stroke: #ff0000\"/>\n     <use xlink:href=\"#md33639d9c1\" x=\"217.978954\" y=\"108.115342\" style=\"fill: #ff0000; stroke: #ff0000\"/>\n     <use xlink:href=\"#md33639d9c1\" x=\"218.303686\" y=\"85.052433\" style=\"fill: #ff0000; stroke: #ff0000\"/>\n     <use xlink:href=\"#md33639d9c1\" x=\"218.628417\" y=\"119.465603\" style=\"fill: #ff0000; stroke: #ff0000\"/>\n     <use xlink:href=\"#md33639d9c1\" x=\"218.953149\" y=\"111.104257\" style=\"fill: #ff0000; stroke: #ff0000\"/>\n     <use xlink:href=\"#md33639d9c1\" x=\"219.277881\" y=\"99.078737\" style=\"fill: #ff0000; stroke: #ff0000\"/>\n     <use xlink:href=\"#md33639d9c1\" x=\"219.602613\" y=\"115.876501\" style=\"fill: #ff0000; stroke: #ff0000\"/>\n     <use xlink:href=\"#md33639d9c1\" x=\"219.927345\" y=\"104.905412\" style=\"fill: #ff0000; stroke: #ff0000\"/>\n     <use xlink:href=\"#md33639d9c1\" x=\"220.252077\" y=\"128.925177\" style=\"fill: #ff0000; stroke: #ff0000\"/>\n     <use xlink:href=\"#md33639d9c1\" x=\"220.576809\" y=\"119.015979\" style=\"fill: #ff0000; stroke: #ff0000\"/>\n     <use xlink:href=\"#md33639d9c1\" x=\"220.90154\" y=\"93.654849\" style=\"fill: #ff0000; stroke: #ff0000\"/>\n     <use xlink:href=\"#md33639d9c1\" x=\"221.226272\" y=\"107.383484\" style=\"fill: #ff0000; stroke: #ff0000\"/>\n     <use xlink:href=\"#md33639d9c1\" x=\"221.551004\" y=\"90.368579\" style=\"fill: #ff0000; stroke: #ff0000\"/>\n     <use xlink:href=\"#md33639d9c1\" x=\"221.875736\" y=\"99.065328\" style=\"fill: #ff0000; stroke: #ff0000\"/>\n     <use xlink:href=\"#md33639d9c1\" x=\"222.200468\" y=\"104.808378\" style=\"fill: #ff0000; stroke: #ff0000\"/>\n     <use xlink:href=\"#md33639d9c1\" x=\"222.5252\" y=\"127.359077\" style=\"fill: #ff0000; stroke: #ff0000\"/>\n     <use xlink:href=\"#md33639d9c1\" x=\"222.849932\" y=\"112.08118\" style=\"fill: #ff0000; stroke: #ff0000\"/>\n     <use xlink:href=\"#md33639d9c1\" x=\"223.174663\" y=\"130.206303\" style=\"fill: #ff0000; stroke: #ff0000\"/>\n     <use xlink:href=\"#md33639d9c1\" x=\"223.497677\" y=\"108.396198\" style=\"fill: #ff0000; stroke: #ff0000\"/>\n     <use xlink:href=\"#md33639d9c1\" x=\"223.822409\" y=\"93.455743\" style=\"fill: #ff0000; stroke: #ff0000\"/>\n     <use xlink:href=\"#md33639d9c1\" x=\"224.147141\" y=\"120.376687\" style=\"fill: #ff0000; stroke: #ff0000\"/>\n     <use xlink:href=\"#md33639d9c1\" x=\"224.471873\" y=\"76.90491\" style=\"fill: #ff0000; stroke: #ff0000\"/>\n     <use xlink:href=\"#md33639d9c1\" x=\"224.796605\" y=\"81.567514\" style=\"fill: #ff0000; stroke: #ff0000\"/>\n     <use xlink:href=\"#md33639d9c1\" x=\"225.121337\" y=\"93.828953\" style=\"fill: #ff0000; stroke: #ff0000\"/>\n     <use xlink:href=\"#md33639d9c1\" x=\"225.446068\" y=\"115.567219\" style=\"fill: #ff0000; stroke: #ff0000\"/>\n     <use xlink:href=\"#md33639d9c1\" x=\"225.7708\" y=\"99.135029\" style=\"fill: #ff0000; stroke: #ff0000\"/>\n     <use xlink:href=\"#md33639d9c1\" x=\"226.095532\" y=\"100.909233\" style=\"fill: #ff0000; stroke: #ff0000\"/>\n     <use xlink:href=\"#md33639d9c1\" x=\"226.420264\" y=\"135.360973\" style=\"fill: #ff0000; stroke: #ff0000\"/>\n     <use xlink:href=\"#md33639d9c1\" x=\"226.744996\" y=\"106.477761\" style=\"fill: #ff0000; stroke: #ff0000\"/>\n     <use xlink:href=\"#md33639d9c1\" x=\"227.069728\" y=\"102.680425\" style=\"fill: #ff0000; stroke: #ff0000\"/>\n     <use xlink:href=\"#md33639d9c1\" x=\"227.39446\" y=\"132.409509\" style=\"fill: #ff0000; stroke: #ff0000\"/>\n     <use xlink:href=\"#md33639d9c1\" x=\"227.719191\" y=\"100.670581\" style=\"fill: #ff0000; stroke: #ff0000\"/>\n     <use xlink:href=\"#md33639d9c1\" x=\"228.043923\" y=\"129.782692\" style=\"fill: #ff0000; stroke: #ff0000\"/>\n     <use xlink:href=\"#md33639d9c1\" x=\"228.368655\" y=\"120.155109\" style=\"fill: #ff0000; stroke: #ff0000\"/>\n     <use xlink:href=\"#md33639d9c1\" x=\"228.693387\" y=\"116.576767\" style=\"fill: #ff0000; stroke: #ff0000\"/>\n     <use xlink:href=\"#md33639d9c1\" x=\"229.018119\" y=\"97.66834\" style=\"fill: #ff0000; stroke: #ff0000\"/>\n     <use xlink:href=\"#md33639d9c1\" x=\"229.342851\" y=\"99.293653\" style=\"fill: #ff0000; stroke: #ff0000\"/>\n     <use xlink:href=\"#md33639d9c1\" x=\"229.667583\" y=\"101.260148\" style=\"fill: #ff0000; stroke: #ff0000\"/>\n     <use xlink:href=\"#md33639d9c1\" x=\"229.992314\" y=\"112.146386\" style=\"fill: #ff0000; stroke: #ff0000\"/>\n     <use xlink:href=\"#md33639d9c1\" x=\"230.317046\" y=\"101.825653\" style=\"fill: #ff0000; stroke: #ff0000\"/>\n     <use xlink:href=\"#md33639d9c1\" x=\"230.64006\" y=\"78.920702\" style=\"fill: #ff0000; stroke: #ff0000\"/>\n     <use xlink:href=\"#md33639d9c1\" x=\"230.964792\" y=\"105.274334\" style=\"fill: #ff0000; stroke: #ff0000\"/>\n     <use xlink:href=\"#md33639d9c1\" x=\"231.289524\" y=\"101.562996\" style=\"fill: #ff0000; stroke: #ff0000\"/>\n     <use xlink:href=\"#md33639d9c1\" x=\"231.614256\" y=\"103.528274\" style=\"fill: #ff0000; stroke: #ff0000\"/>\n     <use xlink:href=\"#md33639d9c1\" x=\"231.938987\" y=\"130.400165\" style=\"fill: #ff0000; stroke: #ff0000\"/>\n     <use xlink:href=\"#md33639d9c1\" x=\"232.263719\" y=\"138.418041\" style=\"fill: #ff0000; stroke: #ff0000\"/>\n     <use xlink:href=\"#md33639d9c1\" x=\"232.588451\" y=\"113.591683\" style=\"fill: #ff0000; stroke: #ff0000\"/>\n     <use xlink:href=\"#md33639d9c1\" x=\"232.913183\" y=\"91.822417\" style=\"fill: #ff0000; stroke: #ff0000\"/>\n     <use xlink:href=\"#md33639d9c1\" x=\"233.237915\" y=\"100.061897\" style=\"fill: #ff0000; stroke: #ff0000\"/>\n     <use xlink:href=\"#md33639d9c1\" x=\"233.562647\" y=\"117.285963\" style=\"fill: #ff0000; stroke: #ff0000\"/>\n     <use xlink:href=\"#md33639d9c1\" x=\"233.887379\" y=\"130.372518\" style=\"fill: #ff0000; stroke: #ff0000\"/>\n     <use xlink:href=\"#md33639d9c1\" x=\"234.212111\" y=\"128.019251\" style=\"fill: #ff0000; stroke: #ff0000\"/>\n     <use xlink:href=\"#md33639d9c1\" x=\"234.536842\" y=\"109.129527\" style=\"fill: #ff0000; stroke: #ff0000\"/>\n     <use xlink:href=\"#md33639d9c1\" x=\"234.861574\" y=\"117.302466\" style=\"fill: #ff0000; stroke: #ff0000\"/>\n     <use xlink:href=\"#md33639d9c1\" x=\"235.186306\" y=\"137.707545\" style=\"fill: #ff0000; stroke: #ff0000\"/>\n     <use xlink:href=\"#md33639d9c1\" x=\"235.511038\" y=\"105.699945\" style=\"fill: #ff0000; stroke: #ff0000\"/>\n     <use xlink:href=\"#md33639d9c1\" x=\"235.83577\" y=\"116.170008\" style=\"fill: #ff0000; stroke: #ff0000\"/>\n     <use xlink:href=\"#md33639d9c1\" x=\"236.160502\" y=\"127.270814\" style=\"fill: #ff0000; stroke: #ff0000\"/>\n     <use xlink:href=\"#md33639d9c1\" x=\"236.485234\" y=\"122.281458\" style=\"fill: #ff0000; stroke: #ff0000\"/>\n     <use xlink:href=\"#md33639d9c1\" x=\"236.809965\" y=\"132.705459\" style=\"fill: #ff0000; stroke: #ff0000\"/>\n     <use xlink:href=\"#md33639d9c1\" x=\"237.134697\" y=\"123.898289\" style=\"fill: #ff0000; stroke: #ff0000\"/>\n     <use xlink:href=\"#md33639d9c1\" x=\"237.459429\" y=\"122.932305\" style=\"fill: #ff0000; stroke: #ff0000\"/>\n     <use xlink:href=\"#md33639d9c1\" x=\"237.784161\" y=\"112.889895\" style=\"fill: #ff0000; stroke: #ff0000\"/>\n     <use xlink:href=\"#md33639d9c1\" x=\"238.107175\" y=\"116.235202\" style=\"fill: #ff0000; stroke: #ff0000\"/>\n     <use xlink:href=\"#md33639d9c1\" x=\"238.431907\" y=\"103.991018\" style=\"fill: #ff0000; stroke: #ff0000\"/>\n     <use xlink:href=\"#md33639d9c1\" x=\"238.756638\" y=\"147.694521\" style=\"fill: #ff0000; stroke: #ff0000\"/>\n     <use xlink:href=\"#md33639d9c1\" x=\"239.08137\" y=\"137.958769\" style=\"fill: #ff0000; stroke: #ff0000\"/>\n     <use xlink:href=\"#md33639d9c1\" x=\"239.406102\" y=\"135.343374\" style=\"fill: #ff0000; stroke: #ff0000\"/>\n     <use xlink:href=\"#md33639d9c1\" x=\"239.730834\" y=\"109.468861\" style=\"fill: #ff0000; stroke: #ff0000\"/>\n     <use xlink:href=\"#md33639d9c1\" x=\"240.055566\" y=\"136.113531\" style=\"fill: #ff0000; stroke: #ff0000\"/>\n     <use xlink:href=\"#md33639d9c1\" x=\"240.380298\" y=\"102.594902\" style=\"fill: #ff0000; stroke: #ff0000\"/>\n     <use xlink:href=\"#md33639d9c1\" x=\"240.70503\" y=\"77.438823\" style=\"fill: #ff0000; stroke: #ff0000\"/>\n     <use xlink:href=\"#md33639d9c1\" x=\"241.029761\" y=\"107.684053\" style=\"fill: #ff0000; stroke: #ff0000\"/>\n     <use xlink:href=\"#md33639d9c1\" x=\"241.354493\" y=\"110.050716\" style=\"fill: #ff0000; stroke: #ff0000\"/>\n     <use xlink:href=\"#md33639d9c1\" x=\"241.679225\" y=\"100.206834\" style=\"fill: #ff0000; stroke: #ff0000\"/>\n     <use xlink:href=\"#md33639d9c1\" x=\"242.003957\" y=\"121.149598\" style=\"fill: #ff0000; stroke: #ff0000\"/>\n     <use xlink:href=\"#md33639d9c1\" x=\"242.328689\" y=\"109.385279\" style=\"fill: #ff0000; stroke: #ff0000\"/>\n     <use xlink:href=\"#md33639d9c1\" x=\"242.653421\" y=\"103.727215\" style=\"fill: #ff0000; stroke: #ff0000\"/>\n     <use xlink:href=\"#md33639d9c1\" x=\"242.978153\" y=\"137.506849\" style=\"fill: #ff0000; stroke: #ff0000\"/>\n     <use xlink:href=\"#md33639d9c1\" x=\"243.302884\" y=\"109.012601\" style=\"fill: #ff0000; stroke: #ff0000\"/>\n     <use xlink:href=\"#md33639d9c1\" x=\"243.627616\" y=\"134.614169\" style=\"fill: #ff0000; stroke: #ff0000\"/>\n     <use xlink:href=\"#md33639d9c1\" x=\"243.952348\" y=\"133.872904\" style=\"fill: #ff0000; stroke: #ff0000\"/>\n     <use xlink:href=\"#md33639d9c1\" x=\"244.27708\" y=\"165.401435\" style=\"fill: #ff0000; stroke: #ff0000\"/>\n     <use xlink:href=\"#md33639d9c1\" x=\"244.601812\" y=\"123.393232\" style=\"fill: #ff0000; stroke: #ff0000\"/>\n     <use xlink:href=\"#md33639d9c1\" x=\"244.926544\" y=\"139.92426\" style=\"fill: #ff0000; stroke: #ff0000\"/>\n     <use xlink:href=\"#md33639d9c1\" x=\"245.249558\" y=\"79.589289\" style=\"fill: #ff0000; stroke: #ff0000\"/>\n     <use xlink:href=\"#md33639d9c1\" x=\"245.574289\" y=\"129.022446\" style=\"fill: #ff0000; stroke: #ff0000\"/>\n     <use xlink:href=\"#md33639d9c1\" x=\"245.899021\" y=\"131.216897\" style=\"fill: #ff0000; stroke: #ff0000\"/>\n     <use xlink:href=\"#md33639d9c1\" x=\"246.223753\" y=\"102.4114\" style=\"fill: #ff0000; stroke: #ff0000\"/>\n     <use xlink:href=\"#md33639d9c1\" x=\"246.548485\" y=\"128.344812\" style=\"fill: #ff0000; stroke: #ff0000\"/>\n     <use xlink:href=\"#md33639d9c1\" x=\"246.873217\" y=\"121.994397\" style=\"fill: #ff0000; stroke: #ff0000\"/>\n     <use xlink:href=\"#md33639d9c1\" x=\"247.197949\" y=\"88.616504\" style=\"fill: #ff0000; stroke: #ff0000\"/>\n     <use xlink:href=\"#md33639d9c1\" x=\"247.522681\" y=\"138.099514\" style=\"fill: #ff0000; stroke: #ff0000\"/>\n     <use xlink:href=\"#md33639d9c1\" x=\"247.847412\" y=\"138.714167\" style=\"fill: #ff0000; stroke: #ff0000\"/>\n     <use xlink:href=\"#md33639d9c1\" x=\"248.172144\" y=\"121.369197\" style=\"fill: #ff0000; stroke: #ff0000\"/>\n     <use xlink:href=\"#md33639d9c1\" x=\"248.496876\" y=\"116.543615\" style=\"fill: #ff0000; stroke: #ff0000\"/>\n     <use xlink:href=\"#md33639d9c1\" x=\"248.821608\" y=\"121.795099\" style=\"fill: #ff0000; stroke: #ff0000\"/>\n     <use xlink:href=\"#md33639d9c1\" x=\"249.14634\" y=\"150.196889\" style=\"fill: #ff0000; stroke: #ff0000\"/>\n     <use xlink:href=\"#md33639d9c1\" x=\"249.471072\" y=\"157.4169\" style=\"fill: #ff0000; stroke: #ff0000\"/>\n     <use xlink:href=\"#md33639d9c1\" x=\"249.795804\" y=\"127.735884\" style=\"fill: #ff0000; stroke: #ff0000\"/>\n     <use xlink:href=\"#md33639d9c1\" x=\"250.120535\" y=\"152.870042\" style=\"fill: #ff0000; stroke: #ff0000\"/>\n     <use xlink:href=\"#md33639d9c1\" x=\"250.445267\" y=\"100.765202\" style=\"fill: #ff0000; stroke: #ff0000\"/>\n     <use xlink:href=\"#md33639d9c1\" x=\"250.769999\" y=\"123.98812\" style=\"fill: #ff0000; stroke: #ff0000\"/>\n     <use xlink:href=\"#md33639d9c1\" x=\"251.094731\" y=\"126.854225\" style=\"fill: #ff0000; stroke: #ff0000\"/>\n     <use xlink:href=\"#md33639d9c1\" x=\"251.419463\" y=\"133.300651\" style=\"fill: #ff0000; stroke: #ff0000\"/>\n     <use xlink:href=\"#md33639d9c1\" x=\"251.744195\" y=\"114.165244\" style=\"fill: #ff0000; stroke: #ff0000\"/>\n     <use xlink:href=\"#md33639d9c1\" x=\"252.068927\" y=\"129.743614\" style=\"fill: #ff0000; stroke: #ff0000\"/>\n     <use xlink:href=\"#md33639d9c1\" x=\"252.39194\" y=\"115.309241\" style=\"fill: #ff0000; stroke: #ff0000\"/>\n     <use xlink:href=\"#md33639d9c1\" x=\"252.716672\" y=\"115.398663\" style=\"fill: #ff0000; stroke: #ff0000\"/>\n     <use xlink:href=\"#md33639d9c1\" x=\"253.041404\" y=\"132.792507\" style=\"fill: #ff0000; stroke: #ff0000\"/>\n     <use xlink:href=\"#md33639d9c1\" x=\"253.366136\" y=\"106.000163\" style=\"fill: #ff0000; stroke: #ff0000\"/>\n     <use xlink:href=\"#md33639d9c1\" x=\"253.690868\" y=\"111.823696\" style=\"fill: #ff0000; stroke: #ff0000\"/>\n     <use xlink:href=\"#md33639d9c1\" x=\"254.0156\" y=\"133.469034\" style=\"fill: #ff0000; stroke: #ff0000\"/>\n     <use xlink:href=\"#md33639d9c1\" x=\"254.340332\" y=\"139.06279\" style=\"fill: #ff0000; stroke: #ff0000\"/>\n     <use xlink:href=\"#md33639d9c1\" x=\"254.665063\" y=\"128.559614\" style=\"fill: #ff0000; stroke: #ff0000\"/>\n     <use xlink:href=\"#md33639d9c1\" x=\"254.989795\" y=\"142.185128\" style=\"fill: #ff0000; stroke: #ff0000\"/>\n     <use xlink:href=\"#md33639d9c1\" x=\"255.314527\" y=\"133.838473\" style=\"fill: #ff0000; stroke: #ff0000\"/>\n     <use xlink:href=\"#md33639d9c1\" x=\"255.639259\" y=\"106.054212\" style=\"fill: #ff0000; stroke: #ff0000\"/>\n     <use xlink:href=\"#md33639d9c1\" x=\"255.963991\" y=\"125.970317\" style=\"fill: #ff0000; stroke: #ff0000\"/>\n     <use xlink:href=\"#md33639d9c1\" x=\"256.288723\" y=\"114.442179\" style=\"fill: #ff0000; stroke: #ff0000\"/>\n     <use xlink:href=\"#md33639d9c1\" x=\"256.613455\" y=\"148.103457\" style=\"fill: #ff0000; stroke: #ff0000\"/>\n     <use xlink:href=\"#md33639d9c1\" x=\"256.938186\" y=\"155.914701\" style=\"fill: #ff0000; stroke: #ff0000\"/>\n     <use xlink:href=\"#md33639d9c1\" x=\"257.262918\" y=\"138.531946\" style=\"fill: #ff0000; stroke: #ff0000\"/>\n     <use xlink:href=\"#md33639d9c1\" x=\"257.58765\" y=\"125.334606\" style=\"fill: #ff0000; stroke: #ff0000\"/>\n     <use xlink:href=\"#md33639d9c1\" x=\"257.912382\" y=\"133.750876\" style=\"fill: #ff0000; stroke: #ff0000\"/>\n     <use xlink:href=\"#md33639d9c1\" x=\"258.237114\" y=\"134.439538\" style=\"fill: #ff0000; stroke: #ff0000\"/>\n     <use xlink:href=\"#md33639d9c1\" x=\"258.561846\" y=\"112.903943\" style=\"fill: #ff0000; stroke: #ff0000\"/>\n     <use xlink:href=\"#md33639d9c1\" x=\"258.886578\" y=\"109.729305\" style=\"fill: #ff0000; stroke: #ff0000\"/>\n     <use xlink:href=\"#md33639d9c1\" x=\"259.211309\" y=\"110.770349\" style=\"fill: #ff0000; stroke: #ff0000\"/>\n     <use xlink:href=\"#md33639d9c1\" x=\"259.536041\" y=\"125.501374\" style=\"fill: #ff0000; stroke: #ff0000\"/>\n     <use xlink:href=\"#md33639d9c1\" x=\"259.859055\" y=\"147.483082\" style=\"fill: #ff0000; stroke: #ff0000\"/>\n     <use xlink:href=\"#md33639d9c1\" x=\"260.183787\" y=\"119.002272\" style=\"fill: #ff0000; stroke: #ff0000\"/>\n     <use xlink:href=\"#md33639d9c1\" x=\"260.508519\" y=\"158.883704\" style=\"fill: #ff0000; stroke: #ff0000\"/>\n     <use xlink:href=\"#md33639d9c1\" x=\"260.833251\" y=\"129.485492\" style=\"fill: #ff0000; stroke: #ff0000\"/>\n     <use xlink:href=\"#md33639d9c1\" x=\"261.157982\" y=\"151.35645\" style=\"fill: #ff0000; stroke: #ff0000\"/>\n     <use xlink:href=\"#md33639d9c1\" x=\"261.482714\" y=\"130.767739\" style=\"fill: #ff0000; stroke: #ff0000\"/>\n     <use xlink:href=\"#md33639d9c1\" x=\"261.807446\" y=\"142.884726\" style=\"fill: #ff0000; stroke: #ff0000\"/>\n     <use xlink:href=\"#md33639d9c1\" x=\"262.132178\" y=\"148.636632\" style=\"fill: #ff0000; stroke: #ff0000\"/>\n     <use xlink:href=\"#md33639d9c1\" x=\"262.45691\" y=\"123.217653\" style=\"fill: #ff0000; stroke: #ff0000\"/>\n     <use xlink:href=\"#md33639d9c1\" x=\"262.781642\" y=\"157.701397\" style=\"fill: #ff0000; stroke: #ff0000\"/>\n     <use xlink:href=\"#md33639d9c1\" x=\"263.106374\" y=\"125.401785\" style=\"fill: #ff0000; stroke: #ff0000\"/>\n     <use xlink:href=\"#md33639d9c1\" x=\"263.431106\" y=\"138.872696\" style=\"fill: #ff0000; stroke: #ff0000\"/>\n     <use xlink:href=\"#md33639d9c1\" x=\"263.755837\" y=\"157.893612\" style=\"fill: #ff0000; stroke: #ff0000\"/>\n     <use xlink:href=\"#md33639d9c1\" x=\"264.080569\" y=\"109.002246\" style=\"fill: #ff0000; stroke: #ff0000\"/>\n     <use xlink:href=\"#md33639d9c1\" x=\"264.405301\" y=\"125.178701\" style=\"fill: #ff0000; stroke: #ff0000\"/>\n     <use xlink:href=\"#md33639d9c1\" x=\"264.730033\" y=\"151.453791\" style=\"fill: #ff0000; stroke: #ff0000\"/>\n     <use xlink:href=\"#md33639d9c1\" x=\"265.054765\" y=\"128.849767\" style=\"fill: #ff0000; stroke: #ff0000\"/>\n     <use xlink:href=\"#md33639d9c1\" x=\"265.379497\" y=\"146.159863\" style=\"fill: #ff0000; stroke: #ff0000\"/>\n     <use xlink:href=\"#md33639d9c1\" x=\"265.704229\" y=\"118.787863\" style=\"fill: #ff0000; stroke: #ff0000\"/>\n     <use xlink:href=\"#md33639d9c1\" x=\"266.02896\" y=\"131.561265\" style=\"fill: #ff0000; stroke: #ff0000\"/>\n     <use xlink:href=\"#md33639d9c1\" x=\"266.353692\" y=\"150.111372\" style=\"fill: #ff0000; stroke: #ff0000\"/>\n     <use xlink:href=\"#md33639d9c1\" x=\"266.678424\" y=\"139.987906\" style=\"fill: #ff0000; stroke: #ff0000\"/>\n     <use xlink:href=\"#md33639d9c1\" x=\"267.001438\" y=\"135.097736\" style=\"fill: #ff0000; stroke: #ff0000\"/>\n     <use xlink:href=\"#md33639d9c1\" x=\"267.32617\" y=\"116.565449\" style=\"fill: #ff0000; stroke: #ff0000\"/>\n     <use xlink:href=\"#md33639d9c1\" x=\"267.650902\" y=\"120.693971\" style=\"fill: #ff0000; stroke: #ff0000\"/>\n     <use xlink:href=\"#md33639d9c1\" x=\"267.975633\" y=\"162.444245\" style=\"fill: #ff0000; stroke: #ff0000\"/>\n     <use xlink:href=\"#md33639d9c1\" x=\"268.300365\" y=\"133.691676\" style=\"fill: #ff0000; stroke: #ff0000\"/>\n     <use xlink:href=\"#md33639d9c1\" x=\"268.625097\" y=\"125.973215\" style=\"fill: #ff0000; stroke: #ff0000\"/>\n     <use xlink:href=\"#md33639d9c1\" x=\"268.949829\" y=\"141.734815\" style=\"fill: #ff0000; stroke: #ff0000\"/>\n     <use xlink:href=\"#md33639d9c1\" x=\"269.274561\" y=\"120.64212\" style=\"fill: #ff0000; stroke: #ff0000\"/>\n     <use xlink:href=\"#md33639d9c1\" x=\"269.599293\" y=\"117.739599\" style=\"fill: #ff0000; stroke: #ff0000\"/>\n     <use xlink:href=\"#md33639d9c1\" x=\"269.924025\" y=\"131.125681\" style=\"fill: #ff0000; stroke: #ff0000\"/>\n     <use xlink:href=\"#md33639d9c1\" x=\"270.248756\" y=\"139.731947\" style=\"fill: #ff0000; stroke: #ff0000\"/>\n     <use xlink:href=\"#md33639d9c1\" x=\"270.573488\" y=\"136.755668\" style=\"fill: #ff0000; stroke: #ff0000\"/>\n     <use xlink:href=\"#md33639d9c1\" x=\"270.89822\" y=\"120.789916\" style=\"fill: #ff0000; stroke: #ff0000\"/>\n     <use xlink:href=\"#md33639d9c1\" x=\"271.222952\" y=\"141.07149\" style=\"fill: #ff0000; stroke: #ff0000\"/>\n     <use xlink:href=\"#md33639d9c1\" x=\"271.547684\" y=\"130.004381\" style=\"fill: #ff0000; stroke: #ff0000\"/>\n     <use xlink:href=\"#md33639d9c1\" x=\"271.872416\" y=\"156.66069\" style=\"fill: #ff0000; stroke: #ff0000\"/>\n     <use xlink:href=\"#md33639d9c1\" x=\"272.197148\" y=\"154.556207\" style=\"fill: #ff0000; stroke: #ff0000\"/>\n     <use xlink:href=\"#md33639d9c1\" x=\"272.521879\" y=\"156.3289\" style=\"fill: #ff0000; stroke: #ff0000\"/>\n     <use xlink:href=\"#md33639d9c1\" x=\"272.846611\" y=\"124.06084\" style=\"fill: #ff0000; stroke: #ff0000\"/>\n     <use xlink:href=\"#md33639d9c1\" x=\"273.171343\" y=\"158.061487\" style=\"fill: #ff0000; stroke: #ff0000\"/>\n     <use xlink:href=\"#md33639d9c1\" x=\"273.496075\" y=\"136.264705\" style=\"fill: #ff0000; stroke: #ff0000\"/>\n     <use xlink:href=\"#md33639d9c1\" x=\"273.820807\" y=\"126.829137\" style=\"fill: #ff0000; stroke: #ff0000\"/>\n     <use xlink:href=\"#md33639d9c1\" x=\"274.143821\" y=\"138.578338\" style=\"fill: #ff0000; stroke: #ff0000\"/>\n     <use xlink:href=\"#md33639d9c1\" x=\"274.468553\" y=\"119.604585\" style=\"fill: #ff0000; stroke: #ff0000\"/>\n     <use xlink:href=\"#md33639d9c1\" x=\"274.793284\" y=\"128.026498\" style=\"fill: #ff0000; stroke: #ff0000\"/>\n     <use xlink:href=\"#md33639d9c1\" x=\"275.118016\" y=\"158.672053\" style=\"fill: #ff0000; stroke: #ff0000\"/>\n     <use xlink:href=\"#md33639d9c1\" x=\"275.442748\" y=\"155.6857\" style=\"fill: #ff0000; stroke: #ff0000\"/>\n     <use xlink:href=\"#md33639d9c1\" x=\"275.76748\" y=\"146.856614\" style=\"fill: #ff0000; stroke: #ff0000\"/>\n     <use xlink:href=\"#md33639d9c1\" x=\"276.092212\" y=\"135.68006\" style=\"fill: #ff0000; stroke: #ff0000\"/>\n     <use xlink:href=\"#md33639d9c1\" x=\"276.416944\" y=\"132.111628\" style=\"fill: #ff0000; stroke: #ff0000\"/>\n     <use xlink:href=\"#md33639d9c1\" x=\"276.741676\" y=\"107.514154\" style=\"fill: #ff0000; stroke: #ff0000\"/>\n     <use xlink:href=\"#md33639d9c1\" x=\"277.066407\" y=\"114.449121\" style=\"fill: #ff0000; stroke: #ff0000\"/>\n     <use xlink:href=\"#md33639d9c1\" x=\"277.391139\" y=\"122.136387\" style=\"fill: #ff0000; stroke: #ff0000\"/>\n     <use xlink:href=\"#md33639d9c1\" x=\"277.715871\" y=\"148.140224\" style=\"fill: #ff0000; stroke: #ff0000\"/>\n     <use xlink:href=\"#md33639d9c1\" x=\"278.040603\" y=\"145.007957\" style=\"fill: #ff0000; stroke: #ff0000\"/>\n     <use xlink:href=\"#md33639d9c1\" x=\"278.365335\" y=\"160.67784\" style=\"fill: #ff0000; stroke: #ff0000\"/>\n     <use xlink:href=\"#md33639d9c1\" x=\"278.690067\" y=\"150.13446\" style=\"fill: #ff0000; stroke: #ff0000\"/>\n     <use xlink:href=\"#md33639d9c1\" x=\"279.014799\" y=\"154.797077\" style=\"fill: #ff0000; stroke: #ff0000\"/>\n     <use xlink:href=\"#md33639d9c1\" x=\"279.33953\" y=\"154.754133\" style=\"fill: #ff0000; stroke: #ff0000\"/>\n     <use xlink:href=\"#md33639d9c1\" x=\"279.664262\" y=\"129.057992\" style=\"fill: #ff0000; stroke: #ff0000\"/>\n     <use xlink:href=\"#md33639d9c1\" x=\"279.988994\" y=\"130.727203\" style=\"fill: #ff0000; stroke: #ff0000\"/>\n     <use xlink:href=\"#md33639d9c1\" x=\"280.313726\" y=\"137.240528\" style=\"fill: #ff0000; stroke: #ff0000\"/>\n     <use xlink:href=\"#md33639d9c1\" x=\"280.638458\" y=\"140.905138\" style=\"fill: #ff0000; stroke: #ff0000\"/>\n     <use xlink:href=\"#md33639d9c1\" x=\"280.96319\" y=\"132.21511\" style=\"fill: #ff0000; stroke: #ff0000\"/>\n     <use xlink:href=\"#md33639d9c1\" x=\"281.287922\" y=\"186.932713\" style=\"fill: #ff0000; stroke: #ff0000\"/>\n     <use xlink:href=\"#md33639d9c1\" x=\"281.610935\" y=\"118.836685\" style=\"fill: #ff0000; stroke: #ff0000\"/>\n     <use xlink:href=\"#md33639d9c1\" x=\"281.935667\" y=\"187.962119\" style=\"fill: #ff0000; stroke: #ff0000\"/>\n     <use xlink:href=\"#md33639d9c1\" x=\"282.260399\" y=\"154.82183\" style=\"fill: #ff0000; stroke: #ff0000\"/>\n     <use xlink:href=\"#md33639d9c1\" x=\"282.585131\" y=\"169.742351\" style=\"fill: #ff0000; stroke: #ff0000\"/>\n     <use xlink:href=\"#md33639d9c1\" x=\"282.909863\" y=\"137.839211\" style=\"fill: #ff0000; stroke: #ff0000\"/>\n     <use xlink:href=\"#md33639d9c1\" x=\"283.234595\" y=\"128.458449\" style=\"fill: #ff0000; stroke: #ff0000\"/>\n     <use xlink:href=\"#md33639d9c1\" x=\"283.559327\" y=\"114.513891\" style=\"fill: #ff0000; stroke: #ff0000\"/>\n     <use xlink:href=\"#md33639d9c1\" x=\"283.884058\" y=\"137.349998\" style=\"fill: #ff0000; stroke: #ff0000\"/>\n     <use xlink:href=\"#md33639d9c1\" x=\"284.20879\" y=\"127.311413\" style=\"fill: #ff0000; stroke: #ff0000\"/>\n     <use xlink:href=\"#md33639d9c1\" x=\"284.533522\" y=\"140.298056\" style=\"fill: #ff0000; stroke: #ff0000\"/>\n     <use xlink:href=\"#md33639d9c1\" x=\"284.858254\" y=\"126.288375\" style=\"fill: #ff0000; stroke: #ff0000\"/>\n     <use xlink:href=\"#md33639d9c1\" x=\"285.182986\" y=\"144.221317\" style=\"fill: #ff0000; stroke: #ff0000\"/>\n     <use xlink:href=\"#md33639d9c1\" x=\"285.507718\" y=\"155.452215\" style=\"fill: #ff0000; stroke: #ff0000\"/>\n     <use xlink:href=\"#md33639d9c1\" x=\"285.83245\" y=\"158.493264\" style=\"fill: #ff0000; stroke: #ff0000\"/>\n     <use xlink:href=\"#md33639d9c1\" x=\"286.157181\" y=\"128.912705\" style=\"fill: #ff0000; stroke: #ff0000\"/>\n     <use xlink:href=\"#md33639d9c1\" x=\"286.481913\" y=\"167.432701\" style=\"fill: #ff0000; stroke: #ff0000\"/>\n     <use xlink:href=\"#md33639d9c1\" x=\"286.806645\" y=\"121.352968\" style=\"fill: #ff0000; stroke: #ff0000\"/>\n     <use xlink:href=\"#md33639d9c1\" x=\"287.131377\" y=\"115.328425\" style=\"fill: #ff0000; stroke: #ff0000\"/>\n     <use xlink:href=\"#md33639d9c1\" x=\"287.456109\" y=\"132.531829\" style=\"fill: #ff0000; stroke: #ff0000\"/>\n     <use xlink:href=\"#md33639d9c1\" x=\"287.780841\" y=\"136.622369\" style=\"fill: #ff0000; stroke: #ff0000\"/>\n     <use xlink:href=\"#md33639d9c1\" x=\"288.105573\" y=\"178.85716\" style=\"fill: #ff0000; stroke: #ff0000\"/>\n     <use xlink:href=\"#md33639d9c1\" x=\"288.430304\" y=\"138.064901\" style=\"fill: #ff0000; stroke: #ff0000\"/>\n     <use xlink:href=\"#md33639d9c1\" x=\"288.753318\" y=\"161.080358\" style=\"fill: #ff0000; stroke: #ff0000\"/>\n     <use xlink:href=\"#md33639d9c1\" x=\"289.07805\" y=\"158.765941\" style=\"fill: #ff0000; stroke: #ff0000\"/>\n     <use xlink:href=\"#md33639d9c1\" x=\"289.402782\" y=\"133.271122\" style=\"fill: #ff0000; stroke: #ff0000\"/>\n     <use xlink:href=\"#md33639d9c1\" x=\"289.727514\" y=\"143.510205\" style=\"fill: #ff0000; stroke: #ff0000\"/>\n     <use xlink:href=\"#md33639d9c1\" x=\"290.052246\" y=\"140.726786\" style=\"fill: #ff0000; stroke: #ff0000\"/>\n     <use xlink:href=\"#md33639d9c1\" x=\"290.376977\" y=\"163.949463\" style=\"fill: #ff0000; stroke: #ff0000\"/>\n     <use xlink:href=\"#md33639d9c1\" x=\"290.701709\" y=\"133.765946\" style=\"fill: #ff0000; stroke: #ff0000\"/>\n     <use xlink:href=\"#md33639d9c1\" x=\"291.026441\" y=\"149.450852\" style=\"fill: #ff0000; stroke: #ff0000\"/>\n     <use xlink:href=\"#md33639d9c1\" x=\"291.351173\" y=\"109.745641\" style=\"fill: #ff0000; stroke: #ff0000\"/>\n     <use xlink:href=\"#md33639d9c1\" x=\"291.675905\" y=\"169.348349\" style=\"fill: #ff0000; stroke: #ff0000\"/>\n     <use xlink:href=\"#md33639d9c1\" x=\"292.000637\" y=\"143.266022\" style=\"fill: #ff0000; stroke: #ff0000\"/>\n     <use xlink:href=\"#md33639d9c1\" x=\"292.325369\" y=\"144.645708\" style=\"fill: #ff0000; stroke: #ff0000\"/>\n     <use xlink:href=\"#md33639d9c1\" x=\"292.650101\" y=\"134.162118\" style=\"fill: #ff0000; stroke: #ff0000\"/>\n     <use xlink:href=\"#md33639d9c1\" x=\"292.974832\" y=\"152.565396\" style=\"fill: #ff0000; stroke: #ff0000\"/>\n     <use xlink:href=\"#md33639d9c1\" x=\"293.299564\" y=\"138.854668\" style=\"fill: #ff0000; stroke: #ff0000\"/>\n     <use xlink:href=\"#md33639d9c1\" x=\"293.624296\" y=\"119.365739\" style=\"fill: #ff0000; stroke: #ff0000\"/>\n     <use xlink:href=\"#md33639d9c1\" x=\"293.949028\" y=\"124.161757\" style=\"fill: #ff0000; stroke: #ff0000\"/>\n     <use xlink:href=\"#md33639d9c1\" x=\"294.27376\" y=\"150.828208\" style=\"fill: #ff0000; stroke: #ff0000\"/>\n     <use xlink:href=\"#md33639d9c1\" x=\"294.598492\" y=\"139.660651\" style=\"fill: #ff0000; stroke: #ff0000\"/>\n     <use xlink:href=\"#md33639d9c1\" x=\"294.923224\" y=\"163.62824\" style=\"fill: #ff0000; stroke: #ff0000\"/>\n     <use xlink:href=\"#md33639d9c1\" x=\"295.247955\" y=\"127.923637\" style=\"fill: #ff0000; stroke: #ff0000\"/>\n     <use xlink:href=\"#md33639d9c1\" x=\"295.572687\" y=\"154.711848\" style=\"fill: #ff0000; stroke: #ff0000\"/>\n     <use xlink:href=\"#md33639d9c1\" x=\"295.895701\" y=\"131.610034\" style=\"fill: #ff0000; stroke: #ff0000\"/>\n     <use xlink:href=\"#md33639d9c1\" x=\"296.220433\" y=\"164.803471\" style=\"fill: #ff0000; stroke: #ff0000\"/>\n     <use xlink:href=\"#md33639d9c1\" x=\"296.545165\" y=\"154.763037\" style=\"fill: #ff0000; stroke: #ff0000\"/>\n     <use xlink:href=\"#md33639d9c1\" x=\"296.869897\" y=\"159.874998\" style=\"fill: #ff0000; stroke: #ff0000\"/>\n     <use xlink:href=\"#md33639d9c1\" x=\"297.194628\" y=\"132.022841\" style=\"fill: #ff0000; stroke: #ff0000\"/>\n     <use xlink:href=\"#md33639d9c1\" x=\"297.51936\" y=\"157.92862\" style=\"fill: #ff0000; stroke: #ff0000\"/>\n     <use xlink:href=\"#md33639d9c1\" x=\"297.844092\" y=\"144.560795\" style=\"fill: #ff0000; stroke: #ff0000\"/>\n     <use xlink:href=\"#md33639d9c1\" x=\"298.168824\" y=\"121.904672\" style=\"fill: #ff0000; stroke: #ff0000\"/>\n     <use xlink:href=\"#md33639d9c1\" x=\"298.493556\" y=\"138.654635\" style=\"fill: #ff0000; stroke: #ff0000\"/>\n     <use xlink:href=\"#md33639d9c1\" x=\"298.818288\" y=\"149.222588\" style=\"fill: #ff0000; stroke: #ff0000\"/>\n     <use xlink:href=\"#md33639d9c1\" x=\"299.14302\" y=\"120.194777\" style=\"fill: #ff0000; stroke: #ff0000\"/>\n     <use xlink:href=\"#md33639d9c1\" x=\"299.467751\" y=\"157.42687\" style=\"fill: #ff0000; stroke: #ff0000\"/>\n     <use xlink:href=\"#md33639d9c1\" x=\"299.792483\" y=\"151.790135\" style=\"fill: #ff0000; stroke: #ff0000\"/>\n     <use xlink:href=\"#md33639d9c1\" x=\"300.117215\" y=\"164.199628\" style=\"fill: #ff0000; stroke: #ff0000\"/>\n     <use xlink:href=\"#md33639d9c1\" x=\"300.441947\" y=\"165.587929\" style=\"fill: #ff0000; stroke: #ff0000\"/>\n     <use xlink:href=\"#md33639d9c1\" x=\"300.766679\" y=\"167.793787\" style=\"fill: #ff0000; stroke: #ff0000\"/>\n     <use xlink:href=\"#md33639d9c1\" x=\"301.091411\" y=\"133.50868\" style=\"fill: #ff0000; stroke: #ff0000\"/>\n     <use xlink:href=\"#md33639d9c1\" x=\"301.416143\" y=\"127.166987\" style=\"fill: #ff0000; stroke: #ff0000\"/>\n     <use xlink:href=\"#md33639d9c1\" x=\"301.740874\" y=\"134.397503\" style=\"fill: #ff0000; stroke: #ff0000\"/>\n     <use xlink:href=\"#md33639d9c1\" x=\"302.065606\" y=\"128.875041\" style=\"fill: #ff0000; stroke: #ff0000\"/>\n     <use xlink:href=\"#md33639d9c1\" x=\"302.390338\" y=\"109.804211\" style=\"fill: #ff0000; stroke: #ff0000\"/>\n     <use xlink:href=\"#md33639d9c1\" x=\"302.71507\" y=\"146.257343\" style=\"fill: #ff0000; stroke: #ff0000\"/>\n     <use xlink:href=\"#md33639d9c1\" x=\"303.039802\" y=\"145.444958\" style=\"fill: #ff0000; stroke: #ff0000\"/>\n     <use xlink:href=\"#md33639d9c1\" x=\"303.362816\" y=\"135.670732\" style=\"fill: #ff0000; stroke: #ff0000\"/>\n     <use xlink:href=\"#md33639d9c1\" x=\"303.687548\" y=\"157.025666\" style=\"fill: #ff0000; stroke: #ff0000\"/>\n     <use xlink:href=\"#md33639d9c1\" x=\"304.012279\" y=\"152.425882\" style=\"fill: #ff0000; stroke: #ff0000\"/>\n     <use xlink:href=\"#md33639d9c1\" x=\"304.337011\" y=\"145.541913\" style=\"fill: #ff0000; stroke: #ff0000\"/>\n     <use xlink:href=\"#md33639d9c1\" x=\"304.661743\" y=\"127.268586\" style=\"fill: #ff0000; stroke: #ff0000\"/>\n     <use xlink:href=\"#md33639d9c1\" x=\"304.986475\" y=\"160.07531\" style=\"fill: #ff0000; stroke: #ff0000\"/>\n     <use xlink:href=\"#md33639d9c1\" x=\"305.311207\" y=\"129.882412\" style=\"fill: #ff0000; stroke: #ff0000\"/>\n     <use xlink:href=\"#md33639d9c1\" x=\"305.635939\" y=\"141.394091\" style=\"fill: #ff0000; stroke: #ff0000\"/>\n     <use xlink:href=\"#md33639d9c1\" x=\"305.960671\" y=\"141.388152\" style=\"fill: #ff0000; stroke: #ff0000\"/>\n     <use xlink:href=\"#md33639d9c1\" x=\"306.285402\" y=\"139.252613\" style=\"fill: #ff0000; stroke: #ff0000\"/>\n     <use xlink:href=\"#md33639d9c1\" x=\"306.610134\" y=\"119.531312\" style=\"fill: #ff0000; stroke: #ff0000\"/>\n     <use xlink:href=\"#md33639d9c1\" x=\"306.934866\" y=\"138.938938\" style=\"fill: #ff0000; stroke: #ff0000\"/>\n     <use xlink:href=\"#md33639d9c1\" x=\"307.259598\" y=\"138.893494\" style=\"fill: #ff0000; stroke: #ff0000\"/>\n     <use xlink:href=\"#md33639d9c1\" x=\"307.58433\" y=\"163.641966\" style=\"fill: #ff0000; stroke: #ff0000\"/>\n     <use xlink:href=\"#md33639d9c1\" x=\"307.909062\" y=\"157.293184\" style=\"fill: #ff0000; stroke: #ff0000\"/>\n     <use xlink:href=\"#md33639d9c1\" x=\"308.233794\" y=\"162.792297\" style=\"fill: #ff0000; stroke: #ff0000\"/>\n     <use xlink:href=\"#md33639d9c1\" x=\"308.558525\" y=\"138.786198\" style=\"fill: #ff0000; stroke: #ff0000\"/>\n     <use xlink:href=\"#md33639d9c1\" x=\"308.883257\" y=\"139.385235\" style=\"fill: #ff0000; stroke: #ff0000\"/>\n     <use xlink:href=\"#md33639d9c1\" x=\"309.207989\" y=\"102.499019\" style=\"fill: #ff0000; stroke: #ff0000\"/>\n     <use xlink:href=\"#md33639d9c1\" x=\"309.532721\" y=\"144.403412\" style=\"fill: #ff0000; stroke: #ff0000\"/>\n     <use xlink:href=\"#md33639d9c1\" x=\"309.857453\" y=\"113.869281\" style=\"fill: #ff0000; stroke: #ff0000\"/>\n     <use xlink:href=\"#md33639d9c1\" x=\"310.182185\" y=\"114.506884\" style=\"fill: #ff0000; stroke: #ff0000\"/>\n     <use xlink:href=\"#md33639d9c1\" x=\"310.505198\" y=\"128.610088\" style=\"fill: #ff0000; stroke: #ff0000\"/>\n     <use xlink:href=\"#md33639d9c1\" x=\"310.82993\" y=\"153.804541\" style=\"fill: #ff0000; stroke: #ff0000\"/>\n     <use xlink:href=\"#md33639d9c1\" x=\"311.154662\" y=\"149.952925\" style=\"fill: #ff0000; stroke: #ff0000\"/>\n     <use xlink:href=\"#md33639d9c1\" x=\"311.479394\" y=\"127.923223\" style=\"fill: #ff0000; stroke: #ff0000\"/>\n     <use xlink:href=\"#md33639d9c1\" x=\"311.804126\" y=\"151.143306\" style=\"fill: #ff0000; stroke: #ff0000\"/>\n     <use xlink:href=\"#md33639d9c1\" x=\"312.128858\" y=\"134.519695\" style=\"fill: #ff0000; stroke: #ff0000\"/>\n     <use xlink:href=\"#md33639d9c1\" x=\"312.45359\" y=\"153.572252\" style=\"fill: #ff0000; stroke: #ff0000\"/>\n     <use xlink:href=\"#md33639d9c1\" x=\"312.778322\" y=\"131.196596\" style=\"fill: #ff0000; stroke: #ff0000\"/>\n     <use xlink:href=\"#md33639d9c1\" x=\"313.103053\" y=\"179.682169\" style=\"fill: #ff0000; stroke: #ff0000\"/>\n     <use xlink:href=\"#md33639d9c1\" x=\"313.427785\" y=\"136.88584\" style=\"fill: #ff0000; stroke: #ff0000\"/>\n     <use xlink:href=\"#md33639d9c1\" x=\"313.752517\" y=\"159.821774\" style=\"fill: #ff0000; stroke: #ff0000\"/>\n     <use xlink:href=\"#md33639d9c1\" x=\"314.077249\" y=\"160.90782\" style=\"fill: #ff0000; stroke: #ff0000\"/>\n     <use xlink:href=\"#md33639d9c1\" x=\"314.401981\" y=\"130.409672\" style=\"fill: #ff0000; stroke: #ff0000\"/>\n     <use xlink:href=\"#md33639d9c1\" x=\"314.726713\" y=\"117.113735\" style=\"fill: #ff0000; stroke: #ff0000\"/>\n     <use xlink:href=\"#md33639d9c1\" x=\"315.051445\" y=\"125.69558\" style=\"fill: #ff0000; stroke: #ff0000\"/>\n     <use xlink:href=\"#md33639d9c1\" x=\"315.376176\" y=\"148.937117\" style=\"fill: #ff0000; stroke: #ff0000\"/>\n     <use xlink:href=\"#md33639d9c1\" x=\"315.700908\" y=\"151.189458\" style=\"fill: #ff0000; stroke: #ff0000\"/>\n     <use xlink:href=\"#md33639d9c1\" x=\"316.02564\" y=\"154.428017\" style=\"fill: #ff0000; stroke: #ff0000\"/>\n     <use xlink:href=\"#md33639d9c1\" x=\"316.350372\" y=\"169.906935\" style=\"fill: #ff0000; stroke: #ff0000\"/>\n     <use xlink:href=\"#md33639d9c1\" x=\"316.675104\" y=\"153.232711\" style=\"fill: #ff0000; stroke: #ff0000\"/>\n     <use xlink:href=\"#md33639d9c1\" x=\"316.999836\" y=\"156.073669\" style=\"fill: #ff0000; stroke: #ff0000\"/>\n     <use xlink:href=\"#md33639d9c1\" x=\"317.324568\" y=\"147.328229\" style=\"fill: #ff0000; stroke: #ff0000\"/>\n     <use xlink:href=\"#md33639d9c1\" x=\"317.647581\" y=\"140.229976\" style=\"fill: #ff0000; stroke: #ff0000\"/>\n     <use xlink:href=\"#md33639d9c1\" x=\"317.972313\" y=\"126.271478\" style=\"fill: #ff0000; stroke: #ff0000\"/>\n     <use xlink:href=\"#md33639d9c1\" x=\"318.297045\" y=\"117.480974\" style=\"fill: #ff0000; stroke: #ff0000\"/>\n     <use xlink:href=\"#md33639d9c1\" x=\"318.621777\" y=\"133.886403\" style=\"fill: #ff0000; stroke: #ff0000\"/>\n     <use xlink:href=\"#md33639d9c1\" x=\"318.946509\" y=\"143.708165\" style=\"fill: #ff0000; stroke: #ff0000\"/>\n     <use xlink:href=\"#md33639d9c1\" x=\"319.271241\" y=\"155.771415\" style=\"fill: #ff0000; stroke: #ff0000\"/>\n     <use xlink:href=\"#md33639d9c1\" x=\"319.595972\" y=\"147.639141\" style=\"fill: #ff0000; stroke: #ff0000\"/>\n     <use xlink:href=\"#md33639d9c1\" x=\"319.920704\" y=\"162.388898\" style=\"fill: #ff0000; stroke: #ff0000\"/>\n     <use xlink:href=\"#md33639d9c1\" x=\"320.245436\" y=\"157.139102\" style=\"fill: #ff0000; stroke: #ff0000\"/>\n     <use xlink:href=\"#md33639d9c1\" x=\"320.570168\" y=\"145.576982\" style=\"fill: #ff0000; stroke: #ff0000\"/>\n     <use xlink:href=\"#md33639d9c1\" x=\"320.8949\" y=\"125.914711\" style=\"fill: #ff0000; stroke: #ff0000\"/>\n     <use xlink:href=\"#md33639d9c1\" x=\"321.219632\" y=\"141.644401\" style=\"fill: #ff0000; stroke: #ff0000\"/>\n     <use xlink:href=\"#md33639d9c1\" x=\"321.544364\" y=\"124.398196\" style=\"fill: #ff0000; stroke: #ff0000\"/>\n     <use xlink:href=\"#md33639d9c1\" x=\"321.869095\" y=\"126.605187\" style=\"fill: #ff0000; stroke: #ff0000\"/>\n     <use xlink:href=\"#md33639d9c1\" x=\"322.193827\" y=\"128.356485\" style=\"fill: #ff0000; stroke: #ff0000\"/>\n     <use xlink:href=\"#md33639d9c1\" x=\"322.518559\" y=\"160.892401\" style=\"fill: #ff0000; stroke: #ff0000\"/>\n     <use xlink:href=\"#md33639d9c1\" x=\"322.843291\" y=\"156.411231\" style=\"fill: #ff0000; stroke: #ff0000\"/>\n     <use xlink:href=\"#md33639d9c1\" x=\"323.168023\" y=\"151.047933\" style=\"fill: #ff0000; stroke: #ff0000\"/>\n     <use xlink:href=\"#md33639d9c1\" x=\"323.492755\" y=\"139.620633\" style=\"fill: #ff0000; stroke: #ff0000\"/>\n     <use xlink:href=\"#md33639d9c1\" x=\"323.817487\" y=\"117.883525\" style=\"fill: #ff0000; stroke: #ff0000\"/>\n     <use xlink:href=\"#md33639d9c1\" x=\"324.142219\" y=\"110.831378\" style=\"fill: #ff0000; stroke: #ff0000\"/>\n     <use xlink:href=\"#md33639d9c1\" x=\"324.46695\" y=\"154.396164\" style=\"fill: #ff0000; stroke: #ff0000\"/>\n     <use xlink:href=\"#md33639d9c1\" x=\"324.791682\" y=\"126.701575\" style=\"fill: #ff0000; stroke: #ff0000\"/>\n     <use xlink:href=\"#md33639d9c1\" x=\"325.114696\" y=\"163.725748\" style=\"fill: #ff0000; stroke: #ff0000\"/>\n     <use xlink:href=\"#md33639d9c1\" x=\"325.439428\" y=\"135.766916\" style=\"fill: #ff0000; stroke: #ff0000\"/>\n     <use xlink:href=\"#md33639d9c1\" x=\"325.76416\" y=\"132.65586\" style=\"fill: #ff0000; stroke: #ff0000\"/>\n     <use xlink:href=\"#md33639d9c1\" x=\"326.088892\" y=\"147.993653\" style=\"fill: #ff0000; stroke: #ff0000\"/>\n     <use xlink:href=\"#md33639d9c1\" x=\"326.413623\" y=\"113.991379\" style=\"fill: #ff0000; stroke: #ff0000\"/>\n     <use xlink:href=\"#md33639d9c1\" x=\"326.738355\" y=\"139.371728\" style=\"fill: #ff0000; stroke: #ff0000\"/>\n     <use xlink:href=\"#md33639d9c1\" x=\"327.063087\" y=\"115.208954\" style=\"fill: #ff0000; stroke: #ff0000\"/>\n     <use xlink:href=\"#md33639d9c1\" x=\"327.387819\" y=\"184.924767\" style=\"fill: #ff0000; stroke: #ff0000\"/>\n     <use xlink:href=\"#md33639d9c1\" x=\"327.712551\" y=\"152.146927\" style=\"fill: #ff0000; stroke: #ff0000\"/>\n     <use xlink:href=\"#md33639d9c1\" x=\"328.037283\" y=\"156.269053\" style=\"fill: #ff0000; stroke: #ff0000\"/>\n     <use xlink:href=\"#md33639d9c1\" x=\"328.362015\" y=\"142.280354\" style=\"fill: #ff0000; stroke: #ff0000\"/>\n     <use xlink:href=\"#md33639d9c1\" x=\"328.686746\" y=\"133.762366\" style=\"fill: #ff0000; stroke: #ff0000\"/>\n     <use xlink:href=\"#md33639d9c1\" x=\"329.011478\" y=\"139.827681\" style=\"fill: #ff0000; stroke: #ff0000\"/>\n     <use xlink:href=\"#md33639d9c1\" x=\"329.33621\" y=\"141.005323\" style=\"fill: #ff0000; stroke: #ff0000\"/>\n     <use xlink:href=\"#md33639d9c1\" x=\"329.660942\" y=\"140.845797\" style=\"fill: #ff0000; stroke: #ff0000\"/>\n     <use xlink:href=\"#md33639d9c1\" x=\"329.985674\" y=\"135.580562\" style=\"fill: #ff0000; stroke: #ff0000\"/>\n     <use xlink:href=\"#md33639d9c1\" x=\"330.310406\" y=\"171.461295\" style=\"fill: #ff0000; stroke: #ff0000\"/>\n     <use xlink:href=\"#md33639d9c1\" x=\"330.635138\" y=\"147.095245\" style=\"fill: #ff0000; stroke: #ff0000\"/>\n     <use xlink:href=\"#md33639d9c1\" x=\"330.959869\" y=\"134.462493\" style=\"fill: #ff0000; stroke: #ff0000\"/>\n     <use xlink:href=\"#md33639d9c1\" x=\"331.284601\" y=\"137.537162\" style=\"fill: #ff0000; stroke: #ff0000\"/>\n     <use xlink:href=\"#md33639d9c1\" x=\"331.609333\" y=\"131.923519\" style=\"fill: #ff0000; stroke: #ff0000\"/>\n     <use xlink:href=\"#md33639d9c1\" x=\"331.934065\" y=\"168.258885\" style=\"fill: #ff0000; stroke: #ff0000\"/>\n     <use xlink:href=\"#md33639d9c1\" x=\"332.257079\" y=\"147.195773\" style=\"fill: #ff0000; stroke: #ff0000\"/>\n     <use xlink:href=\"#md33639d9c1\" x=\"332.581811\" y=\"144.833145\" style=\"fill: #ff0000; stroke: #ff0000\"/>\n     <use xlink:href=\"#md33639d9c1\" x=\"332.906543\" y=\"157.48425\" style=\"fill: #ff0000; stroke: #ff0000\"/>\n     <use xlink:href=\"#md33639d9c1\" x=\"333.231274\" y=\"128.016658\" style=\"fill: #ff0000; stroke: #ff0000\"/>\n     <use xlink:href=\"#md33639d9c1\" x=\"333.556006\" y=\"128.954853\" style=\"fill: #ff0000; stroke: #ff0000\"/>\n     <use xlink:href=\"#md33639d9c1\" x=\"333.880738\" y=\"134.017491\" style=\"fill: #ff0000; stroke: #ff0000\"/>\n     <use xlink:href=\"#md33639d9c1\" x=\"334.20547\" y=\"144.482995\" style=\"fill: #ff0000; stroke: #ff0000\"/>\n     <use xlink:href=\"#md33639d9c1\" x=\"334.530202\" y=\"139.583732\" style=\"fill: #ff0000; stroke: #ff0000\"/>\n     <use xlink:href=\"#md33639d9c1\" x=\"334.854934\" y=\"135.190234\" style=\"fill: #ff0000; stroke: #ff0000\"/>\n     <use xlink:href=\"#md33639d9c1\" x=\"335.179666\" y=\"149.981738\" style=\"fill: #ff0000; stroke: #ff0000\"/>\n     <use xlink:href=\"#md33639d9c1\" x=\"335.504397\" y=\"133.819566\" style=\"fill: #ff0000; stroke: #ff0000\"/>\n     <use xlink:href=\"#md33639d9c1\" x=\"335.829129\" y=\"130.019424\" style=\"fill: #ff0000; stroke: #ff0000\"/>\n     <use xlink:href=\"#md33639d9c1\" x=\"336.153861\" y=\"158.332116\" style=\"fill: #ff0000; stroke: #ff0000\"/>\n     <use xlink:href=\"#md33639d9c1\" x=\"336.478593\" y=\"133.131815\" style=\"fill: #ff0000; stroke: #ff0000\"/>\n     <use xlink:href=\"#md33639d9c1\" x=\"336.803325\" y=\"152.941876\" style=\"fill: #ff0000; stroke: #ff0000\"/>\n     <use xlink:href=\"#md33639d9c1\" x=\"337.128057\" y=\"146.069478\" style=\"fill: #ff0000; stroke: #ff0000\"/>\n     <use xlink:href=\"#md33639d9c1\" x=\"337.452789\" y=\"115.740685\" style=\"fill: #ff0000; stroke: #ff0000\"/>\n     <use xlink:href=\"#md33639d9c1\" x=\"337.77752\" y=\"159.920551\" style=\"fill: #ff0000; stroke: #ff0000\"/>\n     <use xlink:href=\"#md33639d9c1\" x=\"338.102252\" y=\"148.129505\" style=\"fill: #ff0000; stroke: #ff0000\"/>\n     <use xlink:href=\"#md33639d9c1\" x=\"338.426984\" y=\"135.301455\" style=\"fill: #ff0000; stroke: #ff0000\"/>\n     <use xlink:href=\"#md33639d9c1\" x=\"338.751716\" y=\"143.45385\" style=\"fill: #ff0000; stroke: #ff0000\"/>\n     <use xlink:href=\"#md33639d9c1\" x=\"339.076448\" y=\"159.551421\" style=\"fill: #ff0000; stroke: #ff0000\"/>\n     <use xlink:href=\"#md33639d9c1\" x=\"339.399462\" y=\"129.967079\" style=\"fill: #ff0000; stroke: #ff0000\"/>\n     <use xlink:href=\"#md33639d9c1\" x=\"339.724193\" y=\"135.376846\" style=\"fill: #ff0000; stroke: #ff0000\"/>\n     <use xlink:href=\"#md33639d9c1\" x=\"340.048925\" y=\"147.80385\" style=\"fill: #ff0000; stroke: #ff0000\"/>\n     <use xlink:href=\"#md33639d9c1\" x=\"340.373657\" y=\"151.453336\" style=\"fill: #ff0000; stroke: #ff0000\"/>\n     <use xlink:href=\"#md33639d9c1\" x=\"340.698389\" y=\"159.242988\" style=\"fill: #ff0000; stroke: #ff0000\"/>\n     <use xlink:href=\"#md33639d9c1\" x=\"341.023121\" y=\"120.818357\" style=\"fill: #ff0000; stroke: #ff0000\"/>\n     <use xlink:href=\"#md33639d9c1\" x=\"341.347853\" y=\"154.891561\" style=\"fill: #ff0000; stroke: #ff0000\"/>\n     <use xlink:href=\"#md33639d9c1\" x=\"341.672585\" y=\"140.88014\" style=\"fill: #ff0000; stroke: #ff0000\"/>\n     <use xlink:href=\"#md33639d9c1\" x=\"341.997317\" y=\"139.028028\" style=\"fill: #ff0000; stroke: #ff0000\"/>\n     <use xlink:href=\"#md33639d9c1\" x=\"342.322048\" y=\"142.806386\" style=\"fill: #ff0000; stroke: #ff0000\"/>\n     <use xlink:href=\"#md33639d9c1\" x=\"342.64678\" y=\"155.8355\" style=\"fill: #ff0000; stroke: #ff0000\"/>\n     <use xlink:href=\"#md33639d9c1\" x=\"342.971512\" y=\"159.846698\" style=\"fill: #ff0000; stroke: #ff0000\"/>\n     <use xlink:href=\"#md33639d9c1\" x=\"343.296244\" y=\"136.911495\" style=\"fill: #ff0000; stroke: #ff0000\"/>\n     <use xlink:href=\"#md33639d9c1\" x=\"343.620976\" y=\"134.070487\" style=\"fill: #ff0000; stroke: #ff0000\"/>\n     <use xlink:href=\"#md33639d9c1\" x=\"343.945708\" y=\"163.291207\" style=\"fill: #ff0000; stroke: #ff0000\"/>\n     <use xlink:href=\"#md33639d9c1\" x=\"344.27044\" y=\"158.599242\" style=\"fill: #ff0000; stroke: #ff0000\"/>\n     <use xlink:href=\"#md33639d9c1\" x=\"344.595171\" y=\"156.510293\" style=\"fill: #ff0000; stroke: #ff0000\"/>\n     <use xlink:href=\"#md33639d9c1\" x=\"344.919903\" y=\"151.358479\" style=\"fill: #ff0000; stroke: #ff0000\"/>\n     <use xlink:href=\"#md33639d9c1\" x=\"345.244635\" y=\"157.735502\" style=\"fill: #ff0000; stroke: #ff0000\"/>\n     <use xlink:href=\"#md33639d9c1\" x=\"345.569367\" y=\"135.766538\" style=\"fill: #ff0000; stroke: #ff0000\"/>\n     <use xlink:href=\"#md33639d9c1\" x=\"345.894099\" y=\"157.229575\" style=\"fill: #ff0000; stroke: #ff0000\"/>\n     <use xlink:href=\"#md33639d9c1\" x=\"346.218831\" y=\"121.756977\" style=\"fill: #ff0000; stroke: #ff0000\"/>\n     <use xlink:href=\"#md33639d9c1\" x=\"346.543563\" y=\"141.721751\" style=\"fill: #ff0000; stroke: #ff0000\"/>\n     <use xlink:href=\"#md33639d9c1\" x=\"346.866576\" y=\"131.467943\" style=\"fill: #ff0000; stroke: #ff0000\"/>\n     <use xlink:href=\"#md33639d9c1\" x=\"347.191308\" y=\"130.217033\" style=\"fill: #ff0000; stroke: #ff0000\"/>\n     <use xlink:href=\"#md33639d9c1\" x=\"347.51604\" y=\"137.273256\" style=\"fill: #ff0000; stroke: #ff0000\"/>\n     <use xlink:href=\"#md33639d9c1\" x=\"347.840772\" y=\"117.83246\" style=\"fill: #ff0000; stroke: #ff0000\"/>\n     <use xlink:href=\"#md33639d9c1\" x=\"348.165504\" y=\"122.084824\" style=\"fill: #ff0000; stroke: #ff0000\"/>\n     <use xlink:href=\"#md33639d9c1\" x=\"348.490236\" y=\"124.592712\" style=\"fill: #ff0000; stroke: #ff0000\"/>\n     <use xlink:href=\"#md33639d9c1\" x=\"348.814967\" y=\"129.269131\" style=\"fill: #ff0000; stroke: #ff0000\"/>\n     <use xlink:href=\"#md33639d9c1\" x=\"349.139699\" y=\"143.623749\" style=\"fill: #ff0000; stroke: #ff0000\"/>\n     <use xlink:href=\"#md33639d9c1\" x=\"349.464431\" y=\"138.80124\" style=\"fill: #ff0000; stroke: #ff0000\"/>\n     <use xlink:href=\"#md33639d9c1\" x=\"349.789163\" y=\"136.988491\" style=\"fill: #ff0000; stroke: #ff0000\"/>\n     <use xlink:href=\"#md33639d9c1\" x=\"350.113895\" y=\"127.001608\" style=\"fill: #ff0000; stroke: #ff0000\"/>\n     <use xlink:href=\"#md33639d9c1\" x=\"350.438627\" y=\"144.978607\" style=\"fill: #ff0000; stroke: #ff0000\"/>\n     <use xlink:href=\"#md33639d9c1\" x=\"350.763359\" y=\"134.215138\" style=\"fill: #ff0000; stroke: #ff0000\"/>\n     <use xlink:href=\"#md33639d9c1\" x=\"351.08809\" y=\"150.368647\" style=\"fill: #ff0000; stroke: #ff0000\"/>\n     <use xlink:href=\"#md33639d9c1\" x=\"351.412822\" y=\"126.509702\" style=\"fill: #ff0000; stroke: #ff0000\"/>\n     <use xlink:href=\"#md33639d9c1\" x=\"351.737554\" y=\"145.99825\" style=\"fill: #ff0000; stroke: #ff0000\"/>\n     <use xlink:href=\"#md33639d9c1\" x=\"352.062286\" y=\"138.848865\" style=\"fill: #ff0000; stroke: #ff0000\"/>\n     <use xlink:href=\"#md33639d9c1\" x=\"352.387018\" y=\"132.279418\" style=\"fill: #ff0000; stroke: #ff0000\"/>\n     <use xlink:href=\"#md33639d9c1\" x=\"352.71175\" y=\"139.736207\" style=\"fill: #ff0000; stroke: #ff0000\"/>\n     <use xlink:href=\"#md33639d9c1\" x=\"353.036482\" y=\"131.89306\" style=\"fill: #ff0000; stroke: #ff0000\"/>\n     <use xlink:href=\"#md33639d9c1\" x=\"353.361214\" y=\"124.034015\" style=\"fill: #ff0000; stroke: #ff0000\"/>\n     <use xlink:href=\"#md33639d9c1\" x=\"353.685945\" y=\"124.900356\" style=\"fill: #ff0000; stroke: #ff0000\"/>\n     <use xlink:href=\"#md33639d9c1\" x=\"354.008959\" y=\"125.082206\" style=\"fill: #ff0000; stroke: #ff0000\"/>\n     <use xlink:href=\"#md33639d9c1\" x=\"354.333691\" y=\"103.517512\" style=\"fill: #ff0000; stroke: #ff0000\"/>\n     <use xlink:href=\"#md33639d9c1\" x=\"354.658423\" y=\"139.849063\" style=\"fill: #ff0000; stroke: #ff0000\"/>\n     <use xlink:href=\"#md33639d9c1\" x=\"354.983155\" y=\"131.081257\" style=\"fill: #ff0000; stroke: #ff0000\"/>\n     <use xlink:href=\"#md33639d9c1\" x=\"355.307887\" y=\"176.861212\" style=\"fill: #ff0000; stroke: #ff0000\"/>\n     <use xlink:href=\"#md33639d9c1\" x=\"355.632618\" y=\"143.561064\" style=\"fill: #ff0000; stroke: #ff0000\"/>\n     <use xlink:href=\"#md33639d9c1\" x=\"355.95735\" y=\"140.033243\" style=\"fill: #ff0000; stroke: #ff0000\"/>\n     <use xlink:href=\"#md33639d9c1\" x=\"356.282082\" y=\"144.64959\" style=\"fill: #ff0000; stroke: #ff0000\"/>\n     <use xlink:href=\"#md33639d9c1\" x=\"356.606814\" y=\"136.064208\" style=\"fill: #ff0000; stroke: #ff0000\"/>\n     <use xlink:href=\"#md33639d9c1\" x=\"356.931546\" y=\"148.743378\" style=\"fill: #ff0000; stroke: #ff0000\"/>\n     <use xlink:href=\"#md33639d9c1\" x=\"357.256278\" y=\"134.271162\" style=\"fill: #ff0000; stroke: #ff0000\"/>\n     <use xlink:href=\"#md33639d9c1\" x=\"357.58101\" y=\"159.97168\" style=\"fill: #ff0000; stroke: #ff0000\"/>\n     <use xlink:href=\"#md33639d9c1\" x=\"357.905741\" y=\"138.925676\" style=\"fill: #ff0000; stroke: #ff0000\"/>\n     <use xlink:href=\"#md33639d9c1\" x=\"358.230473\" y=\"141.580329\" style=\"fill: #ff0000; stroke: #ff0000\"/>\n     <use xlink:href=\"#md33639d9c1\" x=\"358.555205\" y=\"123.881947\" style=\"fill: #ff0000; stroke: #ff0000\"/>\n     <use xlink:href=\"#md33639d9c1\" x=\"358.879937\" y=\"92.984932\" style=\"fill: #ff0000; stroke: #ff0000\"/>\n     <use xlink:href=\"#md33639d9c1\" x=\"359.204669\" y=\"154.46571\" style=\"fill: #ff0000; stroke: #ff0000\"/>\n     <use xlink:href=\"#md33639d9c1\" x=\"359.529401\" y=\"142.921226\" style=\"fill: #ff0000; stroke: #ff0000\"/>\n     <use xlink:href=\"#md33639d9c1\" x=\"359.854133\" y=\"147.882901\" style=\"fill: #ff0000; stroke: #ff0000\"/>\n     <use xlink:href=\"#md33639d9c1\" x=\"360.178864\" y=\"128.596753\" style=\"fill: #ff0000; stroke: #ff0000\"/>\n     <use xlink:href=\"#md33639d9c1\" x=\"360.503596\" y=\"150.256231\" style=\"fill: #ff0000; stroke: #ff0000\"/>\n     <use xlink:href=\"#md33639d9c1\" x=\"360.828328\" y=\"127.928508\" style=\"fill: #ff0000; stroke: #ff0000\"/>\n     <use xlink:href=\"#md33639d9c1\" x=\"361.151342\" y=\"135.231044\" style=\"fill: #ff0000; stroke: #ff0000\"/>\n     <use xlink:href=\"#md33639d9c1\" x=\"361.476074\" y=\"140.153424\" style=\"fill: #ff0000; stroke: #ff0000\"/>\n     <use xlink:href=\"#md33639d9c1\" x=\"361.800806\" y=\"135.658254\" style=\"fill: #ff0000; stroke: #ff0000\"/>\n     <use xlink:href=\"#md33639d9c1\" x=\"362.125538\" y=\"141.256407\" style=\"fill: #ff0000; stroke: #ff0000\"/>\n     <use xlink:href=\"#md33639d9c1\" x=\"362.450269\" y=\"116.74123\" style=\"fill: #ff0000; stroke: #ff0000\"/>\n     <use xlink:href=\"#md33639d9c1\" x=\"362.775001\" y=\"156.942507\" style=\"fill: #ff0000; stroke: #ff0000\"/>\n     <use xlink:href=\"#md33639d9c1\" x=\"363.099733\" y=\"138.301117\" style=\"fill: #ff0000; stroke: #ff0000\"/>\n     <use xlink:href=\"#md33639d9c1\" x=\"363.424465\" y=\"143.382149\" style=\"fill: #ff0000; stroke: #ff0000\"/>\n     <use xlink:href=\"#md33639d9c1\" x=\"363.749197\" y=\"148.944608\" style=\"fill: #ff0000; stroke: #ff0000\"/>\n     <use xlink:href=\"#md33639d9c1\" x=\"364.073929\" y=\"156.960339\" style=\"fill: #ff0000; stroke: #ff0000\"/>\n     <use xlink:href=\"#md33639d9c1\" x=\"364.398661\" y=\"151.993835\" style=\"fill: #ff0000; stroke: #ff0000\"/>\n     <use xlink:href=\"#md33639d9c1\" x=\"364.723392\" y=\"128.883431\" style=\"fill: #ff0000; stroke: #ff0000\"/>\n     <use xlink:href=\"#md33639d9c1\" x=\"365.048124\" y=\"135.469184\" style=\"fill: #ff0000; stroke: #ff0000\"/>\n     <use xlink:href=\"#md33639d9c1\" x=\"365.372856\" y=\"139.762847\" style=\"fill: #ff0000; stroke: #ff0000\"/>\n     <use xlink:href=\"#md33639d9c1\" x=\"365.697588\" y=\"158.110716\" style=\"fill: #ff0000; stroke: #ff0000\"/>\n     <use xlink:href=\"#md33639d9c1\" x=\"366.02232\" y=\"144.542386\" style=\"fill: #ff0000; stroke: #ff0000\"/>\n     <use xlink:href=\"#md33639d9c1\" x=\"366.347052\" y=\"174.208031\" style=\"fill: #ff0000; stroke: #ff0000\"/>\n     <use xlink:href=\"#md33639d9c1\" x=\"366.671784\" y=\"159.152662\" style=\"fill: #ff0000; stroke: #ff0000\"/>\n     <use xlink:href=\"#md33639d9c1\" x=\"366.996515\" y=\"140.140531\" style=\"fill: #ff0000; stroke: #ff0000\"/>\n     <use xlink:href=\"#md33639d9c1\" x=\"367.321247\" y=\"165.100023\" style=\"fill: #ff0000; stroke: #ff0000\"/>\n     <use xlink:href=\"#md33639d9c1\" x=\"367.645979\" y=\"168.01262\" style=\"fill: #ff0000; stroke: #ff0000\"/>\n     <use xlink:href=\"#md33639d9c1\" x=\"367.970711\" y=\"173.5266\" style=\"fill: #ff0000; stroke: #ff0000\"/>\n     <use xlink:href=\"#md33639d9c1\" x=\"368.295443\" y=\"132.568044\" style=\"fill: #ff0000; stroke: #ff0000\"/>\n     <use xlink:href=\"#md33639d9c1\" x=\"368.618457\" y=\"129.314724\" style=\"fill: #ff0000; stroke: #ff0000\"/>\n     <use xlink:href=\"#md33639d9c1\" x=\"368.943188\" y=\"126.420515\" style=\"fill: #ff0000; stroke: #ff0000\"/>\n     <use xlink:href=\"#md33639d9c1\" x=\"369.26792\" y=\"124.888186\" style=\"fill: #ff0000; stroke: #ff0000\"/>\n     <use xlink:href=\"#md33639d9c1\" x=\"369.592652\" y=\"157.323427\" style=\"fill: #ff0000; stroke: #ff0000\"/>\n     <use xlink:href=\"#md33639d9c1\" x=\"369.917384\" y=\"160.709716\" style=\"fill: #ff0000; stroke: #ff0000\"/>\n     <use xlink:href=\"#md33639d9c1\" x=\"370.242116\" y=\"160.864352\" style=\"fill: #ff0000; stroke: #ff0000\"/>\n     <use xlink:href=\"#md33639d9c1\" x=\"370.566848\" y=\"157.545114\" style=\"fill: #ff0000; stroke: #ff0000\"/>\n     <use xlink:href=\"#md33639d9c1\" x=\"370.89158\" y=\"137.519121\" style=\"fill: #ff0000; stroke: #ff0000\"/>\n     <use xlink:href=\"#md33639d9c1\" x=\"371.216312\" y=\"146.532299\" style=\"fill: #ff0000; stroke: #ff0000\"/>\n     <use xlink:href=\"#md33639d9c1\" x=\"371.541043\" y=\"151.573368\" style=\"fill: #ff0000; stroke: #ff0000\"/>\n     <use xlink:href=\"#md33639d9c1\" x=\"371.865775\" y=\"123.616792\" style=\"fill: #ff0000; stroke: #ff0000\"/>\n     <use xlink:href=\"#md33639d9c1\" x=\"372.190507\" y=\"130.844664\" style=\"fill: #ff0000; stroke: #ff0000\"/>\n     <use xlink:href=\"#md33639d9c1\" x=\"372.515239\" y=\"154.596943\" style=\"fill: #ff0000; stroke: #ff0000\"/>\n     <use xlink:href=\"#md33639d9c1\" x=\"372.839971\" y=\"169.159847\" style=\"fill: #ff0000; stroke: #ff0000\"/>\n     <use xlink:href=\"#md33639d9c1\" x=\"373.164703\" y=\"139.25468\" style=\"fill: #ff0000; stroke: #ff0000\"/>\n     <use xlink:href=\"#md33639d9c1\" x=\"373.489435\" y=\"163.601516\" style=\"fill: #ff0000; stroke: #ff0000\"/>\n     <use xlink:href=\"#md33639d9c1\" x=\"373.814166\" y=\"169.117993\" style=\"fill: #ff0000; stroke: #ff0000\"/>\n     <use xlink:href=\"#md33639d9c1\" x=\"374.138898\" y=\"156.826369\" style=\"fill: #ff0000; stroke: #ff0000\"/>\n     <use xlink:href=\"#md33639d9c1\" x=\"374.46363\" y=\"147.489223\" style=\"fill: #ff0000; stroke: #ff0000\"/>\n     <use xlink:href=\"#md33639d9c1\" x=\"374.788362\" y=\"154.833378\" style=\"fill: #ff0000; stroke: #ff0000\"/>\n     <use xlink:href=\"#md33639d9c1\" x=\"375.113094\" y=\"159.114414\" style=\"fill: #ff0000; stroke: #ff0000\"/>\n     <use xlink:href=\"#md33639d9c1\" x=\"375.437826\" y=\"160.6352\" style=\"fill: #ff0000; stroke: #ff0000\"/>\n     <use xlink:href=\"#md33639d9c1\" x=\"375.760839\" y=\"150.676726\" style=\"fill: #ff0000; stroke: #ff0000\"/>\n     <use xlink:href=\"#md33639d9c1\" x=\"376.085571\" y=\"136.098222\" style=\"fill: #ff0000; stroke: #ff0000\"/>\n     <use xlink:href=\"#md33639d9c1\" x=\"376.410303\" y=\"129.841455\" style=\"fill: #ff0000; stroke: #ff0000\"/>\n     <use xlink:href=\"#md33639d9c1\" x=\"376.735035\" y=\"136.375799\" style=\"fill: #ff0000; stroke: #ff0000\"/>\n     <use xlink:href=\"#md33639d9c1\" x=\"377.059767\" y=\"128.338207\" style=\"fill: #ff0000; stroke: #ff0000\"/>\n     <use xlink:href=\"#md33639d9c1\" x=\"377.384499\" y=\"155.720133\" style=\"fill: #ff0000; stroke: #ff0000\"/>\n     <use xlink:href=\"#md33639d9c1\" x=\"377.709231\" y=\"164.941707\" style=\"fill: #ff0000; stroke: #ff0000\"/>\n     <use xlink:href=\"#md33639d9c1\" x=\"378.033962\" y=\"164.579773\" style=\"fill: #ff0000; stroke: #ff0000\"/>\n     <use xlink:href=\"#md33639d9c1\" x=\"378.358694\" y=\"150.136219\" style=\"fill: #ff0000; stroke: #ff0000\"/>\n     <use xlink:href=\"#md33639d9c1\" x=\"378.683426\" y=\"161.438313\" style=\"fill: #ff0000; stroke: #ff0000\"/>\n     <use xlink:href=\"#md33639d9c1\" x=\"379.008158\" y=\"133.314673\" style=\"fill: #ff0000; stroke: #ff0000\"/>\n     <use xlink:href=\"#md33639d9c1\" x=\"379.33289\" y=\"136.295524\" style=\"fill: #ff0000; stroke: #ff0000\"/>\n     <use xlink:href=\"#md33639d9c1\" x=\"379.657622\" y=\"128.373547\" style=\"fill: #ff0000; stroke: #ff0000\"/>\n     <use xlink:href=\"#md33639d9c1\" x=\"379.982354\" y=\"147.505302\" style=\"fill: #ff0000; stroke: #ff0000\"/>\n     <use xlink:href=\"#md33639d9c1\" x=\"380.307085\" y=\"143.339133\" style=\"fill: #ff0000; stroke: #ff0000\"/>\n     <use xlink:href=\"#md33639d9c1\" x=\"380.631817\" y=\"159.343526\" style=\"fill: #ff0000; stroke: #ff0000\"/>\n     <use xlink:href=\"#md33639d9c1\" x=\"380.956549\" y=\"149.647244\" style=\"fill: #ff0000; stroke: #ff0000\"/>\n     <use xlink:href=\"#md33639d9c1\" x=\"381.281281\" y=\"134.642798\" style=\"fill: #ff0000; stroke: #ff0000\"/>\n     <use xlink:href=\"#md33639d9c1\" x=\"381.606013\" y=\"160.722857\" style=\"fill: #ff0000; stroke: #ff0000\"/>\n     <use xlink:href=\"#md33639d9c1\" x=\"381.930745\" y=\"152.755401\" style=\"fill: #ff0000; stroke: #ff0000\"/>\n     <use xlink:href=\"#md33639d9c1\" x=\"382.255477\" y=\"146.414663\" style=\"fill: #ff0000; stroke: #ff0000\"/>\n     <use xlink:href=\"#md33639d9c1\" x=\"382.580209\" y=\"132.955128\" style=\"fill: #ff0000; stroke: #ff0000\"/>\n     <use xlink:href=\"#md33639d9c1\" x=\"382.903222\" y=\"152.36281\" style=\"fill: #ff0000; stroke: #ff0000\"/>\n     <use xlink:href=\"#md33639d9c1\" x=\"383.227954\" y=\"125.671819\" style=\"fill: #ff0000; stroke: #ff0000\"/>\n     <use xlink:href=\"#md33639d9c1\" x=\"383.552686\" y=\"136.292969\" style=\"fill: #ff0000; stroke: #ff0000\"/>\n     <use xlink:href=\"#md33639d9c1\" x=\"383.877418\" y=\"124.216996\" style=\"fill: #ff0000; stroke: #ff0000\"/>\n     <use xlink:href=\"#md33639d9c1\" x=\"384.20215\" y=\"148.606581\" style=\"fill: #ff0000; stroke: #ff0000\"/>\n     <use xlink:href=\"#md33639d9c1\" x=\"384.526882\" y=\"141.857326\" style=\"fill: #ff0000; stroke: #ff0000\"/>\n     <use xlink:href=\"#md33639d9c1\" x=\"384.851613\" y=\"152.261898\" style=\"fill: #ff0000; stroke: #ff0000\"/>\n     <use xlink:href=\"#md33639d9c1\" x=\"385.176345\" y=\"162.350069\" style=\"fill: #ff0000; stroke: #ff0000\"/>\n     <use xlink:href=\"#md33639d9c1\" x=\"385.501077\" y=\"156.010939\" style=\"fill: #ff0000; stroke: #ff0000\"/>\n     <use xlink:href=\"#md33639d9c1\" x=\"385.825809\" y=\"160.791032\" style=\"fill: #ff0000; stroke: #ff0000\"/>\n     <use xlink:href=\"#md33639d9c1\" x=\"386.150541\" y=\"144.457047\" style=\"fill: #ff0000; stroke: #ff0000\"/>\n     <use xlink:href=\"#md33639d9c1\" x=\"386.475273\" y=\"136.878327\" style=\"fill: #ff0000; stroke: #ff0000\"/>\n    </g>\n   </g>\n   <g id=\"patch_3\">\n    <path d=\"M 45.588 241.16232 \nL 45.588 37.155777 \n\" style=\"fill: none; stroke: #262626; stroke-linejoin: miter; stroke-linecap: square\"/>\n   </g>\n   <g id=\"patch_4\">\n    <path d=\"M 61.820727 273.312 \nL 384.424222 273.312 \n\" style=\"fill: none; stroke: #262626; stroke-linejoin: miter; stroke-linecap: square\"/>\n   </g>\n   <g id=\"legend_1\">\n    <g id=\"line2d_15\">\n     <g>\n      <use xlink:href=\"#md33639d9c1\" x=\"301.04875\" y=\"18.726625\" style=\"fill: #ff0000; stroke: #ff0000\"/>\n     </g>\n    </g>\n    <g id=\"text_16\">\n     <!-- Stress-strain data -->\n     <g style=\"fill: #262626\" transform=\"translate(316.88875 21.806625) scale(0.088 -0.088)\">\n      <defs>\n       <path id=\"DejaVuSans-53\" d=\"M 3425 4513 \nL 3425 3897 \nQ 3066 4069 2747 4153 \nQ 2428 4238 2131 4238 \nQ 1616 4238 1336 4038 \nQ 1056 3838 1056 3469 \nQ 1056 3159 1242 3001 \nQ 1428 2844 1947 2747 \nL 2328 2669 \nQ 3034 2534 3370 2195 \nQ 3706 1856 3706 1288 \nQ 3706 609 3251 259 \nQ 2797 -91 1919 -91 \nQ 1588 -91 1214 -16 \nQ 841 59 441 206 \nL 441 856 \nQ 825 641 1194 531 \nQ 1563 422 1919 422 \nQ 2459 422 2753 634 \nQ 3047 847 3047 1241 \nQ 3047 1584 2836 1778 \nQ 2625 1972 2144 2069 \nL 1759 2144 \nQ 1053 2284 737 2584 \nQ 422 2884 422 3419 \nQ 422 4038 858 4394 \nQ 1294 4750 2059 4750 \nQ 2388 4750 2728 4690 \nQ 3069 4631 3425 4513 \nz\n\" transform=\"scale(0.015625)\"/>\n       <path id=\"DejaVuSans-2d\" d=\"M 313 2009 \nL 1997 2009 \nL 1997 1497 \nL 313 1497 \nL 313 2009 \nz\n\" transform=\"scale(0.015625)\"/>\n       <path id=\"DejaVuSans-64\" d=\"M 2906 2969 \nL 2906 4863 \nL 3481 4863 \nL 3481 0 \nL 2906 0 \nL 2906 525 \nQ 2725 213 2448 61 \nQ 2172 -91 1784 -91 \nQ 1150 -91 751 415 \nQ 353 922 353 1747 \nQ 353 2572 751 3078 \nQ 1150 3584 1784 3584 \nQ 2172 3584 2448 3432 \nQ 2725 3281 2906 2969 \nz\nM 947 1747 \nQ 947 1113 1208 752 \nQ 1469 391 1925 391 \nQ 2381 391 2643 752 \nQ 2906 1113 2906 1747 \nQ 2906 2381 2643 2742 \nQ 2381 3103 1925 3103 \nQ 1469 3103 1208 2742 \nQ 947 2381 947 1747 \nz\n\" transform=\"scale(0.015625)\"/>\n      </defs>\n      <use xlink:href=\"#DejaVuSans-53\"/>\n      <use xlink:href=\"#DejaVuSans-74\" transform=\"translate(63.476562 0)\"/>\n      <use xlink:href=\"#DejaVuSans-72\" transform=\"translate(102.685547 0)\"/>\n      <use xlink:href=\"#DejaVuSans-65\" transform=\"translate(141.548828 0)\"/>\n      <use xlink:href=\"#DejaVuSans-73\" transform=\"translate(203.072266 0)\"/>\n      <use xlink:href=\"#DejaVuSans-73\" transform=\"translate(255.171875 0)\"/>\n      <use xlink:href=\"#DejaVuSans-2d\" transform=\"translate(307.271484 0)\"/>\n      <use xlink:href=\"#DejaVuSans-73\" transform=\"translate(343.355469 0)\"/>\n      <use xlink:href=\"#DejaVuSans-74\" transform=\"translate(395.455078 0)\"/>\n      <use xlink:href=\"#DejaVuSans-72\" transform=\"translate(434.664062 0)\"/>\n      <use xlink:href=\"#DejaVuSans-61\" transform=\"translate(475.777344 0)\"/>\n      <use xlink:href=\"#DejaVuSans-69\" transform=\"translate(537.056641 0)\"/>\n      <use xlink:href=\"#DejaVuSans-6e\" transform=\"translate(564.839844 0)\"/>\n      <use xlink:href=\"#DejaVuSans-20\" transform=\"translate(628.21875 0)\"/>\n      <use xlink:href=\"#DejaVuSans-64\" transform=\"translate(660.005859 0)\"/>\n      <use xlink:href=\"#DejaVuSans-61\" transform=\"translate(723.482422 0)\"/>\n      <use xlink:href=\"#DejaVuSans-74\" transform=\"translate(784.761719 0)\"/>\n      <use xlink:href=\"#DejaVuSans-61\" transform=\"translate(823.970703 0)\"/>\n     </g>\n    </g>\n   </g>\n  </g>\n </g>\n <defs>\n  <clipPath id=\"pfc26d97018\">\n   <rect x=\"45.588\" y=\"7.2\" width=\"357.12\" height=\"266.112\"/>\n  </clipPath>\n </defs>\n</svg>\n"
          },
          "metadata": {}
        }
      ],
      "source": [
        "# Strain\n",
        "x = data[:, 0]\n",
        "# Stress in MPa\n",
        "y = data[:, 1]\n",
        "\n",
        "plt.figure()\n",
        "plt.plot(\n",
        "    x,\n",
        "    y,\n",
        "    'ro',\n",
        "    markersize=2,\n",
        "    label='Stress-strain data'\n",
        ")\n",
        "plt.xlabel('$\\epsilon$ (strain in %)')\n",
        "plt.ylabel('$\\sigma$ (stress in MPa)')\n",
        "plt.legend(loc='best', frameon=False)\n",
        "sns.despine(trim=True);"
      ]
    },
    {
      "cell_type": "markdown",
      "metadata": {
        "id": "rTfJR4ZCrNhK"
      },
      "source": [
        "Note that you don't necessarily get a unique stress for each particular value of the strain.\n",
        "This is because the atoms are jiggling around due to thermal effects.\n",
        "So, there is always this \"jiggling\" noise when measuring the stress and the strain.\n",
        "We want to process this noise to extract what is known as the [stress-strain curve](https://en.wikipedia.org/wiki/Stress–strain_curve) of the material.\n",
        "The stress-strain curve is a macroscopic property of the material, affected by the fine structure, e.g., the chemical bonds, the crystalline structure, any defects, etc.\n",
        "It is a required input to the mechanics of materials."
      ]
    },
    {
      "cell_type": "markdown",
      "metadata": {
        "id": "R6r3FO4irNhK"
      },
      "source": [
        "## Part A - Fitting the stress-strain curve in the elastic regime\n",
        "The very first part of the stress-strain curve should be linear.\n",
        "It is called the *elastic regime*.\n",
        "In that region, say $\\epsilon < \\epsilon_l=0.04$, the relationship between stress and strain is:\n",
        "\n",
        "$$\n",
        "\\sigma(\\epsilon) = E\\epsilon.\n",
        "$$\n",
        "\n",
        "The constant $E$ is known as the *Young modulus* of the material.\n",
        "Assume that you measure $\\epsilon$ without noise, but your measured $\\sigma$ is noisy.\n",
        "\n",
        "### Subpart A.I\n",
        "First, extract the relevant data for this problem, split it into training and validation datasets, and visualize the training and validation datasets using different colors."
      ]
    },
    {
      "cell_type": "code",
      "execution_count": 5,
      "metadata": {
        "id": "fqG8BTvgrNhK",
        "outputId": "a5038163-fa17-47c4-8abe-9ec1d8d40dc2",
        "colab": {
          "base_uri": "https://localhost:8080/",
          "height": 435
        }
      },
      "outputs": [
        {
          "output_type": "display_data",
          "data": {
            "text/plain": [
              "<Figure size 640x480 with 1 Axes>"
            ],
            "image/svg+xml": "<?xml version=\"1.0\" encoding=\"utf-8\" standalone=\"no\"?>\n<!DOCTYPE svg PUBLIC \"-//W3C//DTD SVG 1.1//EN\"\n  \"http://www.w3.org/Graphics/SVG/1.1/DTD/svg11.dtd\">\n<svg xmlns:xlink=\"http://www.w3.org/1999/xlink\" width=\"409.908pt\" height=\"310.61975pt\" viewBox=\"0 0 409.908 310.61975\" xmlns=\"http://www.w3.org/2000/svg\" version=\"1.1\">\n <metadata>\n  <rdf:RDF xmlns:dc=\"http://purl.org/dc/elements/1.1/\" xmlns:cc=\"http://creativecommons.org/ns#\" xmlns:rdf=\"http://www.w3.org/1999/02/22-rdf-syntax-ns#\">\n   <cc:Work>\n    <dc:type rdf:resource=\"http://purl.org/dc/dcmitype/StillImage\"/>\n    <dc:date>2025-03-28T16:55:24.148427</dc:date>\n    <dc:format>image/svg+xml</dc:format>\n    <dc:creator>\n     <cc:Agent>\n      <dc:title>Matplotlib v3.10.0, https://matplotlib.org/</dc:title>\n     </cc:Agent>\n    </dc:creator>\n   </cc:Work>\n  </rdf:RDF>\n </metadata>\n <defs>\n  <style type=\"text/css\">*{stroke-linejoin: round; stroke-linecap: butt}</style>\n </defs>\n <g id=\"figure_1\">\n  <g id=\"patch_1\">\n   <path d=\"M 0 310.61975 \nL 409.908 310.61975 \nL 409.908 0 \nL 0 0 \nz\n\" style=\"fill: #ffffff\"/>\n  </g>\n  <g id=\"axes_1\">\n   <g id=\"patch_2\">\n    <path d=\"M 45.588 273.312 \nL 402.708 273.312 \nL 402.708 7.2 \nL 45.588 7.2 \nz\n\" style=\"fill: #ffffff\"/>\n   </g>\n   <g id=\"matplotlib.axis_1\">\n    <g id=\"xtick_1\">\n     <g id=\"line2d_1\">\n      <defs>\n       <path id=\"mc2ab71569e\" d=\"M 0 0 \nL 0 4.8 \n\" style=\"stroke: #262626\"/>\n      </defs>\n      <g>\n       <use xlink:href=\"#mc2ab71569e\" x=\"61.820727\" y=\"273.312\" style=\"fill: #262626; stroke: #262626\"/>\n      </g>\n     </g>\n     <g id=\"text_1\">\n      <!-- 0.000 -->\n      <g style=\"fill: #262626\" transform=\"translate(49.224352 288.298625) scale(0.088 -0.088)\">\n       <defs>\n        <path id=\"DejaVuSans-30\" d=\"M 2034 4250 \nQ 1547 4250 1301 3770 \nQ 1056 3291 1056 2328 \nQ 1056 1369 1301 889 \nQ 1547 409 2034 409 \nQ 2525 409 2770 889 \nQ 3016 1369 3016 2328 \nQ 3016 3291 2770 3770 \nQ 2525 4250 2034 4250 \nz\nM 2034 4750 \nQ 2819 4750 3233 4129 \nQ 3647 3509 3647 2328 \nQ 3647 1150 3233 529 \nQ 2819 -91 2034 -91 \nQ 1250 -91 836 529 \nQ 422 1150 422 2328 \nQ 422 3509 836 4129 \nQ 1250 4750 2034 4750 \nz\n\" transform=\"scale(0.015625)\"/>\n        <path id=\"DejaVuSans-2e\" d=\"M 684 794 \nL 1344 794 \nL 1344 0 \nL 684 0 \nL 684 794 \nz\n\" transform=\"scale(0.015625)\"/>\n       </defs>\n       <use xlink:href=\"#DejaVuSans-30\"/>\n       <use xlink:href=\"#DejaVuSans-2e\" transform=\"translate(63.623047 0)\"/>\n       <use xlink:href=\"#DejaVuSans-30\" transform=\"translate(95.410156 0)\"/>\n       <use xlink:href=\"#DejaVuSans-30\" transform=\"translate(159.033203 0)\"/>\n       <use xlink:href=\"#DejaVuSans-30\" transform=\"translate(222.65625 0)\"/>\n      </g>\n     </g>\n    </g>\n    <g id=\"xtick_2\">\n     <g id=\"line2d_2\">\n      <g>\n       <use xlink:href=\"#mc2ab71569e\" x=\"102.656462\" y=\"273.312\" style=\"fill: #262626; stroke: #262626\"/>\n      </g>\n     </g>\n     <g id=\"text_2\">\n      <!-- 0.005 -->\n      <g style=\"fill: #262626\" transform=\"translate(90.060087 288.298625) scale(0.088 -0.088)\">\n       <defs>\n        <path id=\"DejaVuSans-35\" d=\"M 691 4666 \nL 3169 4666 \nL 3169 4134 \nL 1269 4134 \nL 1269 2991 \nQ 1406 3038 1543 3061 \nQ 1681 3084 1819 3084 \nQ 2600 3084 3056 2656 \nQ 3513 2228 3513 1497 \nQ 3513 744 3044 326 \nQ 2575 -91 1722 -91 \nQ 1428 -91 1123 -41 \nQ 819 9 494 109 \nL 494 744 \nQ 775 591 1075 516 \nQ 1375 441 1709 441 \nQ 2250 441 2565 725 \nQ 2881 1009 2881 1497 \nQ 2881 1984 2565 2268 \nQ 2250 2553 1709 2553 \nQ 1456 2553 1204 2497 \nQ 953 2441 691 2322 \nL 691 4666 \nz\n\" transform=\"scale(0.015625)\"/>\n       </defs>\n       <use xlink:href=\"#DejaVuSans-30\"/>\n       <use xlink:href=\"#DejaVuSans-2e\" transform=\"translate(63.623047 0)\"/>\n       <use xlink:href=\"#DejaVuSans-30\" transform=\"translate(95.410156 0)\"/>\n       <use xlink:href=\"#DejaVuSans-30\" transform=\"translate(159.033203 0)\"/>\n       <use xlink:href=\"#DejaVuSans-35\" transform=\"translate(222.65625 0)\"/>\n      </g>\n     </g>\n    </g>\n    <g id=\"xtick_3\">\n     <g id=\"line2d_3\">\n      <g>\n       <use xlink:href=\"#mc2ab71569e\" x=\"143.492197\" y=\"273.312\" style=\"fill: #262626; stroke: #262626\"/>\n      </g>\n     </g>\n     <g id=\"text_3\">\n      <!-- 0.010 -->\n      <g style=\"fill: #262626\" transform=\"translate(130.895822 288.298625) scale(0.088 -0.088)\">\n       <defs>\n        <path id=\"DejaVuSans-31\" d=\"M 794 531 \nL 1825 531 \nL 1825 4091 \nL 703 3866 \nL 703 4441 \nL 1819 4666 \nL 2450 4666 \nL 2450 531 \nL 3481 531 \nL 3481 0 \nL 794 0 \nL 794 531 \nz\n\" transform=\"scale(0.015625)\"/>\n       </defs>\n       <use xlink:href=\"#DejaVuSans-30\"/>\n       <use xlink:href=\"#DejaVuSans-2e\" transform=\"translate(63.623047 0)\"/>\n       <use xlink:href=\"#DejaVuSans-30\" transform=\"translate(95.410156 0)\"/>\n       <use xlink:href=\"#DejaVuSans-31\" transform=\"translate(159.033203 0)\"/>\n       <use xlink:href=\"#DejaVuSans-30\" transform=\"translate(222.65625 0)\"/>\n      </g>\n     </g>\n    </g>\n    <g id=\"xtick_4\">\n     <g id=\"line2d_4\">\n      <g>\n       <use xlink:href=\"#mc2ab71569e\" x=\"184.327932\" y=\"273.312\" style=\"fill: #262626; stroke: #262626\"/>\n      </g>\n     </g>\n     <g id=\"text_4\">\n      <!-- 0.015 -->\n      <g style=\"fill: #262626\" transform=\"translate(171.731557 288.298625) scale(0.088 -0.088)\">\n       <use xlink:href=\"#DejaVuSans-30\"/>\n       <use xlink:href=\"#DejaVuSans-2e\" transform=\"translate(63.623047 0)\"/>\n       <use xlink:href=\"#DejaVuSans-30\" transform=\"translate(95.410156 0)\"/>\n       <use xlink:href=\"#DejaVuSans-31\" transform=\"translate(159.033203 0)\"/>\n       <use xlink:href=\"#DejaVuSans-35\" transform=\"translate(222.65625 0)\"/>\n      </g>\n     </g>\n    </g>\n    <g id=\"xtick_5\">\n     <g id=\"line2d_5\">\n      <g>\n       <use xlink:href=\"#mc2ab71569e\" x=\"225.163667\" y=\"273.312\" style=\"fill: #262626; stroke: #262626\"/>\n      </g>\n     </g>\n     <g id=\"text_5\">\n      <!-- 0.020 -->\n      <g style=\"fill: #262626\" transform=\"translate(212.567292 288.298625) scale(0.088 -0.088)\">\n       <defs>\n        <path id=\"DejaVuSans-32\" d=\"M 1228 531 \nL 3431 531 \nL 3431 0 \nL 469 0 \nL 469 531 \nQ 828 903 1448 1529 \nQ 2069 2156 2228 2338 \nQ 2531 2678 2651 2914 \nQ 2772 3150 2772 3378 \nQ 2772 3750 2511 3984 \nQ 2250 4219 1831 4219 \nQ 1534 4219 1204 4116 \nQ 875 4013 500 3803 \nL 500 4441 \nQ 881 4594 1212 4672 \nQ 1544 4750 1819 4750 \nQ 2544 4750 2975 4387 \nQ 3406 4025 3406 3419 \nQ 3406 3131 3298 2873 \nQ 3191 2616 2906 2266 \nQ 2828 2175 2409 1742 \nQ 1991 1309 1228 531 \nz\n\" transform=\"scale(0.015625)\"/>\n       </defs>\n       <use xlink:href=\"#DejaVuSans-30\"/>\n       <use xlink:href=\"#DejaVuSans-2e\" transform=\"translate(63.623047 0)\"/>\n       <use xlink:href=\"#DejaVuSans-30\" transform=\"translate(95.410156 0)\"/>\n       <use xlink:href=\"#DejaVuSans-32\" transform=\"translate(159.033203 0)\"/>\n       <use xlink:href=\"#DejaVuSans-30\" transform=\"translate(222.65625 0)\"/>\n      </g>\n     </g>\n    </g>\n    <g id=\"xtick_6\">\n     <g id=\"line2d_6\">\n      <g>\n       <use xlink:href=\"#mc2ab71569e\" x=\"265.999402\" y=\"273.312\" style=\"fill: #262626; stroke: #262626\"/>\n      </g>\n     </g>\n     <g id=\"text_6\">\n      <!-- 0.025 -->\n      <g style=\"fill: #262626\" transform=\"translate(253.403027 288.298625) scale(0.088 -0.088)\">\n       <use xlink:href=\"#DejaVuSans-30\"/>\n       <use xlink:href=\"#DejaVuSans-2e\" transform=\"translate(63.623047 0)\"/>\n       <use xlink:href=\"#DejaVuSans-30\" transform=\"translate(95.410156 0)\"/>\n       <use xlink:href=\"#DejaVuSans-32\" transform=\"translate(159.033203 0)\"/>\n       <use xlink:href=\"#DejaVuSans-35\" transform=\"translate(222.65625 0)\"/>\n      </g>\n     </g>\n    </g>\n    <g id=\"xtick_7\">\n     <g id=\"line2d_7\">\n      <g>\n       <use xlink:href=\"#mc2ab71569e\" x=\"306.835137\" y=\"273.312\" style=\"fill: #262626; stroke: #262626\"/>\n      </g>\n     </g>\n     <g id=\"text_7\">\n      <!-- 0.030 -->\n      <g style=\"fill: #262626\" transform=\"translate(294.238762 288.298625) scale(0.088 -0.088)\">\n       <defs>\n        <path id=\"DejaVuSans-33\" d=\"M 2597 2516 \nQ 3050 2419 3304 2112 \nQ 3559 1806 3559 1356 \nQ 3559 666 3084 287 \nQ 2609 -91 1734 -91 \nQ 1441 -91 1130 -33 \nQ 819 25 488 141 \nL 488 750 \nQ 750 597 1062 519 \nQ 1375 441 1716 441 \nQ 2309 441 2620 675 \nQ 2931 909 2931 1356 \nQ 2931 1769 2642 2001 \nQ 2353 2234 1838 2234 \nL 1294 2234 \nL 1294 2753 \nL 1863 2753 \nQ 2328 2753 2575 2939 \nQ 2822 3125 2822 3475 \nQ 2822 3834 2567 4026 \nQ 2313 4219 1838 4219 \nQ 1578 4219 1281 4162 \nQ 984 4106 628 3988 \nL 628 4550 \nQ 988 4650 1302 4700 \nQ 1616 4750 1894 4750 \nQ 2613 4750 3031 4423 \nQ 3450 4097 3450 3541 \nQ 3450 3153 3228 2886 \nQ 3006 2619 2597 2516 \nz\n\" transform=\"scale(0.015625)\"/>\n       </defs>\n       <use xlink:href=\"#DejaVuSans-30\"/>\n       <use xlink:href=\"#DejaVuSans-2e\" transform=\"translate(63.623047 0)\"/>\n       <use xlink:href=\"#DejaVuSans-30\" transform=\"translate(95.410156 0)\"/>\n       <use xlink:href=\"#DejaVuSans-33\" transform=\"translate(159.033203 0)\"/>\n       <use xlink:href=\"#DejaVuSans-30\" transform=\"translate(222.65625 0)\"/>\n      </g>\n     </g>\n    </g>\n    <g id=\"xtick_8\">\n     <g id=\"line2d_8\">\n      <g>\n       <use xlink:href=\"#mc2ab71569e\" x=\"347.670872\" y=\"273.312\" style=\"fill: #262626; stroke: #262626\"/>\n      </g>\n     </g>\n     <g id=\"text_8\">\n      <!-- 0.035 -->\n      <g style=\"fill: #262626\" transform=\"translate(335.074497 288.298625) scale(0.088 -0.088)\">\n       <use xlink:href=\"#DejaVuSans-30\"/>\n       <use xlink:href=\"#DejaVuSans-2e\" transform=\"translate(63.623047 0)\"/>\n       <use xlink:href=\"#DejaVuSans-30\" transform=\"translate(95.410156 0)\"/>\n       <use xlink:href=\"#DejaVuSans-33\" transform=\"translate(159.033203 0)\"/>\n       <use xlink:href=\"#DejaVuSans-35\" transform=\"translate(222.65625 0)\"/>\n      </g>\n     </g>\n    </g>\n    <g id=\"xtick_9\">\n     <g id=\"line2d_9\">\n      <g>\n       <use xlink:href=\"#mc2ab71569e\" x=\"388.506606\" y=\"273.312\" style=\"fill: #262626; stroke: #262626\"/>\n      </g>\n     </g>\n     <g id=\"text_9\">\n      <!-- 0.040 -->\n      <g style=\"fill: #262626\" transform=\"translate(375.910231 288.298625) scale(0.088 -0.088)\">\n       <defs>\n        <path id=\"DejaVuSans-34\" d=\"M 2419 4116 \nL 825 1625 \nL 2419 1625 \nL 2419 4116 \nz\nM 2253 4666 \nL 3047 4666 \nL 3047 1625 \nL 3713 1625 \nL 3713 1100 \nL 3047 1100 \nL 3047 0 \nL 2419 0 \nL 2419 1100 \nL 313 1100 \nL 313 1709 \nL 2253 4666 \nz\n\" transform=\"scale(0.015625)\"/>\n       </defs>\n       <use xlink:href=\"#DejaVuSans-30\"/>\n       <use xlink:href=\"#DejaVuSans-2e\" transform=\"translate(63.623047 0)\"/>\n       <use xlink:href=\"#DejaVuSans-30\" transform=\"translate(95.410156 0)\"/>\n       <use xlink:href=\"#DejaVuSans-34\" transform=\"translate(159.033203 0)\"/>\n       <use xlink:href=\"#DejaVuSans-30\" transform=\"translate(222.65625 0)\"/>\n      </g>\n     </g>\n    </g>\n    <g id=\"text_10\">\n     <!-- $\\epsilon$ (strain in %) -->\n     <g style=\"fill: #262626\" transform=\"translate(190.596 301.42325) scale(0.096 -0.096)\">\n      <defs>\n       <path id=\"DejaVuSans-Oblique-3b5\" d=\"M 1263 1888 \nQ 925 1963 778 2166 \nQ 669 2309 669 2503 \nQ 669 3034 1175 3344 \nQ 1575 3588 2188 3588 \nQ 2425 3588 2684 3550 \nQ 2944 3513 3234 3438 \nL 3134 2916 \nQ 2847 3006 2606 3047 \nQ 2359 3088 2138 3088 \nQ 1766 3088 1522 2944 \nQ 1228 2772 1228 2522 \nQ 1228 2356 1381 2241 \nQ 1563 2103 1925 2103 \nL 2409 2103 \nL 2319 1628 \nL 1856 1628 \nQ 1425 1628 1172 1469 \nQ 828 1253 828 916 \nQ 828 703 1013 563 \nQ 1244 388 1716 388 \nQ 2006 388 2284 444 \nQ 2563 503 2806 619 \nL 2700 84 \nQ 2403 -3 2131 -47 \nQ 1859 -91 1609 -91 \nQ 866 -91 516 194 \nQ 250 413 250 781 \nQ 250 1278 600 1584 \nQ 859 1813 1263 1888 \nz\n\" transform=\"scale(0.015625)\"/>\n       <path id=\"DejaVuSans-20\" transform=\"scale(0.015625)\"/>\n       <path id=\"DejaVuSans-28\" d=\"M 1984 4856 \nQ 1566 4138 1362 3434 \nQ 1159 2731 1159 2009 \nQ 1159 1288 1364 580 \nQ 1569 -128 1984 -844 \nL 1484 -844 \nQ 1016 -109 783 600 \nQ 550 1309 550 2009 \nQ 550 2706 781 3412 \nQ 1013 4119 1484 4856 \nL 1984 4856 \nz\n\" transform=\"scale(0.015625)\"/>\n       <path id=\"DejaVuSans-73\" d=\"M 2834 3397 \nL 2834 2853 \nQ 2591 2978 2328 3040 \nQ 2066 3103 1784 3103 \nQ 1356 3103 1142 2972 \nQ 928 2841 928 2578 \nQ 928 2378 1081 2264 \nQ 1234 2150 1697 2047 \nL 1894 2003 \nQ 2506 1872 2764 1633 \nQ 3022 1394 3022 966 \nQ 3022 478 2636 193 \nQ 2250 -91 1575 -91 \nQ 1294 -91 989 -36 \nQ 684 19 347 128 \nL 347 722 \nQ 666 556 975 473 \nQ 1284 391 1588 391 \nQ 1994 391 2212 530 \nQ 2431 669 2431 922 \nQ 2431 1156 2273 1281 \nQ 2116 1406 1581 1522 \nL 1381 1569 \nQ 847 1681 609 1914 \nQ 372 2147 372 2553 \nQ 372 3047 722 3315 \nQ 1072 3584 1716 3584 \nQ 2034 3584 2315 3537 \nQ 2597 3491 2834 3397 \nz\n\" transform=\"scale(0.015625)\"/>\n       <path id=\"DejaVuSans-74\" d=\"M 1172 4494 \nL 1172 3500 \nL 2356 3500 \nL 2356 3053 \nL 1172 3053 \nL 1172 1153 \nQ 1172 725 1289 603 \nQ 1406 481 1766 481 \nL 2356 481 \nL 2356 0 \nL 1766 0 \nQ 1100 0 847 248 \nQ 594 497 594 1153 \nL 594 3053 \nL 172 3053 \nL 172 3500 \nL 594 3500 \nL 594 4494 \nL 1172 4494 \nz\n\" transform=\"scale(0.015625)\"/>\n       <path id=\"DejaVuSans-72\" d=\"M 2631 2963 \nQ 2534 3019 2420 3045 \nQ 2306 3072 2169 3072 \nQ 1681 3072 1420 2755 \nQ 1159 2438 1159 1844 \nL 1159 0 \nL 581 0 \nL 581 3500 \nL 1159 3500 \nL 1159 2956 \nQ 1341 3275 1631 3429 \nQ 1922 3584 2338 3584 \nQ 2397 3584 2469 3576 \nQ 2541 3569 2628 3553 \nL 2631 2963 \nz\n\" transform=\"scale(0.015625)\"/>\n       <path id=\"DejaVuSans-61\" d=\"M 2194 1759 \nQ 1497 1759 1228 1600 \nQ 959 1441 959 1056 \nQ 959 750 1161 570 \nQ 1363 391 1709 391 \nQ 2188 391 2477 730 \nQ 2766 1069 2766 1631 \nL 2766 1759 \nL 2194 1759 \nz\nM 3341 1997 \nL 3341 0 \nL 2766 0 \nL 2766 531 \nQ 2569 213 2275 61 \nQ 1981 -91 1556 -91 \nQ 1019 -91 701 211 \nQ 384 513 384 1019 \nQ 384 1609 779 1909 \nQ 1175 2209 1959 2209 \nL 2766 2209 \nL 2766 2266 \nQ 2766 2663 2505 2880 \nQ 2244 3097 1772 3097 \nQ 1472 3097 1187 3025 \nQ 903 2953 641 2809 \nL 641 3341 \nQ 956 3463 1253 3523 \nQ 1550 3584 1831 3584 \nQ 2591 3584 2966 3190 \nQ 3341 2797 3341 1997 \nz\n\" transform=\"scale(0.015625)\"/>\n       <path id=\"DejaVuSans-69\" d=\"M 603 3500 \nL 1178 3500 \nL 1178 0 \nL 603 0 \nL 603 3500 \nz\nM 603 4863 \nL 1178 4863 \nL 1178 4134 \nL 603 4134 \nL 603 4863 \nz\n\" transform=\"scale(0.015625)\"/>\n       <path id=\"DejaVuSans-6e\" d=\"M 3513 2113 \nL 3513 0 \nL 2938 0 \nL 2938 2094 \nQ 2938 2591 2744 2837 \nQ 2550 3084 2163 3084 \nQ 1697 3084 1428 2787 \nQ 1159 2491 1159 1978 \nL 1159 0 \nL 581 0 \nL 581 3500 \nL 1159 3500 \nL 1159 2956 \nQ 1366 3272 1645 3428 \nQ 1925 3584 2291 3584 \nQ 2894 3584 3203 3211 \nQ 3513 2838 3513 2113 \nz\n\" transform=\"scale(0.015625)\"/>\n       <path id=\"DejaVuSans-25\" d=\"M 4653 2053 \nQ 4381 2053 4226 1822 \nQ 4072 1591 4072 1178 \nQ 4072 772 4226 539 \nQ 4381 306 4653 306 \nQ 4919 306 5073 539 \nQ 5228 772 5228 1178 \nQ 5228 1588 5073 1820 \nQ 4919 2053 4653 2053 \nz\nM 4653 2450 \nQ 5147 2450 5437 2106 \nQ 5728 1763 5728 1178 \nQ 5728 594 5436 251 \nQ 5144 -91 4653 -91 \nQ 4153 -91 3862 251 \nQ 3572 594 3572 1178 \nQ 3572 1766 3864 2108 \nQ 4156 2450 4653 2450 \nz\nM 1428 4353 \nQ 1159 4353 1004 4120 \nQ 850 3888 850 3481 \nQ 850 3069 1003 2837 \nQ 1156 2606 1428 2606 \nQ 1700 2606 1854 2837 \nQ 2009 3069 2009 3481 \nQ 2009 3884 1853 4118 \nQ 1697 4353 1428 4353 \nz\nM 4250 4750 \nL 4750 4750 \nL 1831 -91 \nL 1331 -91 \nL 4250 4750 \nz\nM 1428 4750 \nQ 1922 4750 2215 4408 \nQ 2509 4066 2509 3481 \nQ 2509 2891 2217 2550 \nQ 1925 2209 1428 2209 \nQ 931 2209 642 2551 \nQ 353 2894 353 3481 \nQ 353 4063 643 4406 \nQ 934 4750 1428 4750 \nz\n\" transform=\"scale(0.015625)\"/>\n       <path id=\"DejaVuSans-29\" d=\"M 513 4856 \nL 1013 4856 \nQ 1481 4119 1714 3412 \nQ 1947 2706 1947 2009 \nQ 1947 1309 1714 600 \nQ 1481 -109 1013 -844 \nL 513 -844 \nQ 928 -128 1133 580 \nQ 1338 1288 1338 2009 \nQ 1338 2731 1133 3434 \nQ 928 4138 513 4856 \nz\n\" transform=\"scale(0.015625)\"/>\n      </defs>\n      <use xlink:href=\"#DejaVuSans-Oblique-3b5\" transform=\"translate(0 0.015625)\"/>\n      <use xlink:href=\"#DejaVuSans-20\" transform=\"translate(54.052734 0.015625)\"/>\n      <use xlink:href=\"#DejaVuSans-28\" transform=\"translate(85.839844 0.015625)\"/>\n      <use xlink:href=\"#DejaVuSans-73\" transform=\"translate(124.853516 0.015625)\"/>\n      <use xlink:href=\"#DejaVuSans-74\" transform=\"translate(176.953125 0.015625)\"/>\n      <use xlink:href=\"#DejaVuSans-72\" transform=\"translate(216.162109 0.015625)\"/>\n      <use xlink:href=\"#DejaVuSans-61\" transform=\"translate(257.275391 0.015625)\"/>\n      <use xlink:href=\"#DejaVuSans-69\" transform=\"translate(318.554688 0.015625)\"/>\n      <use xlink:href=\"#DejaVuSans-6e\" transform=\"translate(346.337891 0.015625)\"/>\n      <use xlink:href=\"#DejaVuSans-20\" transform=\"translate(409.716797 0.015625)\"/>\n      <use xlink:href=\"#DejaVuSans-69\" transform=\"translate(441.503906 0.015625)\"/>\n      <use xlink:href=\"#DejaVuSans-6e\" transform=\"translate(469.287109 0.015625)\"/>\n      <use xlink:href=\"#DejaVuSans-20\" transform=\"translate(532.666016 0.015625)\"/>\n      <use xlink:href=\"#DejaVuSans-25\" transform=\"translate(564.453125 0.015625)\"/>\n      <use xlink:href=\"#DejaVuSans-29\" transform=\"translate(659.472656 0.015625)\"/>\n     </g>\n    </g>\n   </g>\n   <g id=\"matplotlib.axis_2\">\n    <g id=\"ytick_1\">\n     <g id=\"line2d_10\">\n      <defs>\n       <path id=\"m1bfa6d6ca0\" d=\"M 0 0 \nL -4.8 0 \n\" style=\"stroke: #262626\"/>\n      </defs>\n      <g>\n       <use xlink:href=\"#m1bfa6d6ca0\" x=\"45.588\" y=\"237.549444\" style=\"fill: #262626; stroke: #262626\"/>\n      </g>\n     </g>\n     <g id=\"text_11\">\n      <!-- 0 -->\n      <g style=\"fill: #262626\" transform=\"translate(31.689 240.892756) scale(0.088 -0.088)\">\n       <use xlink:href=\"#DejaVuSans-30\"/>\n      </g>\n     </g>\n    </g>\n    <g id=\"ytick_2\">\n     <g id=\"line2d_11\">\n      <g>\n       <use xlink:href=\"#m1bfa6d6ca0\" x=\"45.588\" y=\"197.422708\" style=\"fill: #262626; stroke: #262626\"/>\n      </g>\n     </g>\n     <g id=\"text_12\">\n      <!-- 50 -->\n      <g style=\"fill: #262626\" transform=\"translate(26.09 200.766021) scale(0.088 -0.088)\">\n       <use xlink:href=\"#DejaVuSans-35\"/>\n       <use xlink:href=\"#DejaVuSans-30\" transform=\"translate(63.623047 0)\"/>\n      </g>\n     </g>\n    </g>\n    <g id=\"ytick_3\">\n     <g id=\"line2d_12\">\n      <g>\n       <use xlink:href=\"#m1bfa6d6ca0\" x=\"45.588\" y=\"157.295972\" style=\"fill: #262626; stroke: #262626\"/>\n      </g>\n     </g>\n     <g id=\"text_13\">\n      <!-- 100 -->\n      <g style=\"fill: #262626\" transform=\"translate(20.491 160.639285) scale(0.088 -0.088)\">\n       <use xlink:href=\"#DejaVuSans-31\"/>\n       <use xlink:href=\"#DejaVuSans-30\" transform=\"translate(63.623047 0)\"/>\n       <use xlink:href=\"#DejaVuSans-30\" transform=\"translate(127.246094 0)\"/>\n      </g>\n     </g>\n    </g>\n    <g id=\"ytick_4\">\n     <g id=\"line2d_13\">\n      <g>\n       <use xlink:href=\"#m1bfa6d6ca0\" x=\"45.588\" y=\"117.169236\" style=\"fill: #262626; stroke: #262626\"/>\n      </g>\n     </g>\n     <g id=\"text_14\">\n      <!-- 150 -->\n      <g style=\"fill: #262626\" transform=\"translate(20.491 120.512549) scale(0.088 -0.088)\">\n       <use xlink:href=\"#DejaVuSans-31\"/>\n       <use xlink:href=\"#DejaVuSans-35\" transform=\"translate(63.623047 0)\"/>\n       <use xlink:href=\"#DejaVuSans-30\" transform=\"translate(127.246094 0)\"/>\n      </g>\n     </g>\n    </g>\n    <g id=\"ytick_5\">\n     <g id=\"line2d_14\">\n      <g>\n       <use xlink:href=\"#m1bfa6d6ca0\" x=\"45.588\" y=\"77.042501\" style=\"fill: #262626; stroke: #262626\"/>\n      </g>\n     </g>\n     <g id=\"text_15\">\n      <!-- 200 -->\n      <g style=\"fill: #262626\" transform=\"translate(20.491 80.385813) scale(0.088 -0.088)\">\n       <use xlink:href=\"#DejaVuSans-32\"/>\n       <use xlink:href=\"#DejaVuSans-30\" transform=\"translate(63.623047 0)\"/>\n       <use xlink:href=\"#DejaVuSans-30\" transform=\"translate(127.246094 0)\"/>\n      </g>\n     </g>\n    </g>\n    <g id=\"ytick_6\">\n     <g id=\"line2d_15\">\n      <g>\n       <use xlink:href=\"#m1bfa6d6ca0\" x=\"45.588\" y=\"36.915765\" style=\"fill: #262626; stroke: #262626\"/>\n      </g>\n     </g>\n     <g id=\"text_16\">\n      <!-- 250 -->\n      <g style=\"fill: #262626\" transform=\"translate(20.491 40.259077) scale(0.088 -0.088)\">\n       <use xlink:href=\"#DejaVuSans-32\"/>\n       <use xlink:href=\"#DejaVuSans-35\" transform=\"translate(63.623047 0)\"/>\n       <use xlink:href=\"#DejaVuSans-30\" transform=\"translate(127.246094 0)\"/>\n      </g>\n     </g>\n    </g>\n    <g id=\"text_17\">\n     <!-- $\\sigma$ (stress in MPa) -->\n     <g style=\"fill: #262626\" transform=\"translate(14.4945 180.288) rotate(-90) scale(0.096 -0.096)\">\n      <defs>\n       <path id=\"DejaVuSans-Oblique-3c3\" d=\"M 2219 3044 \nQ 1744 3044 1422 2700 \nQ 1081 2341 969 1747 \nQ 844 1119 1044 756 \nQ 1241 397 1706 397 \nQ 2166 397 2503 759 \nQ 2844 1122 2966 1747 \nQ 3075 2319 2881 2700 \nQ 2700 3044 2219 3044 \nz\nM 2309 3503 \nL 4219 3500 \nL 4106 2925 \nL 3463 2925 \nQ 3706 2438 3575 1747 \nQ 3406 888 2884 400 \nQ 2359 -91 1609 -91 \nQ 856 -91 525 400 \nQ 194 888 363 1747 \nQ 528 2609 1050 3097 \nQ 1484 3503 2309 3503 \nz\n\" transform=\"scale(0.015625)\"/>\n       <path id=\"DejaVuSans-65\" d=\"M 3597 1894 \nL 3597 1613 \nL 953 1613 \nQ 991 1019 1311 708 \nQ 1631 397 2203 397 \nQ 2534 397 2845 478 \nQ 3156 559 3463 722 \nL 3463 178 \nQ 3153 47 2828 -22 \nQ 2503 -91 2169 -91 \nQ 1331 -91 842 396 \nQ 353 884 353 1716 \nQ 353 2575 817 3079 \nQ 1281 3584 2069 3584 \nQ 2775 3584 3186 3129 \nQ 3597 2675 3597 1894 \nz\nM 3022 2063 \nQ 3016 2534 2758 2815 \nQ 2500 3097 2075 3097 \nQ 1594 3097 1305 2825 \nQ 1016 2553 972 2059 \nL 3022 2063 \nz\n\" transform=\"scale(0.015625)\"/>\n       <path id=\"DejaVuSans-4d\" d=\"M 628 4666 \nL 1569 4666 \nL 2759 1491 \nL 3956 4666 \nL 4897 4666 \nL 4897 0 \nL 4281 0 \nL 4281 4097 \nL 3078 897 \nL 2444 897 \nL 1241 4097 \nL 1241 0 \nL 628 0 \nL 628 4666 \nz\n\" transform=\"scale(0.015625)\"/>\n       <path id=\"DejaVuSans-50\" d=\"M 1259 4147 \nL 1259 2394 \nL 2053 2394 \nQ 2494 2394 2734 2622 \nQ 2975 2850 2975 3272 \nQ 2975 3691 2734 3919 \nQ 2494 4147 2053 4147 \nL 1259 4147 \nz\nM 628 4666 \nL 2053 4666 \nQ 2838 4666 3239 4311 \nQ 3641 3956 3641 3272 \nQ 3641 2581 3239 2228 \nQ 2838 1875 2053 1875 \nL 1259 1875 \nL 1259 0 \nL 628 0 \nL 628 4666 \nz\n\" transform=\"scale(0.015625)\"/>\n      </defs>\n      <use xlink:href=\"#DejaVuSans-Oblique-3c3\" transform=\"translate(0 0.015625)\"/>\n      <use xlink:href=\"#DejaVuSans-20\" transform=\"translate(63.378906 0.015625)\"/>\n      <use xlink:href=\"#DejaVuSans-28\" transform=\"translate(95.166016 0.015625)\"/>\n      <use xlink:href=\"#DejaVuSans-73\" transform=\"translate(134.179688 0.015625)\"/>\n      <use xlink:href=\"#DejaVuSans-74\" transform=\"translate(186.279297 0.015625)\"/>\n      <use xlink:href=\"#DejaVuSans-72\" transform=\"translate(225.488281 0.015625)\"/>\n      <use xlink:href=\"#DejaVuSans-65\" transform=\"translate(266.601562 0.015625)\"/>\n      <use xlink:href=\"#DejaVuSans-73\" transform=\"translate(328.125 0.015625)\"/>\n      <use xlink:href=\"#DejaVuSans-73\" transform=\"translate(380.224609 0.015625)\"/>\n      <use xlink:href=\"#DejaVuSans-20\" transform=\"translate(432.324219 0.015625)\"/>\n      <use xlink:href=\"#DejaVuSans-69\" transform=\"translate(464.111328 0.015625)\"/>\n      <use xlink:href=\"#DejaVuSans-6e\" transform=\"translate(491.894531 0.015625)\"/>\n      <use xlink:href=\"#DejaVuSans-20\" transform=\"translate(555.273438 0.015625)\"/>\n      <use xlink:href=\"#DejaVuSans-4d\" transform=\"translate(587.060547 0.015625)\"/>\n      <use xlink:href=\"#DejaVuSans-50\" transform=\"translate(673.339844 0.015625)\"/>\n      <use xlink:href=\"#DejaVuSans-61\" transform=\"translate(733.642578 0.015625)\"/>\n      <use xlink:href=\"#DejaVuSans-29\" transform=\"translate(794.921875 0.015625)\"/>\n     </g>\n    </g>\n   </g>\n   <g id=\"line2d_16\">\n    <defs>\n     <path id=\"m26e4ecb3d7\" d=\"M 0 1 \nC 0.265203 1 0.51958 0.894634 0.707107 0.707107 \nC 0.894634 0.51958 1 0.265203 1 0 \nC 1 -0.265203 0.894634 -0.51958 0.707107 -0.707107 \nC 0.51958 -0.894634 0.265203 -1 0 -1 \nC -0.265203 -1 -0.51958 -0.894634 -0.707107 -0.707107 \nC -0.894634 -0.51958 -1 -0.265203 -1 0 \nC -1 0.265203 -0.894634 0.51958 -0.707107 0.707107 \nC -0.51958 0.894634 -0.265203 1 0 1 \nz\n\" style=\"stroke: #ff0000\"/>\n    </defs>\n    <g clip-path=\"url(#p69410514ee)\">\n     <use xlink:href=\"#m26e4ecb3d7\" x=\"61.820727\" y=\"261.216\" style=\"fill: #ff0000; stroke: #ff0000\"/>\n     <use xlink:href=\"#m26e4ecb3d7\" x=\"63.875985\" y=\"228.095883\" style=\"fill: #ff0000; stroke: #ff0000\"/>\n     <use xlink:href=\"#m26e4ecb3d7\" x=\"65.931242\" y=\"201.278648\" style=\"fill: #ff0000; stroke: #ff0000\"/>\n     <use xlink:href=\"#m26e4ecb3d7\" x=\"67.986499\" y=\"197.827815\" style=\"fill: #ff0000; stroke: #ff0000\"/>\n     <use xlink:href=\"#m26e4ecb3d7\" x=\"70.041757\" y=\"203.615853\" style=\"fill: #ff0000; stroke: #ff0000\"/>\n     <use xlink:href=\"#m26e4ecb3d7\" x=\"72.097014\" y=\"230.811139\" style=\"fill: #ff0000; stroke: #ff0000\"/>\n     <use xlink:href=\"#m26e4ecb3d7\" x=\"74.152272\" y=\"249.563706\" style=\"fill: #ff0000; stroke: #ff0000\"/>\n     <use xlink:href=\"#m26e4ecb3d7\" x=\"76.196655\" y=\"193.160796\" style=\"fill: #ff0000; stroke: #ff0000\"/>\n     <use xlink:href=\"#m26e4ecb3d7\" x=\"78.251912\" y=\"197.331636\" style=\"fill: #ff0000; stroke: #ff0000\"/>\n     <use xlink:href=\"#m26e4ecb3d7\" x=\"80.307169\" y=\"182.629517\" style=\"fill: #ff0000; stroke: #ff0000\"/>\n     <use xlink:href=\"#m26e4ecb3d7\" x=\"82.362427\" y=\"236.714386\" style=\"fill: #ff0000; stroke: #ff0000\"/>\n     <use xlink:href=\"#m26e4ecb3d7\" x=\"84.417684\" y=\"261.009485\" style=\"fill: #ff0000; stroke: #ff0000\"/>\n     <use xlink:href=\"#m26e4ecb3d7\" x=\"86.472941\" y=\"206.060279\" style=\"fill: #ff0000; stroke: #ff0000\"/>\n     <use xlink:href=\"#m26e4ecb3d7\" x=\"88.528199\" y=\"225.112431\" style=\"fill: #ff0000; stroke: #ff0000\"/>\n     <use xlink:href=\"#m26e4ecb3d7\" x=\"90.583456\" y=\"204.640104\" style=\"fill: #ff0000; stroke: #ff0000\"/>\n     <use xlink:href=\"#m26e4ecb3d7\" x=\"92.638714\" y=\"212.174641\" style=\"fill: #ff0000; stroke: #ff0000\"/>\n     <use xlink:href=\"#m26e4ecb3d7\" x=\"94.693971\" y=\"185.800611\" style=\"fill: #ff0000; stroke: #ff0000\"/>\n     <use xlink:href=\"#m26e4ecb3d7\" x=\"96.749228\" y=\"213.934739\" style=\"fill: #ff0000; stroke: #ff0000\"/>\n     <use xlink:href=\"#m26e4ecb3d7\" x=\"98.804486\" y=\"192.2584\" style=\"fill: #ff0000; stroke: #ff0000\"/>\n     <use xlink:href=\"#m26e4ecb3d7\" x=\"100.859743\" y=\"184.428302\" style=\"fill: #ff0000; stroke: #ff0000\"/>\n     <use xlink:href=\"#m26e4ecb3d7\" x=\"102.915001\" y=\"169.828176\" style=\"fill: #ff0000; stroke: #ff0000\"/>\n     <use xlink:href=\"#m26e4ecb3d7\" x=\"104.970258\" y=\"186.079444\" style=\"fill: #ff0000; stroke: #ff0000\"/>\n     <use xlink:href=\"#m26e4ecb3d7\" x=\"107.025515\" y=\"223.355237\" style=\"fill: #ff0000; stroke: #ff0000\"/>\n     <use xlink:href=\"#m26e4ecb3d7\" x=\"109.080773\" y=\"231.022508\" style=\"fill: #ff0000; stroke: #ff0000\"/>\n     <use xlink:href=\"#m26e4ecb3d7\" x=\"111.13603\" y=\"179.908053\" style=\"fill: #ff0000; stroke: #ff0000\"/>\n     <use xlink:href=\"#m26e4ecb3d7\" x=\"113.191287\" y=\"194.127839\" style=\"fill: #ff0000; stroke: #ff0000\"/>\n     <use xlink:href=\"#m26e4ecb3d7\" x=\"115.246545\" y=\"130.065079\" style=\"fill: #ff0000; stroke: #ff0000\"/>\n     <use xlink:href=\"#m26e4ecb3d7\" x=\"117.301802\" y=\"201.656126\" style=\"fill: #ff0000; stroke: #ff0000\"/>\n     <use xlink:href=\"#m26e4ecb3d7\" x=\"119.35706\" y=\"137.129255\" style=\"fill: #ff0000; stroke: #ff0000\"/>\n     <use xlink:href=\"#m26e4ecb3d7\" x=\"121.401443\" y=\"170.434277\" style=\"fill: #ff0000; stroke: #ff0000\"/>\n     <use xlink:href=\"#m26e4ecb3d7\" x=\"123.4567\" y=\"189.404623\" style=\"fill: #ff0000; stroke: #ff0000\"/>\n     <use xlink:href=\"#m26e4ecb3d7\" x=\"125.511957\" y=\"186.857143\" style=\"fill: #ff0000; stroke: #ff0000\"/>\n     <use xlink:href=\"#m26e4ecb3d7\" x=\"127.567215\" y=\"194.769737\" style=\"fill: #ff0000; stroke: #ff0000\"/>\n     <use xlink:href=\"#m26e4ecb3d7\" x=\"129.622472\" y=\"152.428359\" style=\"fill: #ff0000; stroke: #ff0000\"/>\n     <use xlink:href=\"#m26e4ecb3d7\" x=\"131.677729\" y=\"201.501929\" style=\"fill: #ff0000; stroke: #ff0000\"/>\n     <use xlink:href=\"#m26e4ecb3d7\" x=\"133.732987\" y=\"214.015149\" style=\"fill: #ff0000; stroke: #ff0000\"/>\n     <use xlink:href=\"#m26e4ecb3d7\" x=\"135.788244\" y=\"206.528773\" style=\"fill: #ff0000; stroke: #ff0000\"/>\n     <use xlink:href=\"#m26e4ecb3d7\" x=\"137.843502\" y=\"173.959251\" style=\"fill: #ff0000; stroke: #ff0000\"/>\n     <use xlink:href=\"#m26e4ecb3d7\" x=\"139.898759\" y=\"172.108139\" style=\"fill: #ff0000; stroke: #ff0000\"/>\n     <use xlink:href=\"#m26e4ecb3d7\" x=\"141.954016\" y=\"197.76802\" style=\"fill: #ff0000; stroke: #ff0000\"/>\n     <use xlink:href=\"#m26e4ecb3d7\" x=\"144.009274\" y=\"146.871995\" style=\"fill: #ff0000; stroke: #ff0000\"/>\n     <use xlink:href=\"#m26e4ecb3d7\" x=\"146.064531\" y=\"158.51474\" style=\"fill: #ff0000; stroke: #ff0000\"/>\n     <use xlink:href=\"#m26e4ecb3d7\" x=\"148.119788\" y=\"131.773699\" style=\"fill: #ff0000; stroke: #ff0000\"/>\n     <use xlink:href=\"#m26e4ecb3d7\" x=\"150.175046\" y=\"190.375825\" style=\"fill: #ff0000; stroke: #ff0000\"/>\n     <use xlink:href=\"#m26e4ecb3d7\" x=\"152.230303\" y=\"172.66382\" style=\"fill: #ff0000; stroke: #ff0000\"/>\n     <use xlink:href=\"#m26e4ecb3d7\" x=\"154.285561\" y=\"194.156542\" style=\"fill: #ff0000; stroke: #ff0000\"/>\n     <use xlink:href=\"#m26e4ecb3d7\" x=\"156.340818\" y=\"151.593636\" style=\"fill: #ff0000; stroke: #ff0000\"/>\n     <use xlink:href=\"#m26e4ecb3d7\" x=\"158.396075\" y=\"139.45794\" style=\"fill: #ff0000; stroke: #ff0000\"/>\n     <use xlink:href=\"#m26e4ecb3d7\" x=\"160.451333\" y=\"176.529868\" style=\"fill: #ff0000; stroke: #ff0000\"/>\n     <use xlink:href=\"#m26e4ecb3d7\" x=\"162.50659\" y=\"191.645243\" style=\"fill: #ff0000; stroke: #ff0000\"/>\n     <use xlink:href=\"#m26e4ecb3d7\" x=\"164.561848\" y=\"143.584538\" style=\"fill: #ff0000; stroke: #ff0000\"/>\n     <use xlink:href=\"#m26e4ecb3d7\" x=\"166.606231\" y=\"139.710888\" style=\"fill: #ff0000; stroke: #ff0000\"/>\n     <use xlink:href=\"#m26e4ecb3d7\" x=\"168.661488\" y=\"165.136567\" style=\"fill: #ff0000; stroke: #ff0000\"/>\n     <use xlink:href=\"#m26e4ecb3d7\" x=\"170.716745\" y=\"154.875383\" style=\"fill: #ff0000; stroke: #ff0000\"/>\n     <use xlink:href=\"#m26e4ecb3d7\" x=\"172.772003\" y=\"177.107028\" style=\"fill: #ff0000; stroke: #ff0000\"/>\n     <use xlink:href=\"#m26e4ecb3d7\" x=\"174.82726\" y=\"148.012149\" style=\"fill: #ff0000; stroke: #ff0000\"/>\n     <use xlink:href=\"#m26e4ecb3d7\" x=\"176.882517\" y=\"148.992143\" style=\"fill: #ff0000; stroke: #ff0000\"/>\n     <use xlink:href=\"#m26e4ecb3d7\" x=\"178.937775\" y=\"148.620385\" style=\"fill: #ff0000; stroke: #ff0000\"/>\n     <use xlink:href=\"#m26e4ecb3d7\" x=\"180.993032\" y=\"138.868543\" style=\"fill: #ff0000; stroke: #ff0000\"/>\n     <use xlink:href=\"#m26e4ecb3d7\" x=\"183.04829\" y=\"139.661693\" style=\"fill: #ff0000; stroke: #ff0000\"/>\n     <use xlink:href=\"#m26e4ecb3d7\" x=\"185.103547\" y=\"129.814816\" style=\"fill: #ff0000; stroke: #ff0000\"/>\n     <use xlink:href=\"#m26e4ecb3d7\" x=\"187.158804\" y=\"135.948463\" style=\"fill: #ff0000; stroke: #ff0000\"/>\n     <use xlink:href=\"#m26e4ecb3d7\" x=\"189.214062\" y=\"140.707437\" style=\"fill: #ff0000; stroke: #ff0000\"/>\n     <use xlink:href=\"#m26e4ecb3d7\" x=\"191.269319\" y=\"160.500692\" style=\"fill: #ff0000; stroke: #ff0000\"/>\n     <use xlink:href=\"#m26e4ecb3d7\" x=\"193.324576\" y=\"180.914808\" style=\"fill: #ff0000; stroke: #ff0000\"/>\n     <use xlink:href=\"#m26e4ecb3d7\" x=\"195.379834\" y=\"143.578104\" style=\"fill: #ff0000; stroke: #ff0000\"/>\n     <use xlink:href=\"#m26e4ecb3d7\" x=\"197.435091\" y=\"130.414395\" style=\"fill: #ff0000; stroke: #ff0000\"/>\n     <use xlink:href=\"#m26e4ecb3d7\" x=\"199.490349\" y=\"108.163881\" style=\"fill: #ff0000; stroke: #ff0000\"/>\n     <use xlink:href=\"#m26e4ecb3d7\" x=\"201.545606\" y=\"131.788526\" style=\"fill: #ff0000; stroke: #ff0000\"/>\n     <use xlink:href=\"#m26e4ecb3d7\" x=\"203.600863\" y=\"116.807634\" style=\"fill: #ff0000; stroke: #ff0000\"/>\n     <use xlink:href=\"#m26e4ecb3d7\" x=\"205.656121\" y=\"149.378627\" style=\"fill: #ff0000; stroke: #ff0000\"/>\n     <use xlink:href=\"#m26e4ecb3d7\" x=\"207.711378\" y=\"100.155414\" style=\"fill: #ff0000; stroke: #ff0000\"/>\n     <use xlink:href=\"#m26e4ecb3d7\" x=\"209.766636\" y=\"134.723153\" style=\"fill: #ff0000; stroke: #ff0000\"/>\n     <use xlink:href=\"#m26e4ecb3d7\" x=\"211.821893\" y=\"139.489268\" style=\"fill: #ff0000; stroke: #ff0000\"/>\n     <use xlink:href=\"#m26e4ecb3d7\" x=\"213.866276\" y=\"169.914522\" style=\"fill: #ff0000; stroke: #ff0000\"/>\n     <use xlink:href=\"#m26e4ecb3d7\" x=\"215.921533\" y=\"125.313601\" style=\"fill: #ff0000; stroke: #ff0000\"/>\n     <use xlink:href=\"#m26e4ecb3d7\" x=\"217.976791\" y=\"164.612162\" style=\"fill: #ff0000; stroke: #ff0000\"/>\n     <use xlink:href=\"#m26e4ecb3d7\" x=\"220.032048\" y=\"114.403941\" style=\"fill: #ff0000; stroke: #ff0000\"/>\n     <use xlink:href=\"#m26e4ecb3d7\" x=\"222.087305\" y=\"103.122402\" style=\"fill: #ff0000; stroke: #ff0000\"/>\n     <use xlink:href=\"#m26e4ecb3d7\" x=\"224.142563\" y=\"106.290881\" style=\"fill: #ff0000; stroke: #ff0000\"/>\n     <use xlink:href=\"#m26e4ecb3d7\" x=\"226.19782\" y=\"154.057703\" style=\"fill: #ff0000; stroke: #ff0000\"/>\n     <use xlink:href=\"#m26e4ecb3d7\" x=\"228.253078\" y=\"119.048125\" style=\"fill: #ff0000; stroke: #ff0000\"/>\n     <use xlink:href=\"#m26e4ecb3d7\" x=\"230.308335\" y=\"91.920102\" style=\"fill: #ff0000; stroke: #ff0000\"/>\n     <use xlink:href=\"#m26e4ecb3d7\" x=\"232.363592\" y=\"144.096303\" style=\"fill: #ff0000; stroke: #ff0000\"/>\n     <use xlink:href=\"#m26e4ecb3d7\" x=\"234.41885\" y=\"138.373916\" style=\"fill: #ff0000; stroke: #ff0000\"/>\n     <use xlink:href=\"#m26e4ecb3d7\" x=\"236.474107\" y=\"128.441411\" style=\"fill: #ff0000; stroke: #ff0000\"/>\n     <use xlink:href=\"#m26e4ecb3d7\" x=\"238.529364\" y=\"123.678853\" style=\"fill: #ff0000; stroke: #ff0000\"/>\n     <use xlink:href=\"#m26e4ecb3d7\" x=\"240.584622\" y=\"118.666686\" style=\"fill: #ff0000; stroke: #ff0000\"/>\n     <use xlink:href=\"#m26e4ecb3d7\" x=\"242.639879\" y=\"119.164818\" style=\"fill: #ff0000; stroke: #ff0000\"/>\n     <use xlink:href=\"#m26e4ecb3d7\" x=\"244.695137\" y=\"123.289344\" style=\"fill: #ff0000; stroke: #ff0000\"/>\n     <use xlink:href=\"#m26e4ecb3d7\" x=\"246.750394\" y=\"149.613715\" style=\"fill: #ff0000; stroke: #ff0000\"/>\n     <use xlink:href=\"#m26e4ecb3d7\" x=\"248.805651\" y=\"143.03482\" style=\"fill: #ff0000; stroke: #ff0000\"/>\n     <use xlink:href=\"#m26e4ecb3d7\" x=\"250.860909\" y=\"104.394639\" style=\"fill: #ff0000; stroke: #ff0000\"/>\n     <use xlink:href=\"#m26e4ecb3d7\" x=\"252.916166\" y=\"127.3817\" style=\"fill: #ff0000; stroke: #ff0000\"/>\n     <use xlink:href=\"#m26e4ecb3d7\" x=\"254.971424\" y=\"107.216361\" style=\"fill: #ff0000; stroke: #ff0000\"/>\n     <use xlink:href=\"#m26e4ecb3d7\" x=\"257.026681\" y=\"105.119338\" style=\"fill: #ff0000; stroke: #ff0000\"/>\n     <use xlink:href=\"#m26e4ecb3d7\" x=\"259.071064\" y=\"105.729077\" style=\"fill: #ff0000; stroke: #ff0000\"/>\n     <use xlink:href=\"#m26e4ecb3d7\" x=\"261.126321\" y=\"127.018216\" style=\"fill: #ff0000; stroke: #ff0000\"/>\n     <use xlink:href=\"#m26e4ecb3d7\" x=\"263.181579\" y=\"85.025218\" style=\"fill: #ff0000; stroke: #ff0000\"/>\n     <use xlink:href=\"#m26e4ecb3d7\" x=\"265.236836\" y=\"115.94348\" style=\"fill: #ff0000; stroke: #ff0000\"/>\n     <use xlink:href=\"#m26e4ecb3d7\" x=\"267.292093\" y=\"84.610758\" style=\"fill: #ff0000; stroke: #ff0000\"/>\n     <use xlink:href=\"#m26e4ecb3d7\" x=\"269.347351\" y=\"78.024919\" style=\"fill: #ff0000; stroke: #ff0000\"/>\n     <use xlink:href=\"#m26e4ecb3d7\" x=\"271.402608\" y=\"100.397183\" style=\"fill: #ff0000; stroke: #ff0000\"/>\n     <use xlink:href=\"#m26e4ecb3d7\" x=\"273.457866\" y=\"111.112471\" style=\"fill: #ff0000; stroke: #ff0000\"/>\n     <use xlink:href=\"#m26e4ecb3d7\" x=\"275.513123\" y=\"91.975824\" style=\"fill: #ff0000; stroke: #ff0000\"/>\n     <use xlink:href=\"#m26e4ecb3d7\" x=\"277.56838\" y=\"87.460422\" style=\"fill: #ff0000; stroke: #ff0000\"/>\n     <use xlink:href=\"#m26e4ecb3d7\" x=\"279.623638\" y=\"106.430836\" style=\"fill: #ff0000; stroke: #ff0000\"/>\n     <use xlink:href=\"#m26e4ecb3d7\" x=\"281.678895\" y=\"82.414541\" style=\"fill: #ff0000; stroke: #ff0000\"/>\n     <use xlink:href=\"#m26e4ecb3d7\" x=\"283.734152\" y=\"112.13294\" style=\"fill: #ff0000; stroke: #ff0000\"/>\n     <use xlink:href=\"#m26e4ecb3d7\" x=\"285.78941\" y=\"90.206267\" style=\"fill: #ff0000; stroke: #ff0000\"/>\n     <use xlink:href=\"#m26e4ecb3d7\" x=\"287.844667\" y=\"109.759537\" style=\"fill: #ff0000; stroke: #ff0000\"/>\n     <use xlink:href=\"#m26e4ecb3d7\" x=\"289.899925\" y=\"79.162607\" style=\"fill: #ff0000; stroke: #ff0000\"/>\n     <use xlink:href=\"#m26e4ecb3d7\" x=\"291.955182\" y=\"112.44371\" style=\"fill: #ff0000; stroke: #ff0000\"/>\n     <use xlink:href=\"#m26e4ecb3d7\" x=\"294.010439\" y=\"86.200294\" style=\"fill: #ff0000; stroke: #ff0000\"/>\n     <use xlink:href=\"#m26e4ecb3d7\" x=\"296.065697\" y=\"122.51262\" style=\"fill: #ff0000; stroke: #ff0000\"/>\n     <use xlink:href=\"#m26e4ecb3d7\" x=\"298.120954\" y=\"42.890608\" style=\"fill: #ff0000; stroke: #ff0000\"/>\n     <use xlink:href=\"#m26e4ecb3d7\" x=\"300.176212\" y=\"56.791895\" style=\"fill: #ff0000; stroke: #ff0000\"/>\n     <use xlink:href=\"#m26e4ecb3d7\" x=\"302.231469\" y=\"57.597065\" style=\"fill: #ff0000; stroke: #ff0000\"/>\n     <use xlink:href=\"#m26e4ecb3d7\" x=\"304.275852\" y=\"77.461205\" style=\"fill: #ff0000; stroke: #ff0000\"/>\n     <use xlink:href=\"#m26e4ecb3d7\" x=\"306.331109\" y=\"91.478503\" style=\"fill: #ff0000; stroke: #ff0000\"/>\n     <use xlink:href=\"#m26e4ecb3d7\" x=\"308.386367\" y=\"74.333986\" style=\"fill: #ff0000; stroke: #ff0000\"/>\n     <use xlink:href=\"#m26e4ecb3d7\" x=\"310.441624\" y=\"68.690281\" style=\"fill: #ff0000; stroke: #ff0000\"/>\n     <use xlink:href=\"#m26e4ecb3d7\" x=\"312.496881\" y=\"75.093411\" style=\"fill: #ff0000; stroke: #ff0000\"/>\n     <use xlink:href=\"#m26e4ecb3d7\" x=\"314.552139\" y=\"45.961579\" style=\"fill: #ff0000; stroke: #ff0000\"/>\n     <use xlink:href=\"#m26e4ecb3d7\" x=\"316.607396\" y=\"63.045118\" style=\"fill: #ff0000; stroke: #ff0000\"/>\n     <use xlink:href=\"#m26e4ecb3d7\" x=\"318.662654\" y=\"86.861885\" style=\"fill: #ff0000; stroke: #ff0000\"/>\n     <use xlink:href=\"#m26e4ecb3d7\" x=\"320.717911\" y=\"33.840733\" style=\"fill: #ff0000; stroke: #ff0000\"/>\n     <use xlink:href=\"#m26e4ecb3d7\" x=\"322.773168\" y=\"69.657244\" style=\"fill: #ff0000; stroke: #ff0000\"/>\n     <use xlink:href=\"#m26e4ecb3d7\" x=\"324.828426\" y=\"49.331459\" style=\"fill: #ff0000; stroke: #ff0000\"/>\n     <use xlink:href=\"#m26e4ecb3d7\" x=\"326.883683\" y=\"66.263227\" style=\"fill: #ff0000; stroke: #ff0000\"/>\n     <use xlink:href=\"#m26e4ecb3d7\" x=\"328.93894\" y=\"70.697222\" style=\"fill: #ff0000; stroke: #ff0000\"/>\n     <use xlink:href=\"#m26e4ecb3d7\" x=\"330.994198\" y=\"81.930336\" style=\"fill: #ff0000; stroke: #ff0000\"/>\n     <use xlink:href=\"#m26e4ecb3d7\" x=\"333.049455\" y=\"80.068617\" style=\"fill: #ff0000; stroke: #ff0000\"/>\n     <use xlink:href=\"#m26e4ecb3d7\" x=\"335.104713\" y=\"63.447581\" style=\"fill: #ff0000; stroke: #ff0000\"/>\n     <use xlink:href=\"#m26e4ecb3d7\" x=\"337.15997\" y=\"52.810658\" style=\"fill: #ff0000; stroke: #ff0000\"/>\n     <use xlink:href=\"#m26e4ecb3d7\" x=\"339.215227\" y=\"36.298463\" style=\"fill: #ff0000; stroke: #ff0000\"/>\n     <use xlink:href=\"#m26e4ecb3d7\" x=\"341.270485\" y=\"60.36231\" style=\"fill: #ff0000; stroke: #ff0000\"/>\n     <use xlink:href=\"#m26e4ecb3d7\" x=\"343.325742\" y=\"78.212157\" style=\"fill: #ff0000; stroke: #ff0000\"/>\n     <use xlink:href=\"#m26e4ecb3d7\" x=\"345.380999\" y=\"73.588026\" style=\"fill: #ff0000; stroke: #ff0000\"/>\n     <use xlink:href=\"#m26e4ecb3d7\" x=\"347.436257\" y=\"88.190873\" style=\"fill: #ff0000; stroke: #ff0000\"/>\n     <use xlink:href=\"#m26e4ecb3d7\" x=\"349.491514\" y=\"110.760596\" style=\"fill: #ff0000; stroke: #ff0000\"/>\n     <use xlink:href=\"#m26e4ecb3d7\" x=\"351.535897\" y=\"50.072515\" style=\"fill: #ff0000; stroke: #ff0000\"/>\n     <use xlink:href=\"#m26e4ecb3d7\" x=\"353.591155\" y=\"60.732269\" style=\"fill: #ff0000; stroke: #ff0000\"/>\n     <use xlink:href=\"#m26e4ecb3d7\" x=\"355.646412\" y=\"39.278941\" style=\"fill: #ff0000; stroke: #ff0000\"/>\n     <use xlink:href=\"#m26e4ecb3d7\" x=\"357.701669\" y=\"55.920912\" style=\"fill: #ff0000; stroke: #ff0000\"/>\n     <use xlink:href=\"#m26e4ecb3d7\" x=\"359.756927\" y=\"73.312977\" style=\"fill: #ff0000; stroke: #ff0000\"/>\n     <use xlink:href=\"#m26e4ecb3d7\" x=\"361.812184\" y=\"83.722566\" style=\"fill: #ff0000; stroke: #ff0000\"/>\n     <use xlink:href=\"#m26e4ecb3d7\" x=\"363.867442\" y=\"83.685935\" style=\"fill: #ff0000; stroke: #ff0000\"/>\n     <use xlink:href=\"#m26e4ecb3d7\" x=\"365.922699\" y=\"51.094949\" style=\"fill: #ff0000; stroke: #ff0000\"/>\n     <use xlink:href=\"#m26e4ecb3d7\" x=\"367.977956\" y=\"76.293554\" style=\"fill: #ff0000; stroke: #ff0000\"/>\n     <use xlink:href=\"#m26e4ecb3d7\" x=\"370.033214\" y=\"57.629787\" style=\"fill: #ff0000; stroke: #ff0000\"/>\n     <use xlink:href=\"#m26e4ecb3d7\" x=\"372.088471\" y=\"69.131624\" style=\"fill: #ff0000; stroke: #ff0000\"/>\n     <use xlink:href=\"#m26e4ecb3d7\" x=\"374.143728\" y=\"76.374462\" style=\"fill: #ff0000; stroke: #ff0000\"/>\n     <use xlink:href=\"#m26e4ecb3d7\" x=\"376.198986\" y=\"53.367609\" style=\"fill: #ff0000; stroke: #ff0000\"/>\n     <use xlink:href=\"#m26e4ecb3d7\" x=\"378.254243\" y=\"51.793596\" style=\"fill: #ff0000; stroke: #ff0000\"/>\n     <use xlink:href=\"#m26e4ecb3d7\" x=\"380.309501\" y=\"75.753179\" style=\"fill: #ff0000; stroke: #ff0000\"/>\n     <use xlink:href=\"#m26e4ecb3d7\" x=\"382.364758\" y=\"77.905586\" style=\"fill: #ff0000; stroke: #ff0000\"/>\n     <use xlink:href=\"#m26e4ecb3d7\" x=\"384.420015\" y=\"67.992944\" style=\"fill: #ff0000; stroke: #ff0000\"/>\n     <use xlink:href=\"#m26e4ecb3d7\" x=\"386.475273\" y=\"19.296\" style=\"fill: #ff0000; stroke: #ff0000\"/>\n    </g>\n   </g>\n   <g id=\"patch_3\">\n    <path d=\"M 45.588 237.549444 \nL 45.588 36.915765 \n\" style=\"fill: none; stroke: #262626; stroke-linejoin: miter; stroke-linecap: square\"/>\n   </g>\n   <g id=\"patch_4\">\n    <path d=\"M 61.820727 273.312 \nL 388.506606 273.312 \n\" style=\"fill: none; stroke: #262626; stroke-linejoin: miter; stroke-linecap: square\"/>\n   </g>\n   <g id=\"legend_1\">\n    <g id=\"line2d_17\">\n     <g>\n      <use xlink:href=\"#m26e4ecb3d7\" x=\"62.308\" y=\"18.726625\" style=\"fill: #ff0000; stroke: #ff0000\"/>\n     </g>\n    </g>\n    <g id=\"text_18\">\n     <!-- Stress-strain data -->\n     <g style=\"fill: #262626\" transform=\"translate(78.148 21.806625) scale(0.088 -0.088)\">\n      <defs>\n       <path id=\"DejaVuSans-53\" d=\"M 3425 4513 \nL 3425 3897 \nQ 3066 4069 2747 4153 \nQ 2428 4238 2131 4238 \nQ 1616 4238 1336 4038 \nQ 1056 3838 1056 3469 \nQ 1056 3159 1242 3001 \nQ 1428 2844 1947 2747 \nL 2328 2669 \nQ 3034 2534 3370 2195 \nQ 3706 1856 3706 1288 \nQ 3706 609 3251 259 \nQ 2797 -91 1919 -91 \nQ 1588 -91 1214 -16 \nQ 841 59 441 206 \nL 441 856 \nQ 825 641 1194 531 \nQ 1563 422 1919 422 \nQ 2459 422 2753 634 \nQ 3047 847 3047 1241 \nQ 3047 1584 2836 1778 \nQ 2625 1972 2144 2069 \nL 1759 2144 \nQ 1053 2284 737 2584 \nQ 422 2884 422 3419 \nQ 422 4038 858 4394 \nQ 1294 4750 2059 4750 \nQ 2388 4750 2728 4690 \nQ 3069 4631 3425 4513 \nz\n\" transform=\"scale(0.015625)\"/>\n       <path id=\"DejaVuSans-2d\" d=\"M 313 2009 \nL 1997 2009 \nL 1997 1497 \nL 313 1497 \nL 313 2009 \nz\n\" transform=\"scale(0.015625)\"/>\n       <path id=\"DejaVuSans-64\" d=\"M 2906 2969 \nL 2906 4863 \nL 3481 4863 \nL 3481 0 \nL 2906 0 \nL 2906 525 \nQ 2725 213 2448 61 \nQ 2172 -91 1784 -91 \nQ 1150 -91 751 415 \nQ 353 922 353 1747 \nQ 353 2572 751 3078 \nQ 1150 3584 1784 3584 \nQ 2172 3584 2448 3432 \nQ 2725 3281 2906 2969 \nz\nM 947 1747 \nQ 947 1113 1208 752 \nQ 1469 391 1925 391 \nQ 2381 391 2643 752 \nQ 2906 1113 2906 1747 \nQ 2906 2381 2643 2742 \nQ 2381 3103 1925 3103 \nQ 1469 3103 1208 2742 \nQ 947 2381 947 1747 \nz\n\" transform=\"scale(0.015625)\"/>\n      </defs>\n      <use xlink:href=\"#DejaVuSans-53\"/>\n      <use xlink:href=\"#DejaVuSans-74\" transform=\"translate(63.476562 0)\"/>\n      <use xlink:href=\"#DejaVuSans-72\" transform=\"translate(102.685547 0)\"/>\n      <use xlink:href=\"#DejaVuSans-65\" transform=\"translate(141.548828 0)\"/>\n      <use xlink:href=\"#DejaVuSans-73\" transform=\"translate(203.072266 0)\"/>\n      <use xlink:href=\"#DejaVuSans-73\" transform=\"translate(255.171875 0)\"/>\n      <use xlink:href=\"#DejaVuSans-2d\" transform=\"translate(307.271484 0)\"/>\n      <use xlink:href=\"#DejaVuSans-73\" transform=\"translate(343.355469 0)\"/>\n      <use xlink:href=\"#DejaVuSans-74\" transform=\"translate(395.455078 0)\"/>\n      <use xlink:href=\"#DejaVuSans-72\" transform=\"translate(434.664062 0)\"/>\n      <use xlink:href=\"#DejaVuSans-61\" transform=\"translate(475.777344 0)\"/>\n      <use xlink:href=\"#DejaVuSans-69\" transform=\"translate(537.056641 0)\"/>\n      <use xlink:href=\"#DejaVuSans-6e\" transform=\"translate(564.839844 0)\"/>\n      <use xlink:href=\"#DejaVuSans-20\" transform=\"translate(628.21875 0)\"/>\n      <use xlink:href=\"#DejaVuSans-64\" transform=\"translate(660.005859 0)\"/>\n      <use xlink:href=\"#DejaVuSans-61\" transform=\"translate(723.482422 0)\"/>\n      <use xlink:href=\"#DejaVuSans-74\" transform=\"translate(784.761719 0)\"/>\n      <use xlink:href=\"#DejaVuSans-61\" transform=\"translate(823.970703 0)\"/>\n     </g>\n    </g>\n   </g>\n  </g>\n </g>\n <defs>\n  <clipPath id=\"p69410514ee\">\n   <rect x=\"45.588\" y=\"7.2\" width=\"357.12\" height=\"266.112\"/>\n  </clipPath>\n </defs>\n</svg>\n"
          },
          "metadata": {}
        }
      ],
      "source": [
        "# The point at which the stress-strain curve stops being linear\n",
        "epsilon_l = 0.04\n",
        "# Relevant data (this is nice way to get the linear part of the stresses and straints)\n",
        "x_rel = x[x < 0.04]\n",
        "y_rel = y[x < 0.04]\n",
        "\n",
        "# Visualize to make sure you have the right data\n",
        "plt.figure()\n",
        "plt.plot(\n",
        "    x_rel,\n",
        "    y_rel,\n",
        "    'ro',\n",
        "    markersize=2,\n",
        "    label='Stress-strain data'\n",
        ")\n",
        "plt.xlabel('$\\epsilon$ (strain in %)')\n",
        "plt.ylabel('$\\sigma$ (stress in MPa)')\n",
        "plt.legend(loc='best', frameon=False)\n",
        "sns.despine(trim=True);"
      ]
    },
    {
      "cell_type": "markdown",
      "metadata": {
        "id": "3X0vyufErNhK"
      },
      "source": [
        "Split your data into training and validation.\n",
        "\n",
        "**Hint:** You may use [sklearn.model_selection.train_test_split](https://scikit-learn.org/stable/modules/generated/sklearn.model_selection.train_test_split.html) if you wish."
      ]
    },
    {
      "cell_type": "code",
      "execution_count": null,
      "metadata": {
        "id": "ug5fnFq7rNhK"
      },
      "outputs": [],
      "source": [
        "# Split the data into training and validation datasets\n",
        "# Hint: Consult the lecture notes\n",
        "x_train, y_train, x_valid, y_valid = # Your code"
      ]
    },
    {
      "cell_type": "markdown",
      "metadata": {
        "id": "w9KQRqfBrNhK"
      },
      "source": [
        "Use the following to visualize your split:"
      ]
    },
    {
      "cell_type": "code",
      "execution_count": null,
      "metadata": {
        "id": "Os-IldjHrNhK"
      },
      "outputs": [],
      "source": [
        "plt.figure()\n",
        "plt.plot(\n",
        "    x_train,\n",
        "    y_train,\n",
        "    'ro',\n",
        "    markersize=2,\n",
        "    label='Training data'\n",
        ")\n",
        "plt.plot(\n",
        "    x_valid,\n",
        "    y_valid,\n",
        "    'bx',\n",
        "    markersize=2,\n",
        "    label='Validation data'\n",
        ")\n",
        "plt.xlabel('$\\epsilon$ (strain in %)')\n",
        "plt.ylabel('$\\sigma$ (stress in MPa)')\n",
        "plt.legend(loc='best', frameon=False)\n",
        "sns.despine(trim=True);"
      ]
    },
    {
      "cell_type": "markdown",
      "metadata": {
        "id": "S6x_EHzIrNhL"
      },
      "source": [
        "### Subpart A.II\n",
        "Perform Bayesian linear regression with the evidence approximation to estimate the noise variance and the hyperparameters of the prior."
      ]
    },
    {
      "cell_type": "code",
      "execution_count": null,
      "metadata": {
        "id": "q4urvq1JrNhL"
      },
      "outputs": [],
      "source": [
        "# Your code here"
      ]
    },
    {
      "cell_type": "markdown",
      "metadata": {
        "id": "Do8AYXCqrNhL"
      },
      "source": [
        "### Subpart A.III\n",
        "Calculate the mean square error of the validation data."
      ]
    },
    {
      "cell_type": "code",
      "execution_count": null,
      "metadata": {
        "id": "eki01I3qrNhL"
      },
      "outputs": [],
      "source": [
        "# your code here"
      ]
    },
    {
      "cell_type": "markdown",
      "metadata": {
        "id": "1ZYJP5R9rNhL"
      },
      "source": [
        "### Subpart A.IV\n",
        "Make the observations vs predictions plot for the validation data."
      ]
    },
    {
      "cell_type": "code",
      "execution_count": null,
      "metadata": {
        "id": "9e9aTjkIrNhL"
      },
      "outputs": [],
      "source": [
        "# your code here"
      ]
    },
    {
      "cell_type": "markdown",
      "metadata": {
        "id": "M69NGMGerNhL"
      },
      "source": [
        "### Subpart A.V\n",
        "Compute and plot the standardized errors for the validation data."
      ]
    },
    {
      "cell_type": "code",
      "execution_count": null,
      "metadata": {
        "id": "lzvUSZmarNhL"
      },
      "outputs": [],
      "source": [
        "# your code here"
      ]
    },
    {
      "cell_type": "markdown",
      "metadata": {
        "id": "l7v7YvOcrNhL"
      },
      "source": [
        "### Subpart A.VI\n",
        "Make the quantile-quantile plot of the standardized errors."
      ]
    },
    {
      "cell_type": "code",
      "execution_count": null,
      "metadata": {
        "id": "AARz8ZLCrNhL"
      },
      "outputs": [],
      "source": [
        "# your code here"
      ]
    },
    {
      "cell_type": "markdown",
      "metadata": {
        "id": "e2AcLbm4rNhL"
      },
      "source": [
        "### Subpart A.VII\n",
        "Visualize your epistemic and the aleatory uncertainty about the stress-strain curve in the elastic regime."
      ]
    },
    {
      "cell_type": "code",
      "execution_count": null,
      "metadata": {
        "id": "0ilg9vJxrNhL"
      },
      "outputs": [],
      "source": [
        "# your code here"
      ]
    },
    {
      "cell_type": "markdown",
      "metadata": {
        "id": "OWSShh0zrNhL"
      },
      "source": [
        "### Subpart A. VIII\n",
        "Visualize the posterior of the Young modulus E conditioned on the data."
      ]
    },
    {
      "cell_type": "code",
      "execution_count": null,
      "metadata": {
        "id": "RK48AmrvrNhL"
      },
      "outputs": [],
      "source": [
        "# your code here"
      ]
    },
    {
      "cell_type": "markdown",
      "metadata": {
        "id": "tyobdU5PrNhL"
      },
      "source": [
        "### Subpart A.IX\n",
        "Take five samples of stress-strain curve in the elastic regime and visualize them."
      ]
    },
    {
      "cell_type": "code",
      "execution_count": null,
      "metadata": {
        "id": "D71ofHrnrNhL"
      },
      "outputs": [],
      "source": [
        "# your code here"
      ]
    },
    {
      "cell_type": "markdown",
      "metadata": {
        "id": "S22evziKrNhL"
      },
      "source": [
        "### Subpart A.X\n",
        "\n",
        "Find the 95% centered credible interval for the Young modulus $E$."
      ]
    },
    {
      "cell_type": "code",
      "execution_count": null,
      "metadata": {
        "id": "v221ss1prNhL"
      },
      "outputs": [],
      "source": [
        "# your code here"
      ]
    },
    {
      "cell_type": "markdown",
      "metadata": {
        "id": "-gxfO1SHrNhL"
      },
      "source": [
        "### Subpart A.XI\n",
        "If you had to pick a single value for the Young modulus $E$, what would it be and why?"
      ]
    },
    {
      "cell_type": "code",
      "execution_count": null,
      "metadata": {
        "id": "CRjLkHgRrNhL"
      },
      "outputs": [],
      "source": [
        "# your code here"
      ]
    },
    {
      "cell_type": "markdown",
      "metadata": {
        "id": "pFBOOQ8WrNhL"
      },
      "source": [
        "*Your answer here*"
      ]
    },
    {
      "cell_type": "markdown",
      "metadata": {
        "id": "4YPObulyrNhL"
      },
      "source": [
        "## Part B - Estimate the ultimate strength\n",
        "\n",
        "The pick of the stress-strain curve is known as the ultimate strength.\n",
        "We want to estimate it.\n",
        "\n",
        "### Subpart B.I - Extract training and validation data\n",
        "\n",
        "Extract training and validation data from the entire dataset."
      ]
    },
    {
      "cell_type": "code",
      "execution_count": null,
      "metadata": {
        "id": "NWyH4joFrNhT"
      },
      "outputs": [],
      "source": [
        "# your code here - Repeat as many text and code blocks as you like\n",
        "x_train, y_train, x_valid, y_valid = # Your code"
      ]
    },
    {
      "cell_type": "markdown",
      "metadata": {
        "id": "H1-MLI3frNhT"
      },
      "source": [
        "Use the following to visualize your split:"
      ]
    },
    {
      "cell_type": "code",
      "execution_count": null,
      "metadata": {
        "id": "cqtOV68trNhT"
      },
      "outputs": [],
      "source": [
        "plt.figure()\n",
        "plt.plot(\n",
        "    x_train,\n",
        "    y_train,\n",
        "    'ro',\n",
        "    markersize=2,\n",
        "    label='Training data'\n",
        ")\n",
        "plt.plot(\n",
        "    x_valid,\n",
        "    y_valid,\n",
        "    'bx',\n",
        "    markersize=2,\n",
        "    label='Validation data'\n",
        ")\n",
        "plt.xlabel('$\\epsilon$ (strain in %)')\n",
        "plt.ylabel('$\\sigma$ (stress in MPa)')\n",
        "plt.legend(loc='best', frameon=False)\n",
        "sns.despine(trim=True);"
      ]
    },
    {
      "cell_type": "markdown",
      "metadata": {
        "id": "qcQFlTLbrNhT"
      },
      "source": [
        "### Subpart B.II - Model the entire stress-strain relationship.\n",
        "To do this, we will set up a generalized linear model to capture the entire stress-strain relationship.\n",
        "Remember, you can use any model you want as soon as:\n",
        "+ It is linear in the parameters to be estimated,\n",
        "+ It has a well-defined elastic regime (see Part A).\n",
        "\n",
        "I am going to help you set up the right model.\n",
        "We will use the [Heavide step function](https://en.wikipedia.org/wiki/Heaviside_step_function) to turn on or off models for various ranges of $\\epsilon$. The idea is quite simple: We will use a linear model for the elastic regime, and we are going to turn to a non-linear model for the non-linear regime.\n",
        "Here is a model that has the right form in the elastic regime and an arbitrary form in the non-linear regime:\n",
        "\n",
        "$$\n",
        "f(\\epsilon;E,\\mathbf{w}_g) = E\\epsilon \\left[(1 - H(\\epsilon - \\epsilon_l)\\right] + g(\\epsilon;\\mathbf{w}_g)H(\\epsilon - \\epsilon_l),\n",
        "$$\n",
        "\n",
        "where\n",
        "\n",
        "$$\n",
        "H(x) = \\begin{cases}\n",
        "0,\\;\\text{if}\\;x < 0\\\\\n",
        "1,\\;\\text{otherwise},\n",
        "\\end{cases}\n",
        "$$\n",
        "\n",
        "and $g$ is any function linear in the parameters $\\mathbf{w}_g$."
      ]
    },
    {
      "cell_type": "markdown",
      "metadata": {
        "id": "3w-OVjFArNhT"
      },
      "source": [
        "You can use any model you like for the non-linear regime, but let's use a polynomial of degree $d$:\n",
        "\n",
        "$$\n",
        "g(\\epsilon) = \\sum_{i=0}^{d} w_i \\epsilon^i.\n",
        "$$\n",
        "\n",
        "The full model can be expressed as:\n",
        "\n",
        "$$\n",
        "\\begin{split}\n",
        "f(\\epsilon) &=\n",
        "\\begin{cases}\n",
        "h(\\epsilon) = E \\epsilon,\\ \\epsilon < \\epsilon_l, \\\\\n",
        "g(\\epsilon) = \\sum_{i=0}^{d} w_i \\epsilon^i, \\epsilon \\geq \\epsilon_l\n",
        "\\end{cases}\\\\\n",
        "&= E\\epsilon \\left(1 - H(\\epsilon - \\epsilon_l)\\right) + \\sum_{i=0}^{d} w_i \\epsilon^iH(\\epsilon - \\epsilon_l).\n",
        "\\end{split}\n",
        "$$\n",
        "\n",
        "We could proceed with this model, but there is a small problem: It is discontinuous at $\\epsilon = \\epsilon_l$.\n",
        "This is unphysical. We can do better than that!"
      ]
    },
    {
      "cell_type": "markdown",
      "metadata": {
        "id": "2pXnTksHrNhT"
      },
      "source": [
        "To make the model nice, we force the $h$ and $g$ to match up to the first derivative, i.e., we demand that:\n",
        "\n",
        "$$\n",
        "\\begin{split}\n",
        "h(\\epsilon_l) &= g(\\epsilon_l)\\\\\n",
        "h'(\\epsilon_l) &= g'(\\epsilon_l).\n",
        "\\end{split}\n",
        "$$\n",
        "\n",
        "We include the first derivative because we don't have a kink in the stress-strain. That would also be unphysical.\n",
        "The two equations above become:\n",
        "\n",
        "$$\n",
        "\\begin{split}\n",
        "E\\epsilon_l &= \\sum_{i=0}^dw_i\\epsilon_l^i\\\\\n",
        "E &= \\sum_{i=1}^diw_i\\epsilon_l^{i-1}.\n",
        "\\end{split}\n",
        "$$\n",
        "\n",
        "We can use these two equations to eliminate two weights.\n",
        "Let's eliminate $w_0$ and $w_1$.\n",
        "All you have to do is express them in terms of $E$ and $w_2,\\dots,w_d$.\n",
        "So, there remain $d$ parameters to estimate.\n",
        "Let's get back to the stress-strain model."
      ]
    },
    {
      "cell_type": "markdown",
      "metadata": {
        "id": "ZVhSzlr-rNhU"
      },
      "source": [
        "Our stress-strain model was:\n",
        "\n",
        "$$\n",
        "f(\\epsilon) = E\\epsilon \\left(1 - H(\\epsilon - \\epsilon_l)\\right) + \\sum_{i=0}^{d} w_i \\epsilon^iH(\\epsilon - \\epsilon_l).\n",
        "$$\n",
        "\n",
        "We can now use the expressions for $w_0$ and $w_1$ to rewrite this using only all the other\n",
        "parameters.\n",
        "I am going to spare you the details.\n",
        "The result is:\n",
        "\n",
        "$$\n",
        "f(\\epsilon) = E\\epsilon + \\sum_{i=2}^dw_i\\left[(i-1)\\epsilon_{l}^{i} - i \\epsilon \\epsilon_{l}^{i-1} + \\epsilon^i\\right]H(\\epsilon - \\epsilon_l).\n",
        "$$\n",
        "\n",
        "Okay.\n",
        "This is still a generalized linear model. This is nice.\n",
        "Write code for the design matrix:"
      ]
    },
    {
      "cell_type": "code",
      "execution_count": null,
      "metadata": {
        "id": "VgZKHF2PrNhU"
      },
      "outputs": [],
      "source": [
        "# Complete this code to make your model:\n",
        "def compute_design_matrix(Epsilon, epsilon_l, d):\n",
        "    \"\"\"Compute the design matrix for the stress-strain curve problem.\n",
        "\n",
        "    Arguments:\n",
        "        Epsilon     -     A 1D array of dimension N.\n",
        "        epsilon_l   -     The strain signifying the end of the elastic regime.\n",
        "        d           -     The polynomial degree.\n",
        "\n",
        "    Returns:\n",
        "        A design matrix N x d\n",
        "    \"\"\"\n",
        "    # Sanity check\n",
        "    assert isinstance(Epsilon, np.ndarray)\n",
        "    assert Epsilon.ndim == 1, 'Pass the array as epsilon.flatten(), if it is two dimensional'\n",
        "    n = Epsilon.shape[0]\n",
        "    # The design matrix:\n",
        "    Phi = np.ndarray((n, d))\n",
        "    # The step function evaluated at all the elements of Epsilon.\n",
        "    # You can use it if you want.\n",
        "    Step = np.ones(n)\n",
        "    Step[Epsilon < epsilon_l] = 0\n",
        "    # Build the design matrix\n",
        "    Phi[:, 0] = # Your code here\n",
        "    for i in range(2, d+1):\n",
        "        Phi[:, i-1] = # Your code here\n",
        "    return Phi"
      ]
    },
    {
      "cell_type": "markdown",
      "metadata": {
        "id": "zAOEqKz3rNhU"
      },
      "source": [
        "Visualize the basis functions here:"
      ]
    },
    {
      "cell_type": "code",
      "execution_count": null,
      "metadata": {
        "id": "vVIqMwH1rNhU"
      },
      "outputs": [],
      "source": [
        "d = 4\n",
        "eps = np.linspace(0, x.max(), 100)\n",
        "Phis = compute_design_matrix(eps, epsilon_l, d)\n",
        "fig, ax = plt.subplots(dpi=100)\n",
        "ax.plot(eps, Phis)\n",
        "ax.set_xlabel('$\\epsilon$ (strain in %))')\n",
        "ax.set_ylabel('$\\phi_i(\\epsilon)$')\n",
        "sns.despine(trim=True);"
      ]
    },
    {
      "cell_type": "markdown",
      "metadata": {
        "id": "g1nKD6BWrNhU"
      },
      "source": [
        "### Subpart B.III\n",
        "\n",
        "Fit the model using automatic relevance determination and demonstrate that it works well by doing everything we did above (MSE, observations vs. predictions plot, standardized errors, etc.)."
      ]
    },
    {
      "cell_type": "code",
      "execution_count": null,
      "metadata": {
        "id": "opGDpus0rNhU"
      },
      "outputs": [],
      "source": [
        "# Your code here - Use as many blocks as you need!\n",
        "model = # Just call the resulting model \"model\""
      ]
    },
    {
      "cell_type": "markdown",
      "metadata": {
        "id": "U6wYu_HyrNhU"
      },
      "source": [
        "### Subpart B.IV\n",
        "Visualize the epistemic and aleatory uncertainty in the stess-strain relation."
      ]
    },
    {
      "cell_type": "code",
      "execution_count": null,
      "metadata": {
        "id": "VhAFE-cArNhU"
      },
      "outputs": [],
      "source": [
        "# Your code here"
      ]
    },
    {
      "cell_type": "markdown",
      "metadata": {
        "id": "OoYS7z4drNhU"
      },
      "source": [
        "### Subpart B.V - Extract the ultimate strength\n",
        "\n",
        "Now, you will quantify your epistemic uncertainty about the ultimate strength.\n",
        "The ultimate strength is the maximum of the stress-strain relationship.\n",
        "Since you have epistemic uncertainty about the stress-strain relationship, you also have epistemic uncertainty about the ultimate strength.\n",
        "\n",
        "Do the following:\n",
        "- Visualize the posterior of the ultimate strength.\n",
        "- Find a 95% credible interval for the ultimate strength.\n",
        "- Pick a value for the ultimate strength.\n",
        "\n",
        "**Hint:**\n",
        "To characterize your epistemic uncertainty about the ultimate strength, you would have to do the following:\n",
        "- Define a dense set of strain points between 0 and 0.25.\n",
        "- Repeatedly:\n",
        " + Sample from the posterior of the weights of your model\n",
        " + For each sample, evaluate the stresses at the dense set of strain points defined earlier\n",
        " + For each sampled stress vector, find the maximum. This is a sample of the ultimate strength."
      ]
    },
    {
      "cell_type": "code",
      "execution_count": null,
      "metadata": {
        "id": "V-Ro2bqLrNhU"
      },
      "outputs": [],
      "source": [
        "# Enter your code here"
      ]
    },
    {
      "cell_type": "markdown",
      "metadata": {
        "id": "5t2c5e3brNhU"
      },
      "source": [
        "# Problem 2 - Optimizing the performance of a compressor\n",
        "\n",
        "In this problem, we will need [this](https://raw.githubusercontent.com/PredictiveScienceLab/data-analytics-se/master/homework/compressor_data.xlsx) dataset. The dataset was kindly provided to us by [Professor Davide Ziviani](https://scholar.google.com/citations?user=gPdAtg0AAAAJ&hl=en).\n",
        "As before, you can either put it on your Google Drive or just download it with the code segment below:"
      ]
    },
    {
      "cell_type": "code",
      "execution_count": null,
      "metadata": {
        "id": "TcEMYJlLrNhU"
      },
      "outputs": [],
      "source": [
        "url = \"https://github.com/PredictiveScienceLab/data-analytics-se/raw/master/lecturebook/data/compressor_data.xlsx\"\n",
        "download(url)"
      ]
    },
    {
      "cell_type": "markdown",
      "metadata": {
        "id": "UulgVR6BrNhU"
      },
      "source": [
        "Note that this is an Excel file, so we need pandas to read it.\n",
        "Here is how:"
      ]
    },
    {
      "cell_type": "code",
      "execution_count": null,
      "metadata": {
        "id": "weW3XS1FrNhU"
      },
      "outputs": [],
      "source": [
        "import pandas as pd\n",
        "data = pd.read_excel('compressor_data.xlsx')\n",
        "data"
      ]
    },
    {
      "cell_type": "markdown",
      "metadata": {
        "id": "vBv4ot-ZrNhU"
      },
      "source": [
        "The data are part of an experimental study of a variable-speed reciprocating compressor.\n",
        "The experimentalists varied two temperatures, $T_e$ and $T_c$ (both in C), and they measured various other quantities.\n",
        "We aim to learn the map between $T_e$ and $T_c$ and measure Capacity and Power (both in W).\n",
        "First, let's see how you can extract only the relevant data."
      ]
    },
    {
      "cell_type": "code",
      "execution_count": null,
      "metadata": {
        "id": "0rjquZvJrNhU"
      },
      "outputs": [],
      "source": [
        "# Here is how to extract the T_e and T_c columns and put them in a single numpy array\n",
        "x = data[['T_e','T_c']].values\n",
        "x"
      ]
    },
    {
      "cell_type": "code",
      "execution_count": null,
      "metadata": {
        "id": "Rm3aOgvMrNhU"
      },
      "outputs": [],
      "source": [
        "# Here is how to extract the Capacity\n",
        "y = data['Capacity'].values\n",
        "y"
      ]
    },
    {
      "cell_type": "markdown",
      "metadata": {
        "id": "ICKD9AzCrNhU"
      },
      "source": [
        "Fit the following multivariate polynomial model to **both the Capacity and the Power**:\n",
        "\n",
        "$$\n",
        "y = w_1 + w_2T_e + w_3 T_c + w_4 T_eT_c + w_5 T_e^2 + w_6T_c^2 + w_7 T_e^2T_c + w_8T_eT_c^2 + w_9 T_e^3 + w_{10}T_c^3 + \\epsilon,\n",
        "$$\n",
        "\n",
        "where $\\epsilon$ is a Gaussian noise term with unknown variance.\n",
        "\n",
        "**Hints:**\n",
        "+ You may use [sklearn.preprocessing.PolynomialFeatures](https://scikit-learn.org/stable/modules/generated/sklearn.preprocessing.PolynomialFeatures.html) to construct the design matrix of your polynomial features. Do not program the design matrix by hand.\n",
        "+ You should split your data into training and validation and use various validation metrics to ensure your models make sense.\n",
        "+ Use [ARD Regression](https://scikit-learn.org/stable/modules/generated/sklearn.linear_model.ARDRegression.html#sklearn.linear_model.ARDRegression) to fit any hyperparameters and the noise."
      ]
    },
    {
      "cell_type": "markdown",
      "metadata": {
        "id": "xPnuc5GirNhU"
      },
      "source": [
        "## Part A - Fit the capacity\n",
        "\n",
        "### Subpart A.I\n",
        "\n",
        "Please don't just fit. Split in training and test and use all the usual diagnostics."
      ]
    },
    {
      "cell_type": "code",
      "execution_count": null,
      "metadata": {
        "id": "sEoyc_tMrNhU"
      },
      "outputs": [],
      "source": [
        "# your code here - Repeat as many text and code blocks as you like"
      ]
    },
    {
      "cell_type": "markdown",
      "metadata": {
        "id": "HPbNaIMHrNhV"
      },
      "source": [
        "### Subpart A.II\n",
        "\n",
        "What is the noise variance you estimated for the Capacity?"
      ]
    },
    {
      "cell_type": "code",
      "execution_count": null,
      "metadata": {
        "id": "kw86jQ4NrNhV"
      },
      "outputs": [],
      "source": [
        "# your code here"
      ]
    },
    {
      "cell_type": "markdown",
      "metadata": {
        "id": "7zdKMjm7rNhV"
      },
      "source": [
        "### Subpart A.III\n",
        "Which features of the temperatures (basis functions of your model) are the most important for predicting the Capacity?"
      ]
    },
    {
      "cell_type": "code",
      "execution_count": null,
      "metadata": {
        "id": "b1Fo2QMUrNhV"
      },
      "outputs": [],
      "source": [
        "# your code here"
      ]
    },
    {
      "cell_type": "markdown",
      "metadata": {
        "id": "k7n1Q93xrNhV"
      },
      "source": [
        "## Part B - Fit the Power\n",
        "\n",
        "### Subpart B.I\n",
        "\n",
        "Please don't just fit. Split in training and test and use all the usual diagnostics."
      ]
    },
    {
      "cell_type": "code",
      "execution_count": null,
      "metadata": {
        "id": "sLacT2SyrNhV"
      },
      "outputs": [],
      "source": [
        "# your code here - Repeat as many text and code blocks as you like"
      ]
    },
    {
      "cell_type": "markdown",
      "metadata": {
        "id": "o3KUp0xsrNhV"
      },
      "source": [
        "### Subpart B.II\n",
        "\n",
        "What is the noise variance you estimated for the Power?"
      ]
    },
    {
      "cell_type": "code",
      "execution_count": null,
      "metadata": {
        "id": "jZQeajxNrNhV"
      },
      "outputs": [],
      "source": [
        "# your code here"
      ]
    },
    {
      "cell_type": "markdown",
      "metadata": {
        "id": "XaJo6LT_rNhV"
      },
      "source": [
        "### Subpart B.III\n",
        "Which features of the temperatures (basis functions of your model) are the most important for predicting the Power?"
      ]
    },
    {
      "cell_type": "code",
      "execution_count": null,
      "metadata": {
        "id": "davcwcierNhV"
      },
      "outputs": [],
      "source": [
        "# your code here"
      ]
    },
    {
      "cell_type": "markdown",
      "metadata": {
        "id": "2mxXzlo3rNhV"
      },
      "source": [
        "# Problem 3 - Explaining the Challenger disaster\n",
        "On January 28, 1986, the [Space Shuttle Challenger](https://en.wikipedia.org/wiki/Space_Shuttle_Challenger_disaster) disintegrated after 73 seconds from launch.\n",
        "The failure can be traced to the rubber O-rings, which were used to seal the joints of the solid rocket boosters (required to force the hot, high-pressure gases generated by the burning solid propellant through the nozzles, thus producing thrust).\n",
        "\n",
        "The performance of the O-ring material was sensitive to the external temperature during launch.\n",
        "This [dataset](https://raw.githubusercontent.com/PredictiveScienceLab/data-analytics-se/master/homework/challenger_data.csv) contains records of different experiments with O-rings recorded at various times between 1981 and 1986.\n",
        "Download the data the usual way (either put them on Google Drive or run the code cell below)."
      ]
    },
    {
      "cell_type": "code",
      "execution_count": null,
      "metadata": {
        "id": "6ubKbEf0rNhV"
      },
      "outputs": [],
      "source": [
        "url = \"https://github.com/PredictiveScienceLab/data-analytics-se/raw/master/lecturebook/data/challenger_data.csv\"\n",
        "download(url)"
      ]
    },
    {
      "cell_type": "markdown",
      "metadata": {
        "id": "5V0tqLJBrNhV"
      },
      "source": [
        "Even though this is a CSV file, you should load it with pandas because it contains some special characters."
      ]
    },
    {
      "cell_type": "code",
      "execution_count": null,
      "metadata": {
        "id": "MyYN852orNhV"
      },
      "outputs": [],
      "source": [
        "raw_data = pd.read_csv('challenger_data.csv')\n",
        "raw_data"
      ]
    },
    {
      "cell_type": "markdown",
      "metadata": {
        "id": "72GNha7nrNhV"
      },
      "source": [
        "The first column is the date of the record. The second column is the external temperature of that day in degrees F.\n",
        "The third column labeled ``Damage Incident`` has a binary coding (0=no damage, 1=damage).\n",
        "The very last row is the day of the Challenger accident.\n",
        "\n",
        "We will use the first 23 rows to solve a binary classification problem that will give us the probability of an accident conditioned on the observed external temperature in degrees F. Before proceeding to the data analysis, let's clean the data up.\n",
        "\n",
        "First, we drop all the bad records:"
      ]
    },
    {
      "cell_type": "code",
      "execution_count": null,
      "metadata": {
        "id": "cWhXLjbwrNhV"
      },
      "outputs": [],
      "source": [
        "clean_data_0 = raw_data.dropna()\n",
        "clean_data_0"
      ]
    },
    {
      "cell_type": "markdown",
      "metadata": {
        "id": "n9_nHqE3rNhV"
      },
      "source": [
        "We also don't need the last record. Remember that the temperature on the day of the Challenger accident was 31 degrees F."
      ]
    },
    {
      "cell_type": "code",
      "execution_count": null,
      "metadata": {
        "id": "--p5PmcfrNhV"
      },
      "outputs": [],
      "source": [
        "clean_data = clean_data_0[:-1]\n",
        "clean_data"
      ]
    },
    {
      "cell_type": "markdown",
      "metadata": {
        "id": "8QQpIEQ6rNhV"
      },
      "source": [
        "Let's extract the features and the labels:"
      ]
    },
    {
      "cell_type": "code",
      "execution_count": null,
      "metadata": {
        "id": "4zDkUnZsrNhV"
      },
      "outputs": [],
      "source": [
        "x = clean_data['Temperature'].values\n",
        "x"
      ]
    },
    {
      "cell_type": "code",
      "execution_count": null,
      "metadata": {
        "id": "Ww1M1H5BrNhV"
      },
      "outputs": [],
      "source": [
        "y = clean_data['Damage Incident'].values.astype(np.float)\n",
        "y"
      ]
    },
    {
      "cell_type": "markdown",
      "metadata": {
        "id": "K8UBE3UHrNhW"
      },
      "source": [
        "## Part A - Perform logistic regression\n",
        "\n",
        "Perform logistic regression between the temperature ($x$) and the damage label ($y$).\n",
        "Refrain from validating because there is little data.\n",
        "Just use a simple model so that you don't overfit."
      ]
    },
    {
      "cell_type": "code",
      "execution_count": null,
      "metadata": {
        "id": "wZM4y__8rNhW"
      },
      "outputs": [],
      "source": [
        "# your code here - Repeat as many text and code blocks as you like"
      ]
    },
    {
      "cell_type": "markdown",
      "metadata": {
        "id": "jAJJCGi5rNhW"
      },
      "source": [
        "## Part B - Plot the probability of damage as a function of temperature\n",
        "Plot the probability of damage as a function of temperature."
      ]
    },
    {
      "cell_type": "code",
      "execution_count": null,
      "metadata": {
        "id": "NY-UmIJtrNhW"
      },
      "outputs": [],
      "source": [
        "# your code here"
      ]
    },
    {
      "cell_type": "markdown",
      "metadata": {
        "id": "ZIK4yD98rNhW"
      },
      "source": [
        "## Part C - Decide whether or not to launch\n",
        "\n",
        "The temperature on the day of the Challenger accident was 31 degrees F.\n",
        "Start by calculating the probability of damage at 31 degrees F.\n",
        "Then, use formal decision-making (i.e., define a cost matrix and make decisions by minimizing the expected loss) to decide whether or not to launch on that day.\n",
        "Also, plot your optimal decision as a function of the external temperature."
      ]
    },
    {
      "cell_type": "code",
      "execution_count": null,
      "metadata": {
        "id": "V1xRhNEOrNhW"
      },
      "outputs": [],
      "source": [
        "# your code here - Repeat as many text and code blocks as you like"
      ]
    }
  ],
  "metadata": {
    "anaconda-cloud": {},
    "celltoolbar": "Tags",
    "kernelspec": {
      "display_name": "Python 3 (ipykernel)",
      "language": "python",
      "name": "python3"
    },
    "language_info": {
      "codemirror_mode": {
        "name": "ipython",
        "version": 3
      },
      "file_extension": ".py",
      "mimetype": "text/x-python",
      "name": "python",
      "nbconvert_exporter": "python",
      "pygments_lexer": "ipython3",
      "version": "3.11.6"
    },
    "latex_envs": {
      "bibliofile": "biblio.bib",
      "cite_by": "apalike",
      "current_citInitial": 1,
      "eqLabelWithNumbers": true,
      "eqNumInitial": 0
    },
    "colab": {
      "provenance": []
    }
  },
  "nbformat": 4,
  "nbformat_minor": 0
}